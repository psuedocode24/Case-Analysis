{
 "cells": [
  {
   "cell_type": "code",
   "execution_count": 42,
   "id": "f40c66a3",
   "metadata": {},
   "outputs": [],
   "source": [
    "# required python libraries for data\n",
    "import numpy as np\n",
    "import pandas as pd\n",
    "import re "
   ]
  },
  {
   "cell_type": "code",
   "execution_count": 4,
   "id": "998404ed",
   "metadata": {},
   "outputs": [
    {
     "data": {
      "text/html": [
       "<div>\n",
       "<style scoped>\n",
       "    .dataframe tbody tr th:only-of-type {\n",
       "        vertical-align: middle;\n",
       "    }\n",
       "\n",
       "    .dataframe tbody tr th {\n",
       "        vertical-align: top;\n",
       "    }\n",
       "\n",
       "    .dataframe thead th {\n",
       "        text-align: right;\n",
       "    }\n",
       "</style>\n",
       "<table border=\"1\" class=\"dataframe\">\n",
       "  <thead>\n",
       "    <tr style=\"text-align: right;\">\n",
       "      <th></th>\n",
       "      <th>ITIN_ID</th>\n",
       "      <th>YEAR</th>\n",
       "      <th>QUARTER</th>\n",
       "      <th>ORIGIN</th>\n",
       "      <th>ORIGIN_COUNTRY</th>\n",
       "      <th>ORIGIN_STATE_ABR</th>\n",
       "      <th>ORIGIN_STATE_NM</th>\n",
       "      <th>ROUNDTRIP</th>\n",
       "      <th>REPORTING_CARRIER</th>\n",
       "      <th>PASSENGERS</th>\n",
       "      <th>ITIN_FARE</th>\n",
       "      <th>DESTINATION</th>\n",
       "    </tr>\n",
       "  </thead>\n",
       "  <tbody>\n",
       "    <tr>\n",
       "      <th>0</th>\n",
       "      <td>201912723049</td>\n",
       "      <td>2019</td>\n",
       "      <td>1</td>\n",
       "      <td>ABI</td>\n",
       "      <td>US</td>\n",
       "      <td>TX</td>\n",
       "      <td>Texas</td>\n",
       "      <td>1.0</td>\n",
       "      <td>MQ</td>\n",
       "      <td>1.0</td>\n",
       "      <td>736.0</td>\n",
       "      <td>DAB</td>\n",
       "    </tr>\n",
       "    <tr>\n",
       "      <th>1</th>\n",
       "      <td>201912723085</td>\n",
       "      <td>2019</td>\n",
       "      <td>1</td>\n",
       "      <td>ABI</td>\n",
       "      <td>US</td>\n",
       "      <td>TX</td>\n",
       "      <td>Texas</td>\n",
       "      <td>1.0</td>\n",
       "      <td>MQ</td>\n",
       "      <td>1.0</td>\n",
       "      <td>570.0</td>\n",
       "      <td>COS</td>\n",
       "    </tr>\n",
       "    <tr>\n",
       "      <th>2</th>\n",
       "      <td>201912723491</td>\n",
       "      <td>2019</td>\n",
       "      <td>1</td>\n",
       "      <td>ABI</td>\n",
       "      <td>US</td>\n",
       "      <td>TX</td>\n",
       "      <td>Texas</td>\n",
       "      <td>1.0</td>\n",
       "      <td>MQ</td>\n",
       "      <td>1.0</td>\n",
       "      <td>564.0</td>\n",
       "      <td>MCO</td>\n",
       "    </tr>\n",
       "    <tr>\n",
       "      <th>3</th>\n",
       "      <td>201912723428</td>\n",
       "      <td>2019</td>\n",
       "      <td>1</td>\n",
       "      <td>ABI</td>\n",
       "      <td>US</td>\n",
       "      <td>TX</td>\n",
       "      <td>Texas</td>\n",
       "      <td>1.0</td>\n",
       "      <td>MQ</td>\n",
       "      <td>1.0</td>\n",
       "      <td>345.0</td>\n",
       "      <td>LGA</td>\n",
       "    </tr>\n",
       "    <tr>\n",
       "      <th>4</th>\n",
       "      <td>201912723509</td>\n",
       "      <td>2019</td>\n",
       "      <td>1</td>\n",
       "      <td>ABI</td>\n",
       "      <td>US</td>\n",
       "      <td>TX</td>\n",
       "      <td>Texas</td>\n",
       "      <td>0.0</td>\n",
       "      <td>MQ</td>\n",
       "      <td>1.0</td>\n",
       "      <td>309.0</td>\n",
       "      <td>MGM</td>\n",
       "    </tr>\n",
       "  </tbody>\n",
       "</table>\n",
       "</div>"
      ],
      "text/plain": [
       "        ITIN_ID  YEAR  QUARTER ORIGIN ORIGIN_COUNTRY ORIGIN_STATE_ABR  \\\n",
       "0  201912723049  2019        1    ABI             US               TX   \n",
       "1  201912723085  2019        1    ABI             US               TX   \n",
       "2  201912723491  2019        1    ABI             US               TX   \n",
       "3  201912723428  2019        1    ABI             US               TX   \n",
       "4  201912723509  2019        1    ABI             US               TX   \n",
       "\n",
       "  ORIGIN_STATE_NM  ROUNDTRIP REPORTING_CARRIER  PASSENGERS ITIN_FARE  \\\n",
       "0           Texas        1.0                MQ         1.0     736.0   \n",
       "1           Texas        1.0                MQ         1.0     570.0   \n",
       "2           Texas        1.0                MQ         1.0     564.0   \n",
       "3           Texas        1.0                MQ         1.0     345.0   \n",
       "4           Texas        0.0                MQ         1.0     309.0   \n",
       "\n",
       "  DESTINATION  \n",
       "0         DAB  \n",
       "1         COS  \n",
       "2         MCO  \n",
       "3         LGA  \n",
       "4         MGM  "
      ]
     },
     "execution_count": 4,
     "metadata": {},
     "output_type": "execute_result"
    }
   ],
   "source": [
    "# import dataset and read the data\n",
    "tickets_df = pd.read_csv(\"Tickets.csv\")\n",
    "# Taking a backup of the original data\n",
    "tickets_backup = tickets_df.copy()\n",
    "# head returns the first 5 rows of the Tickets.csv data to get an idea of the data\n",
    "tickets_df.head(5) "
   ]
  },
  {
   "cell_type": "code",
   "execution_count": 7,
   "id": "5ac86332",
   "metadata": {},
   "outputs": [
    {
     "data": {
      "text/plain": [
       "array([      0,       1,       2, ..., 1167282, 1167283, 1167284])"
      ]
     },
     "execution_count": 7,
     "metadata": {},
     "output_type": "execute_result"
    }
   ],
   "source": [
    "# understand the shape of the dataset with the no. of rows and cols\n",
    "tickets_df.shape\n",
    "# checking for index\n",
    "tickets_df.index.values"
   ]
  },
  {
   "cell_type": "code",
   "execution_count": 13,
   "id": "6c22a780",
   "metadata": {},
   "outputs": [
    {
     "name": "stdout",
     "output_type": "stream",
     "text": [
      "<class 'pandas.core.frame.DataFrame'>\n",
      "RangeIndex: 1167285 entries, 0 to 1167284\n",
      "Data columns (total 12 columns):\n",
      " #   Column             Non-Null Count    Dtype  \n",
      "---  ------             --------------    -----  \n",
      " 0   ITIN_ID            1167285 non-null  int64  \n",
      " 1   YEAR               1167285 non-null  int64  \n",
      " 2   QUARTER            1167285 non-null  int64  \n",
      " 3   ORIGIN             1167285 non-null  object \n",
      " 4   ORIGIN_COUNTRY     1167285 non-null  object \n",
      " 5   ORIGIN_STATE_ABR   1167285 non-null  object \n",
      " 6   ORIGIN_STATE_NM    1167285 non-null  object \n",
      " 7   ROUNDTRIP          1167285 non-null  float64\n",
      " 8   REPORTING_CARRIER  1167285 non-null  object \n",
      " 9   PASSENGERS         1165308 non-null  float64\n",
      " 10  ITIN_FARE          1166325 non-null  object \n",
      " 11  DESTINATION        1167285 non-null  object \n",
      "dtypes: float64(2), int64(3), object(7)\n",
      "memory usage: 106.9+ MB\n"
     ]
    }
   ],
   "source": [
    "# Print the information, shape and data type for the data frame\n",
    "tickets_df.info()"
   ]
  },
  {
   "cell_type": "code",
   "execution_count": 21,
   "id": "261e08ed",
   "metadata": {},
   "outputs": [],
   "source": [
    "# Excluding cols that are unnecessary to the dataset\n",
    "drop_cols = ['ITIN_ID','YEAR','QUARTER','ORIGIN_COUNTRY','ORIGIN_STATE_NM']\n",
    "tickets = tickets_df.drop(drop_cols, axis = 1)"
   ]
  },
  {
   "cell_type": "code",
   "execution_count": 22,
   "id": "cd1f15f4",
   "metadata": {},
   "outputs": [
    {
     "data": {
      "text/plain": [
       "ORIGIN                419\n",
       "ORIGIN_STATE_ABR       52\n",
       "ROUNDTRIP               2\n",
       "REPORTING_CARRIER      21\n",
       "PASSENGERS            286\n",
       "ITIN_FARE            3791\n",
       "DESTINATION           410\n",
       "dtype: int64"
      ]
     },
     "execution_count": 22,
     "metadata": {},
     "output_type": "execute_result"
    }
   ],
   "source": [
    "# Determine the count of unique values in each col in the data frame\n",
    "tickets.nunique()"
   ]
  },
  {
   "cell_type": "code",
   "execution_count": 31,
   "id": "bbc0ded1",
   "metadata": {},
   "outputs": [
    {
     "data": {
      "text/plain": [
       "ORIGIN                  0\n",
       "ORIGIN_STATE_ABR        0\n",
       "ROUNDTRIP               0\n",
       "REPORTING_CARRIER       0\n",
       "PASSENGERS           1977\n",
       "ITIN_FARE             960\n",
       "DESTINATION             0\n",
       "dtype: int64"
      ]
     },
     "execution_count": 31,
     "metadata": {},
     "output_type": "execute_result"
    }
   ],
   "source": [
    "# Checking any rows are missing any data\n",
    "tickets.isnull().sum()"
   ]
  },
  {
   "cell_type": "code",
   "execution_count": 86,
   "id": "d824f95e",
   "metadata": {},
   "outputs": [
    {
     "data": {
      "text/plain": [
       "0          False\n",
       "1          False\n",
       "2          False\n",
       "3          False\n",
       "4          False\n",
       "           ...  \n",
       "1167280    False\n",
       "1167281    False\n",
       "1167282    False\n",
       "1167283    False\n",
       "1167284    False\n",
       "Name: ITIN_FARE, Length: 1167285, dtype: bool"
      ]
     },
     "execution_count": 86,
     "metadata": {},
     "output_type": "execute_result"
    }
   ],
   "source": [
    "# Function to remove random characters in cols\n",
    " def clean_value(value):\n",
    "     return re.sub(r'[^0-9]+','', str(value))\n",
    "\n",
    "tickets['ITIN_FARE'] = tickets['ITIN_FARE'].apply(lambda x: clean_value(x))\n"
   ]
  },
  {
   "cell_type": "code",
   "execution_count": 48,
   "id": "fc88ad5d",
   "metadata": {},
   "outputs": [],
   "source": [
    "# Filling the missing values in the Passengers and ITIN FARES\n",
    "tickets = tickets.fillna(0)"
   ]
  },
  {
   "cell_type": "code",
   "execution_count": 57,
   "id": "86935ace",
   "metadata": {},
   "outputs": [],
   "source": [
    "# As it can be seen from the information above:\n",
    "# Roundtrip col comprising of 0 and 1 should be converted to type bool from type float\n",
    "# Passengers col being of type float does not make sense and should be converted to type int\n",
    "# Iternary fare col is of type object which does not make sense as it describes fare and should be converted to type float\n",
    "# implementing these conversions\n",
    "\n",
    "tickets.astype({'ROUNDTRIP':'bool'})\n",
    "tickets['PASSENGERS'] = tickets['PASSENGERS'].astype('int64')\n",
    "tickets['ITIN_FARE'] = tickets['ITIN_FARE'].astype('float64')"
   ]
  },
  {
   "cell_type": "code",
   "execution_count": 59,
   "id": "76a69885",
   "metadata": {},
   "outputs": [
    {
     "data": {
      "text/plain": [
       "0.0    1167285\n",
       "Name: ITIN_FARE, dtype: int64"
      ]
     },
     "execution_count": 59,
     "metadata": {},
     "output_type": "execute_result"
    }
   ],
   "source": [
    "tickets['ITIN_FARE2'].value_counts()\n"
   ]
  }
 ],
 "metadata": {
  "kernelspec": {
   "display_name": "Python 3",
   "language": "python",
   "name": "python3"
  },
  "language_info": {
   "codemirror_mode": {
    "name": "ipython",
    "version": 3
   },
   "file_extension": ".py",
   "mimetype": "text/x-python",
   "name": "python",
   "nbconvert_exporter": "python",
   "pygments_lexer": "ipython3",
   "version": "3.8.8"
  }
 },
 "nbformat": 4,
 "nbformat_minor": 5
}
