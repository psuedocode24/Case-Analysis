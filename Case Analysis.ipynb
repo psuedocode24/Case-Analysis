{
 "cells": [
  {
   "cell_type": "markdown",
   "id": "b2d44523",
   "metadata": {
    "toc": true
   },
   "source": [
    "<h1>Index<span class=\"tocSkip\"></span></h1>\n",
    "<div class=\"toc\"><ul class=\"toc-item\"><li><span><a href=\"#Case-Analysis\" data-toc-modified-id=\"Case-Analysis-1\"><span class=\"toc-item-num\">1&nbsp;&nbsp;</span>Case Analysis</a></span><ul class=\"toc-item\"><li><span><a href=\"#Problem-Statement\" data-toc-modified-id=\"Problem-Statement-1.1\"><span class=\"toc-item-num\">1.1&nbsp;&nbsp;</span>Problem Statement</a></span></li><li><span><a href=\"#Data-Sources\" data-toc-modified-id=\"Data-Sources-1.2\"><span class=\"toc-item-num\">1.2&nbsp;&nbsp;</span>Data Sources</a></span></li><li><span><a href=\"#Assumptions\" data-toc-modified-id=\"Assumptions-1.3\"><span class=\"toc-item-num\">1.3&nbsp;&nbsp;</span>Assumptions</a></span></li><li><span><a href=\"#Approach\" data-toc-modified-id=\"Approach-1.4\"><span class=\"toc-item-num\">1.4&nbsp;&nbsp;</span>Approach</a></span></li><li><span><a href=\"#Data-Quality-Check\" data-toc-modified-id=\"Data-Quality-Check-1.5\"><span class=\"toc-item-num\">1.5&nbsp;&nbsp;</span>Data Quality Check</a></span><ul class=\"toc-item\"><li><span><a href=\"#Environment-Setup\" data-toc-modified-id=\"Environment-Setup-1.5.1\"><span class=\"toc-item-num\">1.5.1&nbsp;&nbsp;</span>Environment Setup</a></span></li><li><span><a href=\"#Data-Understanding\" data-toc-modified-id=\"Data-Understanding-1.5.2\"><span class=\"toc-item-num\">1.5.2&nbsp;&nbsp;</span>Data Understanding</a></span><ul class=\"toc-item\"><li><span><a href=\"#1.-Accuracy\" data-toc-modified-id=\"1.-Accuracy-1.5.2.1\"><span class=\"toc-item-num\">1.5.2.1&nbsp;&nbsp;</span>1. Accuracy</a></span></li><li><span><a href=\"#2.-Completeness\" data-toc-modified-id=\"2.-Completeness-1.5.2.2\"><span class=\"toc-item-num\">1.5.2.2&nbsp;&nbsp;</span>2. Completeness</a></span></li></ul></li></ul></li><li><span><a href=\"#Exploring-the-Airport-Codes-data\" data-toc-modified-id=\"Exploring-the-Airport-Codes-data-1.6\"><span class=\"toc-item-num\">1.6&nbsp;&nbsp;</span>Exploring the Airport Codes data</a></span><ul class=\"toc-item\"><li><ul class=\"toc-item\"><li><span><a href=\"#Size-of-the-data\" data-toc-modified-id=\"Size-of-the-data-1.6.0.1\"><span class=\"toc-item-num\">1.6.0.1&nbsp;&nbsp;</span>Size of the data</a></span></li><li><span><a href=\"#Sample-data\" data-toc-modified-id=\"Sample-data-1.6.0.2\"><span class=\"toc-item-num\">1.6.0.2&nbsp;&nbsp;</span>Sample data</a></span></li><li><span><a href=\"#Checking-the-data-types-of-all-columns\" data-toc-modified-id=\"Checking-the-data-types-of-all-columns-1.6.0.3\"><span class=\"toc-item-num\">1.6.0.3&nbsp;&nbsp;</span>Checking the data types of all columns</a></span></li><li><span><a href=\"#Checking-the-null-counts-for-all-columns\" data-toc-modified-id=\"Checking-the-null-counts-for-all-columns-1.6.0.4\"><span class=\"toc-item-num\">1.6.0.4&nbsp;&nbsp;</span>Checking the null counts for all columns</a></span></li><li><span><a href=\"#Plotting-the-missing-values-in-the-Airports-Dataset\" data-toc-modified-id=\"Plotting-the-missing-values-in-the-Airports-Dataset-1.6.0.5\"><span class=\"toc-item-num\">1.6.0.5&nbsp;&nbsp;</span>Plotting the missing values in the Airports Dataset</a></span></li><li><span><a href=\"#Filtering-for-Medium-and-Large-airports\" data-toc-modified-id=\"Filtering-for-Medium-and-Large-airports-1.6.0.6\"><span class=\"toc-item-num\">1.6.0.6&nbsp;&nbsp;</span>Filtering for Medium and Large airports</a></span></li><li><span><a href=\"#Plotting-the-Airport-Types\" data-toc-modified-id=\"Plotting-the-Airport-Types-1.6.0.7\"><span class=\"toc-item-num\">1.6.0.7&nbsp;&nbsp;</span>Plotting the Airport Types</a></span></li><li><span><a href=\"#Examining-the-NULL-value-counts-again-for-the-subset-of-the-data\" data-toc-modified-id=\"Examining-the-NULL-value-counts-again-for-the-subset-of-the-data-1.6.0.8\"><span class=\"toc-item-num\">1.6.0.8&nbsp;&nbsp;</span>Examining the NULL value counts again for the subset of the data</a></span></li><li><span><a href=\"#Filtering-for-US-based-airports\" data-toc-modified-id=\"Filtering-for-US-based-airports-1.6.0.9\"><span class=\"toc-item-num\">1.6.0.9&nbsp;&nbsp;</span>Filtering for US based airports</a></span></li><li><span><a href=\"#Size-of-the-subset\" data-toc-modified-id=\"Size-of-the-subset-1.6.0.10\"><span class=\"toc-item-num\">1.6.0.10&nbsp;&nbsp;</span>Size of the subset</a></span></li><li><span><a href=\"#Checking-for-NULL-IATA-codes\" data-toc-modified-id=\"Checking-for-NULL-IATA-codes-1.6.0.11\"><span class=\"toc-item-num\">1.6.0.11&nbsp;&nbsp;</span>Checking for NULL IATA codes</a></span></li><li><span><a href=\"#We-require-IATA-codes-for-joining-the-data-with-the-ticket-and-the-flight-dataset.-Hence-we-will-drop-the-37-rows-with-NULL-IATA-codes\" data-toc-modified-id=\"We-require-IATA-codes-for-joining-the-data-with-the-ticket-and-the-flight-dataset.-Hence-we-will-drop-the-37-rows-with-NULL-IATA-codes-1.6.0.12\"><span class=\"toc-item-num\">1.6.0.12&nbsp;&nbsp;</span><strong>We require IATA codes for joining the data with the ticket and the flight dataset. Hence we will drop the 37 rows with NULL IATA codes</strong></a></span></li></ul></li></ul></li><li><span><a href=\"#Exploring-the-Tickets-data\" data-toc-modified-id=\"Exploring-the-Tickets-data-1.7\"><span class=\"toc-item-num\">1.7&nbsp;&nbsp;</span>Exploring the Tickets data</a></span><ul class=\"toc-item\"><li><ul class=\"toc-item\"><li><span><a href=\"#Checking-the-dtypes-and-Missing-Value-counts\" data-toc-modified-id=\"Checking-the-dtypes-and-Missing-Value-counts-1.7.0.1\"><span class=\"toc-item-num\">1.7.0.1&nbsp;&nbsp;</span>Checking the dtypes and Missing Value counts</a></span></li><li><span><a href=\"#Filtering-the-data-for-round-trips\" data-toc-modified-id=\"Filtering-the-data-for-round-trips-1.7.0.2\"><span class=\"toc-item-num\">1.7.0.2&nbsp;&nbsp;</span>Filtering the data for round trips</a></span></li><li><span><a href=\"#Filtering-the-tickets-data-for-US-Domestic-Flights\" data-toc-modified-id=\"Filtering-the-tickets-data-for-US-Domestic-Flights-1.7.0.3\"><span class=\"toc-item-num\">1.7.0.3&nbsp;&nbsp;</span>Filtering the tickets data for US Domestic Flights</a></span></li><li><span><a href=\"#Checking-for-missing-values\" data-toc-modified-id=\"Checking-for-missing-values-1.7.0.4\"><span class=\"toc-item-num\">1.7.0.4&nbsp;&nbsp;</span>Checking for missing values</a></span></li><li><span><a href=\"#Data-Quality-Issue\" data-toc-modified-id=\"Data-Quality-Issue-1.7.0.5\"><span class=\"toc-item-num\">1.7.0.5&nbsp;&nbsp;</span>Data Quality Issue</a></span></li><li><span><a href=\"#Defining-a-new-column-'TRIP'-that-corresponds-to-the-round-trip-between-ORIGIN-and-the-DESTINATION-column\" data-toc-modified-id=\"Defining-a-new-column-'TRIP'-that-corresponds-to-the-round-trip-between-ORIGIN-and-the-DESTINATION-column-1.7.0.6\"><span class=\"toc-item-num\">1.7.0.6&nbsp;&nbsp;</span>Defining a new column 'TRIP' that corresponds to the round trip between ORIGIN and the DESTINATION column</a></span></li><li><span><a href=\"#Outlier-Detection\" data-toc-modified-id=\"Outlier-Detection-1.7.0.7\"><span class=\"toc-item-num\">1.7.0.7&nbsp;&nbsp;</span>Outlier Detection</a></span></li><li><span><a href=\"#Removing-the-outliers-in-the-tickets-data\" data-toc-modified-id=\"Removing-the-outliers-in-the-tickets-data-1.7.0.8\"><span class=\"toc-item-num\">1.7.0.8&nbsp;&nbsp;</span>Removing the outliers in the tickets data</a></span></li><li><span><a href=\"#We-can-see-that-the-fares-on-average-cost-~500-USD.-With-most-of-the-airlines-charging-roughly-the-same-amount-for-a-round-trip-except-the-airlines-that-have-either-monopoly-operating-in-a-particular-region-or-are-cost-efficient-like-Frontier-Airlines(F9),-Spirit-Airlines(NK),-Compass-Airlines(CP),-Horizon-Air(QX),-Southwest-Airlines(WN),-Sky-West-Airlines(SY),-Hawaiian-Airlines(HA)-and-Allegiant-Air(G4).\" data-toc-modified-id=\"We-can-see-that-the-fares-on-average-cost-~500-USD.-With-most-of-the-airlines-charging-roughly-the-same-amount-for-a-round-trip-except-the-airlines-that-have-either-monopoly-operating-in-a-particular-region-or-are-cost-efficient-like-Frontier-Airlines(F9),-Spirit-Airlines(NK),-Compass-Airlines(CP),-Horizon-Air(QX),-Southwest-Airlines(WN),-Sky-West-Airlines(SY),-Hawaiian-Airlines(HA)-and-Allegiant-Air(G4).-1.7.0.9\"><span class=\"toc-item-num\">1.7.0.9&nbsp;&nbsp;</span>We can see that the fares on average cost ~500 USD. With most of the airlines charging roughly the same amount for a round-trip except the airlines that have either monopoly operating in a particular region or are cost efficient like Frontier Airlines(F9), Spirit Airlines(NK), Compass Airlines(CP), Horizon Air(QX), Southwest Airlines(WN), Sky West Airlines(SY), Hawaiian Airlines(HA) and Allegiant Air(G4).</a></span></li></ul></li></ul></li><li><span><a href=\"#Exploring-the-Flights-Data\" data-toc-modified-id=\"Exploring-the-Flights-Data-1.8\"><span class=\"toc-item-num\">1.8&nbsp;&nbsp;</span>Exploring the Flights Data</a></span><ul class=\"toc-item\"><li><ul class=\"toc-item\"><li><span><a href=\"#Size-of-the-data\" data-toc-modified-id=\"Size-of-the-data-1.8.0.1\"><span class=\"toc-item-num\">1.8.0.1&nbsp;&nbsp;</span>Size of the data</a></span></li><li><span><a href=\"#Sample-of-the-data\" data-toc-modified-id=\"Sample-of-the-data-1.8.0.2\"><span class=\"toc-item-num\">1.8.0.2&nbsp;&nbsp;</span>Sample of the data</a></span></li><li><span><a href=\"#Checking-the-data-types-and-missing-value-counts\" data-toc-modified-id=\"Checking-the-data-types-and-missing-value-counts-1.8.0.3\"><span class=\"toc-item-num\">1.8.0.3&nbsp;&nbsp;</span>Checking the data types and missing value counts</a></span></li><li><span><a href=\"#Data-Quality-Issue:\" data-toc-modified-id=\"Data-Quality-Issue:-1.8.0.4\"><span class=\"toc-item-num\">1.8.0.4&nbsp;&nbsp;</span>Data Quality Issue:</a></span></li><li><span><a href=\"#Checking-the-distribution-of-cancelled-flights\" data-toc-modified-id=\"Checking-the-distribution-of-cancelled-flights-1.8.0.5\"><span class=\"toc-item-num\">1.8.0.5&nbsp;&nbsp;</span>Checking the distribution of cancelled flights</a></span></li><li><span><a href=\"#Filtering-the-CANCELLED-flights\" data-toc-modified-id=\"Filtering-the-CANCELLED-flights-1.8.0.6\"><span class=\"toc-item-num\">1.8.0.6&nbsp;&nbsp;</span>Filtering the CANCELLED flights</a></span></li><li><span><a href=\"#FILTERING-the-ORIGIN-and-DESTINATION-and-MERGING-the-AIRPORT-data\" data-toc-modified-id=\"FILTERING-the-ORIGIN-and-DESTINATION-and-MERGING-the-AIRPORT-data-1.8.0.7\"><span class=\"toc-item-num\">1.8.0.7&nbsp;&nbsp;</span>FILTERING the ORIGIN and DESTINATION and MERGING the AIRPORT data</a></span></li></ul></li><li><span><a href=\"#Pre-processing-and-cleaning-the-flights-data\" data-toc-modified-id=\"Pre-processing-and-cleaning-the-flights-data-1.8.1\"><span class=\"toc-item-num\">1.8.1&nbsp;&nbsp;</span>Pre-processing and cleaning the flights data</a></span><ul class=\"toc-item\"><li><span><a href=\"#Dtype-Correction\" data-toc-modified-id=\"Dtype-Correction-1.8.1.1\"><span class=\"toc-item-num\">1.8.1.1&nbsp;&nbsp;</span>Dtype Correction</a></span></li><li><span><a href=\"#Outlier-Detection\" data-toc-modified-id=\"Outlier-Detection-1.8.1.2\"><span class=\"toc-item-num\">1.8.1.2&nbsp;&nbsp;</span>Outlier Detection</a></span></li><li><span><a href=\"#Removing-outliers\" data-toc-modified-id=\"Removing-outliers-1.8.1.3\"><span class=\"toc-item-num\">1.8.1.3&nbsp;&nbsp;</span>Removing outliers</a></span></li><li><span><a href=\"#Missing-value-treatment\" data-toc-modified-id=\"Missing-value-treatment-1.8.1.4\"><span class=\"toc-item-num\">1.8.1.4&nbsp;&nbsp;</span>Missing value treatment</a></span></li><li><span><a href=\"#Checking-for-missing-values-in-the-aggregare-data\" data-toc-modified-id=\"Checking-for-missing-values-in-the-aggregare-data-1.8.1.5\"><span class=\"toc-item-num\">1.8.1.5&nbsp;&nbsp;</span>Checking for missing values in the aggregare data</a></span></li></ul></li></ul></li></ul></li><li><span><a href=\"#Defining-the-Metrics\" data-toc-modified-id=\"Defining-the-Metrics-2\"><span class=\"toc-item-num\">2&nbsp;&nbsp;</span>Defining the Metrics</a></span><ul class=\"toc-item\"><li><span><a href=\"#Calculating-the-cost\" data-toc-modified-id=\"Calculating-the-cost-2.1\"><span class=\"toc-item-num\">2.1&nbsp;&nbsp;</span>Calculating the cost</a></span><ul class=\"toc-item\"><li><span><a href=\"#Adding-base-costs-to-the-airport-data\" data-toc-modified-id=\"Adding-base-costs-to-the-airport-data-2.1.1\"><span class=\"toc-item-num\">2.1.1&nbsp;&nbsp;</span>Adding base costs to the airport data</a></span></li><li><span><a href=\"#Adding-late-cost-and-misc-cost-to-the-flights-data\" data-toc-modified-id=\"Adding-late-cost-and-misc-cost-to-the-flights-data-2.1.2\"><span class=\"toc-item-num\">2.1.2&nbsp;&nbsp;</span>Adding late cost and misc cost to the flights data</a></span><ul class=\"toc-item\"><li><span><a href=\"#Aggregating-the-flight-data\" data-toc-modified-id=\"Aggregating-the-flight-data-2.1.2.1\"><span class=\"toc-item-num\">2.1.2.1&nbsp;&nbsp;</span>Aggregating the flight data</a></span></li><li><span><a href=\"#Outlier-Detection\" data-toc-modified-id=\"Outlier-Detection-2.1.2.2\"><span class=\"toc-item-num\">2.1.2.2&nbsp;&nbsp;</span>Outlier Detection</a></span></li></ul></li></ul></li><li><span><a href=\"#Revenue-Metrics\" data-toc-modified-id=\"Revenue-Metrics-2.2\"><span class=\"toc-item-num\">2.2&nbsp;&nbsp;</span>Revenue Metrics</a></span><ul class=\"toc-item\"><li><span><a href=\"#Data-Munging\" data-toc-modified-id=\"Data-Munging-2.2.1\"><span class=\"toc-item-num\">2.2.1&nbsp;&nbsp;</span>Data Munging</a></span><ul class=\"toc-item\"><li><span><a href=\"#Outlier-Detection\" data-toc-modified-id=\"Outlier-Detection-2.2.1.1\"><span class=\"toc-item-num\">2.2.1.1&nbsp;&nbsp;</span>Outlier Detection</a></span></li></ul></li></ul></li><li><span><a href=\"#Summarizing-Insights\" data-toc-modified-id=\"Summarizing-Insights-2.3\"><span class=\"toc-item-num\">2.3&nbsp;&nbsp;</span>Summarizing Insights</a></span><ul class=\"toc-item\"><li><ul class=\"toc-item\"><li><span><a href=\"#Checking-the-late-%-for-the-above-subset-of-flights\" data-toc-modified-id=\"Checking-the-late-%-for-the-above-subset-of-flights-2.3.0.1\"><span class=\"toc-item-num\">2.3.0.1&nbsp;&nbsp;</span>Checking the late % for the above subset of flights</a></span></li></ul></li><li><span><a href=\"#Preprocessing-for-Visualization\" data-toc-modified-id=\"Preprocessing-for-Visualization-2.3.1\"><span class=\"toc-item-num\">2.3.1&nbsp;&nbsp;</span>Preprocessing for Visualization</a></span></li><li><span><a href=\"#1.-Top-10-Busiest-round-trips-in-terms-of-number-of-flights-in-a-quarter\" data-toc-modified-id=\"1.-Top-10-Busiest-round-trips-in-terms-of-number-of-flights-in-a-quarter-2.3.2\"><span class=\"toc-item-num\">2.3.2&nbsp;&nbsp;</span>1. Top 10 Busiest round trips in terms of number of flights in a quarter</a></span></li><li><span><a href=\"#2.-Top-10-Profitable-round-trips-in-terms-of-total-profit-in-a-quarter\" data-toc-modified-id=\"2.-Top-10-Profitable-round-trips-in-terms-of-total-profit-in-a-quarter-2.3.3\"><span class=\"toc-item-num\">2.3.3&nbsp;&nbsp;</span>2. Top 10 Profitable round trips in terms of total profit in a quarter</a></span><ul class=\"toc-item\"><li><span><a href=\"#Summary-Cols\" data-toc-modified-id=\"Summary-Cols-2.3.3.1\"><span class=\"toc-item-num\">2.3.3.1&nbsp;&nbsp;</span>Summary Cols</a></span></li></ul></li><li><span><a href=\"#3.-Recommendation\" data-toc-modified-id=\"3.-Recommendation-2.3.4\"><span class=\"toc-item-num\">2.3.4&nbsp;&nbsp;</span>3. Recommendation</a></span><ul class=\"toc-item\"><li><span><a href=\"#Recommended-round-trips\" data-toc-modified-id=\"Recommended-round-trips-2.3.4.1\"><span class=\"toc-item-num\">2.3.4.1&nbsp;&nbsp;</span>Recommended round trips</a></span></li></ul></li><li><span><a href=\"#4.-Number-of-flights-to-breakeven\" data-toc-modified-id=\"4.-Number-of-flights-to-breakeven-2.3.5\"><span class=\"toc-item-num\">2.3.5&nbsp;&nbsp;</span>4. Number of flights to breakeven</a></span><ul class=\"toc-item\"><li><span><a href=\"#Time-taken-to-breakeven\" data-toc-modified-id=\"Time-taken-to-breakeven-2.3.5.1\"><span class=\"toc-item-num\">2.3.5.1&nbsp;&nbsp;</span>Time taken to breakeven</a></span></li></ul></li><li><span><a href=\"#5.-KPI's-to-track-for-future\" data-toc-modified-id=\"5.-KPI's-to-track-for-future-2.3.6\"><span class=\"toc-item-num\">2.3.6&nbsp;&nbsp;</span>5. KPI's to track for future</a></span></li><li><span><a href=\"#What's-next?\" data-toc-modified-id=\"What's-next?-2.3.7\"><span class=\"toc-item-num\">2.3.7&nbsp;&nbsp;</span>What's next?</a></span></li></ul></li></ul></li></ul></div>"
   ]
  },
  {
   "cell_type": "markdown",
   "id": "8621d0c1",
   "metadata": {},
   "source": [
    "# Case Analysis"
   ]
  },
  {
   "cell_type": "markdown",
   "id": "e7dadfc9",
   "metadata": {},
   "source": [
    "****Ashi Malik****\n",
    "\n",
    "03/21/2022"
   ]
  },
  {
   "cell_type": "markdown",
   "id": "41479784",
   "metadata": {},
   "source": [
    "## Problem Statement"
   ]
  },
  {
   "cell_type": "markdown",
   "id": "ba4d2f90",
   "metadata": {},
   "source": [
    "An airline firm is looking to enter the US domestic airline market. The company has already decided to begin with 5 round trips between medium and large US airports. \n",
    "\n",
    "Keeping the brand motto in mind \"On Time, for you\" as a consultant we need to build a data product with supportive conclusions as to which 5 round trips route are best investment options for entering the domestic airline market in US."
   ]
  },
  {
   "cell_type": "markdown",
   "id": "74865abb",
   "metadata": {},
   "source": [
    "## Data Sources"
   ]
  },
  {
   "cell_type": "markdown",
   "id": "aad44fdc",
   "metadata": {},
   "source": [
    "There are three data sources:\n",
    "\n",
    "1.  Tickets dataset provides information on the ticket prices.\n",
    "2.  Airports dataset provides information whether an airport is considered medium or large sized. \n",
    "3.  Flights dataset provdies information the available routes from origin to destination."
   ]
  },
  {
   "cell_type": "markdown",
   "id": "afdcdbc1",
   "metadata": {},
   "source": [
    "## Assumptions"
   ]
  },
  {
   "cell_type": "markdown",
   "id": "fd3ad88e",
   "metadata": {},
   "source": [
    "1. All carriers are given equal importance. \n",
    "2. The time value of ticket price per passenger is 0%(i.e $1 today is the same worth as 100 years from now )\n",
    "3. Flights that have monopoly in a specific route is ignored from being considered as a prospective candidate in the best routes for instance Hawian Airlines."
   ]
  },
  {
   "cell_type": "markdown",
   "id": "65d52ae8",
   "metadata": {},
   "source": [
    "## Approach\n",
    "\n",
    "Since we are using data to solve a business problem, let’s keep the following framework in mind while approaching the problem:\n",
    "\n",
    "1. No Hardcoding: The analysis should be reusable for a new prospective route or a different kind of airport type.\n",
    "\n",
    "2. Business Understanding: The goal is to select best flight roundtrip routes to maximize profits and hence, all factors needed to evaluate the same should be critically analyzed.\n",
    "\n",
    "3. Data Understanding: All variables should be clearly understood and only the ones pertinent to the problem should be selected and cleaned for analysis.\n",
    "\n",
    "4. Assumptions: All assumptions in addition to the ones already mentioned should be backed by data/reasoning from external sources or derived from existing assumptions.\n",
    "\n",
    "5. Profitability Metrics: Based on available data, profitability metrics should be defined and visualized to aid decision making."
   ]
  },
  {
   "cell_type": "markdown",
   "id": "0e542626",
   "metadata": {},
   "source": [
    "## Data Quality Check"
   ]
  },
  {
   "cell_type": "markdown",
   "id": "3dfdc999",
   "metadata": {},
   "source": [
    "### Environment Setup"
   ]
  },
  {
   "cell_type": "markdown",
   "id": "0ed089fa",
   "metadata": {},
   "source": [
    "Importing the required packages for our analysis"
   ]
  },
  {
   "cell_type": "code",
   "execution_count": 137,
   "id": "f9009038",
   "metadata": {},
   "outputs": [],
   "source": [
    "# Pandas Version 1.2.4\n",
    "import pandas as pd\n",
    "# Numpy Version 1.20.1\n",
    "import numpy as np\n",
    "# Regex Version as 2.2.1\n",
    "import re\n",
    "# Seaborn Version as 0.11.1\n",
    "import seaborn as sns\n",
    "# what is this warnings?\n",
    "import warnings\n",
    "# MissingNo Version 0.4.2\n",
    "import missingno as msno\n",
    "warnings.filterwarnings(\"ignore\")\n",
    "import plotly.graph_objects as go\n",
    "\n",
    "from matplotlib import pyplot as plt\n",
    "\n",
    "# Setting maximum number of rows and columns to display in the notebook\n",
    "pd.set_option('display.max_rows', 5000)\n",
    "pd.set_option('display.max_columns', 500)\n",
    "\n",
    "sns.set(rc={'figure.figsize':(15,8)})"
   ]
  },
  {
   "cell_type": "markdown",
   "id": "3e631896",
   "metadata": {},
   "source": [
    "### Data Understanding"
   ]
  },
  {
   "cell_type": "markdown",
   "id": "1bf874a5",
   "metadata": {},
   "source": [
    "Two important criteria for checking the quality of data in this context are:\n",
    "\n",
    "#### 1. Accuracy\n",
    "\n",
    "The values present in all columns should be accurate.\n",
    "\n",
    "#### 2. Completeness\n",
    "\n",
    "The data should not have any missing values.\n",
    "\n",
    "Before we begin the quality check, lets ensure we only use data needed for the scope of the problem."
   ]
  },
  {
   "cell_type": "markdown",
   "id": "613564ea",
   "metadata": {},
   "source": [
    "## Exploring the Airport Codes data"
   ]
  },
  {
   "cell_type": "markdown",
   "id": "30945ea5",
   "metadata": {},
   "source": [
    "Airports Codes Dataset: Exploring the dataset"
   ]
  },
  {
   "cell_type": "code",
   "execution_count": 138,
   "id": "b0b9a3c7",
   "metadata": {},
   "outputs": [],
   "source": [
    "# Reading the Airport_Codes.csv file\n",
    "airports = pd.read_csv('Airport_Codes.csv')"
   ]
  },
  {
   "cell_type": "markdown",
   "id": "fb104564",
   "metadata": {},
   "source": [
    "#### Size of the data"
   ]
  },
  {
   "cell_type": "code",
   "execution_count": 139,
   "id": "ff820c39",
   "metadata": {},
   "outputs": [
    {
     "data": {
      "text/plain": [
       "(55369, 8)"
      ]
     },
     "execution_count": 139,
     "metadata": {},
     "output_type": "execute_result"
    }
   ],
   "source": [
    "airports.shape"
   ]
  },
  {
   "cell_type": "markdown",
   "id": "9744a639",
   "metadata": {},
   "source": [
    "We have data corresponding to 55369 airports assuming each row corresponds to a unique airport and the consistency is maintained."
   ]
  },
  {
   "cell_type": "markdown",
   "id": "336898b7",
   "metadata": {},
   "source": [
    "#### Sample data"
   ]
  },
  {
   "cell_type": "code",
   "execution_count": 140,
   "id": "3fdaf7bb",
   "metadata": {},
   "outputs": [
    {
     "data": {
      "text/html": [
       "<div>\n",
       "<style scoped>\n",
       "    .dataframe tbody tr th:only-of-type {\n",
       "        vertical-align: middle;\n",
       "    }\n",
       "\n",
       "    .dataframe tbody tr th {\n",
       "        vertical-align: top;\n",
       "    }\n",
       "\n",
       "    .dataframe thead th {\n",
       "        text-align: right;\n",
       "    }\n",
       "</style>\n",
       "<table border=\"1\" class=\"dataframe\">\n",
       "  <thead>\n",
       "    <tr style=\"text-align: right;\">\n",
       "      <th></th>\n",
       "      <th>TYPE</th>\n",
       "      <th>NAME</th>\n",
       "      <th>ELEVATION_FT</th>\n",
       "      <th>CONTINENT</th>\n",
       "      <th>ISO_COUNTRY</th>\n",
       "      <th>MUNICIPALITY</th>\n",
       "      <th>IATA_CODE</th>\n",
       "      <th>COORDINATES</th>\n",
       "    </tr>\n",
       "  </thead>\n",
       "  <tbody>\n",
       "    <tr>\n",
       "      <th>0</th>\n",
       "      <td>heliport</td>\n",
       "      <td>Total Rf Heliport</td>\n",
       "      <td>11.0</td>\n",
       "      <td>NaN</td>\n",
       "      <td>US</td>\n",
       "      <td>Bensalem</td>\n",
       "      <td>NaN</td>\n",
       "      <td>-74.93360137939453, 40.07080078125</td>\n",
       "    </tr>\n",
       "    <tr>\n",
       "      <th>1</th>\n",
       "      <td>small_airport</td>\n",
       "      <td>Aero B Ranch Airport</td>\n",
       "      <td>3435.0</td>\n",
       "      <td>NaN</td>\n",
       "      <td>US</td>\n",
       "      <td>Leoti</td>\n",
       "      <td>NaN</td>\n",
       "      <td>-101.473911, 38.704022</td>\n",
       "    </tr>\n",
       "    <tr>\n",
       "      <th>2</th>\n",
       "      <td>small_airport</td>\n",
       "      <td>Lowell Field</td>\n",
       "      <td>450.0</td>\n",
       "      <td>NaN</td>\n",
       "      <td>US</td>\n",
       "      <td>Anchor Point</td>\n",
       "      <td>NaN</td>\n",
       "      <td>-151.695999146, 59.94919968</td>\n",
       "    </tr>\n",
       "    <tr>\n",
       "      <th>3</th>\n",
       "      <td>small_airport</td>\n",
       "      <td>Epps Airpark</td>\n",
       "      <td>820.0</td>\n",
       "      <td>NaN</td>\n",
       "      <td>US</td>\n",
       "      <td>Harvest</td>\n",
       "      <td>NaN</td>\n",
       "      <td>-86.77030181884766, 34.86479949951172</td>\n",
       "    </tr>\n",
       "    <tr>\n",
       "      <th>4</th>\n",
       "      <td>closed</td>\n",
       "      <td>Newport Hospital &amp; Clinic Heliport</td>\n",
       "      <td>237.0</td>\n",
       "      <td>NaN</td>\n",
       "      <td>US</td>\n",
       "      <td>Newport</td>\n",
       "      <td>NaN</td>\n",
       "      <td>-91.254898, 35.6087</td>\n",
       "    </tr>\n",
       "  </tbody>\n",
       "</table>\n",
       "</div>"
      ],
      "text/plain": [
       "            TYPE                                NAME  ELEVATION_FT CONTINENT  \\\n",
       "0       heliport                   Total Rf Heliport          11.0       NaN   \n",
       "1  small_airport                Aero B Ranch Airport        3435.0       NaN   \n",
       "2  small_airport                        Lowell Field         450.0       NaN   \n",
       "3  small_airport                        Epps Airpark         820.0       NaN   \n",
       "4         closed  Newport Hospital & Clinic Heliport         237.0       NaN   \n",
       "\n",
       "  ISO_COUNTRY  MUNICIPALITY IATA_CODE                            COORDINATES  \n",
       "0          US      Bensalem       NaN     -74.93360137939453, 40.07080078125  \n",
       "1          US         Leoti       NaN                 -101.473911, 38.704022  \n",
       "2          US  Anchor Point       NaN            -151.695999146, 59.94919968  \n",
       "3          US       Harvest       NaN  -86.77030181884766, 34.86479949951172  \n",
       "4          US       Newport       NaN                    -91.254898, 35.6087  "
      ]
     },
     "execution_count": 140,
     "metadata": {},
     "output_type": "execute_result"
    }
   ],
   "source": [
    "airports.head()"
   ]
  },
  {
   "cell_type": "markdown",
   "id": "755fae4e",
   "metadata": {},
   "source": [
    "The airports data consists of five columns as shown in the sample dataset."
   ]
  },
  {
   "cell_type": "markdown",
   "id": "de805fd0",
   "metadata": {},
   "source": [
    "#### Checking the data types of all columns"
   ]
  },
  {
   "cell_type": "code",
   "execution_count": 141,
   "id": "baa6767f",
   "metadata": {},
   "outputs": [
    {
     "data": {
      "text/plain": [
       "TYPE             object\n",
       "NAME             object\n",
       "ELEVATION_FT    float64\n",
       "CONTINENT        object\n",
       "ISO_COUNTRY      object\n",
       "MUNICIPALITY     object\n",
       "IATA_CODE        object\n",
       "COORDINATES      object\n",
       "dtype: object"
      ]
     },
     "execution_count": 141,
     "metadata": {},
     "output_type": "execute_result"
    }
   ],
   "source": [
    "airports.dtypes"
   ]
  },
  {
   "cell_type": "markdown",
   "id": "99f5552f",
   "metadata": {},
   "source": [
    "The data types of all the columns are rightly aligned and need no type conversion."
   ]
  },
  {
   "cell_type": "markdown",
   "id": "6488a6c5",
   "metadata": {},
   "source": [
    "#### Checking the null counts for all columns"
   ]
  },
  {
   "cell_type": "code",
   "execution_count": 142,
   "id": "d1424e18",
   "metadata": {},
   "outputs": [
    {
     "data": {
      "text/plain": [
       "TYPE                0\n",
       "NAME                0\n",
       "ELEVATION_FT     7015\n",
       "CONTINENT       27843\n",
       "ISO_COUNTRY       247\n",
       "MUNICIPALITY     5706\n",
       "IATA_CODE       46187\n",
       "COORDINATES         0\n",
       "dtype: int64"
      ]
     },
     "execution_count": 142,
     "metadata": {},
     "output_type": "execute_result"
    }
   ],
   "source": [
    "airports.isna().sum()"
   ]
  },
  {
   "cell_type": "markdown",
   "id": "8371b509",
   "metadata": {},
   "source": [
    "#### Plotting the missing values in the Airports Dataset"
   ]
  },
  {
   "cell_type": "code",
   "execution_count": 143,
   "id": "187101fa",
   "metadata": {},
   "outputs": [
    {
     "data": {
      "text/plain": [
       "<AxesSubplot:>"
      ]
     },
     "execution_count": 143,
     "metadata": {},
     "output_type": "execute_result"
    },
    {
     "data": {
      "image/png": "[encoded data removed]",
      "text/plain": [
       "<Figure size 720x360 with 3 Axes>"
      ]
     },
     "metadata": {},
     "output_type": "display_data"
    }
   ],
   "source": [
    "msno.bar(airports, color=\"dodgerblue\", sort=\"ascending\", figsize=(10,5), fontsize=12)"
   ]
  },
  {
   "cell_type": "markdown",
   "id": "5d02ec36",
   "metadata": {},
   "source": [
    "We can see that the data is not clean since there are missing values for the continent to which the airport belongs and the IATA code for the corresponding airport"
   ]
  },
  {
   "cell_type": "markdown",
   "id": "4ec1ae17",
   "metadata": {},
   "source": [
    "We are primarily interested in only medium and large size airports based in US. So we will first filter the data for these criteria and then carry on with our analysis.  \n",
    "  \n",
    "Basic check on the data shows that there are no null values in the TYPE column and hence we do not need to do any pre processing/imputation on the TYPE column before filtering.  \n",
    "  \n",
    "**Data Limitation:** We can observe that there are **247 NULL** values in **ISO_COUNTRY** column. This is a potential issue since we want to **limit our analysis for domestic US airports**. We can observe that there is **NO NULL** value in the **COORDINATES** column. We can use this data to obtain the missing datapoints for ISO_COUNTRY columns.  \n",
    "  \n",
    "We will first filter the data by TYPE for 'Medium' and 'Large' size airports to see if the issue still exists"
   ]
  },
  {
   "cell_type": "markdown",
   "id": "e091b490",
   "metadata": {},
   "source": [
    "#### Filtering for Medium and Large airports"
   ]
  },
  {
   "cell_type": "code",
   "execution_count": 144,
   "id": "a211d081",
   "metadata": {
    "scrolled": true
   },
   "outputs": [
    {
     "data": {
      "text/plain": [
       "small_airport     34120\n",
       "heliport          11384\n",
       "medium_airport     4532\n",
       "closed             3680\n",
       "seaplane_base      1016\n",
       "large_airport       614\n",
       "balloonport          23\n",
       "Name: TYPE, dtype: int64"
      ]
     },
     "execution_count": 144,
     "metadata": {},
     "output_type": "execute_result"
    }
   ],
   "source": [
    "airports['TYPE'].value_counts()"
   ]
  },
  {
   "cell_type": "markdown",
   "id": "61bd2c8e",
   "metadata": {},
   "source": [
    "There are **4532 Medium** sized airports which accounts for **8.1%** of the entire airport TYPE and **614 Large** sized airports which accounts for **1.1%** of the entire airport TYPE."
   ]
  },
  {
   "cell_type": "code",
   "execution_count": 145,
   "id": "9335bea3",
   "metadata": {},
   "outputs": [],
   "source": [
    "# Filtering only the Large and Medium Sized airports\n",
    "filter_condition = ['large_airport','medium_airport']\n",
    "airport_subset = airports[airports['TYPE'].isin(filter_condition)]"
   ]
  },
  {
   "cell_type": "markdown",
   "id": "e449ad9a",
   "metadata": {},
   "source": [
    "#### Plotting the Airport Types"
   ]
  },
  {
   "cell_type": "code",
   "execution_count": 146,
   "id": "cf39c1ee",
   "metadata": {},
   "outputs": [
    {
     "data": {
      "text/plain": [
       "Text(0, 0.5, 'Number of aiport types')"
      ]
     },
     "execution_count": 146,
     "metadata": {},
     "output_type": "execute_result"
    },
    {
     "data": {
      "image/png": "[encoded data removed]",
      "text/plain": [
       "<Figure size 1080x576 with 1 Axes>"
      ]
     },
     "metadata": {},
     "output_type": "display_data"
    }
   ],
   "source": [
    "sns.countplot(x = airport_subset[airport_subset['ISO_COUNTRY'].isin(['US','UM'])]['ISO_COUNTRY'],hue = airport_subset['TYPE'], data = airport_subset)\n",
    "plt.title(\"Number of Large & Medium Airport Types\")\n",
    "plt.xlabel(\"US/UM Country \")\n",
    "plt.ylabel(\"Number of aiport types\")"
   ]
  },
  {
   "cell_type": "markdown",
   "id": "c2829e63",
   "metadata": {},
   "source": [
    "#### Examining the NULL value counts again for the subset of the data"
   ]
  },
  {
   "cell_type": "code",
   "execution_count": 147,
   "id": "bdbe13c3",
   "metadata": {},
   "outputs": [
    {
     "data": {
      "text/plain": [
       "<AxesSubplot:>"
      ]
     },
     "execution_count": 147,
     "metadata": {},
     "output_type": "execute_result"
    },
    {
     "data": {
      "image/png": "[encoded data removed]",
      "text/plain": [
       "<Figure size 720x360 with 3 Axes>"
      ]
     },
     "metadata": {},
     "output_type": "display_data"
    }
   ],
   "source": [
    "airport_subset.isna().sum()\n",
    "msno.bar(airport_subset, color=\"dodgerblue\", sort=\"ascending\", figsize=(10,5), fontsize=12)"
   ]
  },
  {
   "cell_type": "markdown",
   "id": "35a8262d",
   "metadata": {},
   "source": [
    "After filtering for airport TYPE the null values present in the above columns dropped."
   ]
  },
  {
   "cell_type": "markdown",
   "id": "9f8afaac",
   "metadata": {},
   "source": [
    "**Percentage counts of Null Values**"
   ]
  },
  {
   "cell_type": "code",
   "execution_count": 148,
   "id": "e2a8040b",
   "metadata": {},
   "outputs": [
    {
     "data": {
      "text/plain": [
       "TYPE             0.00\n",
       "NAME             0.00\n",
       "ELEVATION_FT     7.07\n",
       "CONTINENT       50.17\n",
       "ISO_COUNTRY      0.42\n",
       "MUNICIPALITY    18.54\n",
       "IATA_CODE       23.80\n",
       "COORDINATES      0.00\n",
       "dtype: float64"
      ]
     },
     "execution_count": 148,
     "metadata": {},
     "output_type": "execute_result"
    }
   ],
   "source": [
    "round(airport_subset.isna().sum()*100/airport_subset.isna().sum().sum(),2)"
   ]
  },
  {
   "cell_type": "markdown",
   "id": "c0206e23",
   "metadata": {},
   "source": [
    "We can see that the NULL value count dropped from **247 to 12**, which corresponds to **0.42%** of the data so we will ignore these rows and further filter by **ISO_COUNTRY = US**"
   ]
  },
  {
   "cell_type": "markdown",
   "id": "593639b0",
   "metadata": {},
   "source": [
    "#### Filtering for US based airports"
   ]
  },
  {
   "cell_type": "code",
   "execution_count": 149,
   "id": "6cc4cd41",
   "metadata": {},
   "outputs": [
    {
     "data": {
      "text/plain": [
       "US    858\n",
       "CA    338\n",
       "CN    288\n",
       "RU    272\n",
       "AU    191\n",
       "FR    144\n",
       "BR    128\n",
       "IN    118\n",
       "JP    111\n",
       "GB    101\n",
       "DE     81\n",
       "IT     76\n",
       "AR     70\n",
       "MX     66\n",
       "ZA     63\n",
       "IR     62\n",
       "CO     60\n",
       "TR     58\n",
       "ID     55\n",
       "PH     55\n",
       "ES     52\n",
       "SE     50\n",
       "VE     49\n",
       "NO     46\n",
       "TH     42\n",
       "PK     40\n",
       "NZ     38\n",
       "DZ     37\n",
       "SA     36\n",
       "CL     33\n",
       "UA     32\n",
       "PT     32\n",
       "PE     31\n",
       "IQ     31\n",
       "FI     31\n",
       "PL     29\n",
       "BS     29\n",
       "GR     28\n",
       "EG     28\n",
       "MY     28\n",
       "PF     27\n",
       "KZ     26\n",
       "CU     26\n",
       "NG     25\n",
       "KR     23\n",
       "MG     23\n",
       "MM     22\n",
       "RO     21\n",
       "TW     21\n",
       "PG     21\n",
       "AO     21\n",
       "VN     21\n",
       "CD     21\n",
       "KE     17\n",
       "KP     17\n",
       "DK     17\n",
       "CR     17\n",
       "MA     16\n",
       "EC     16\n",
       "MZ     15\n",
       "BO     15\n",
       "NL     15\n",
       "LY     14\n",
       "CH     14\n",
       "ET     13\n",
       "TZ     12\n",
       "AZ     12\n",
       "TN     12\n",
       "CZ     12\n",
       "BY     11\n",
       "YE     11\n",
       "GA     11\n",
       "NC     11\n",
       "BZ     11\n",
       "IE     11\n",
       "AE     11\n",
       "IL     11\n",
       "GE     11\n",
       "BG     11\n",
       "BE     11\n",
       "CM     10\n",
       "MN     10\n",
       "SY     10\n",
       "DO     10\n",
       "SN     10\n",
       "LK     10\n",
       "HU     10\n",
       "IS      9\n",
       "ZW      9\n",
       "BD      9\n",
       "AT      8\n",
       "HR      8\n",
       "SK      8\n",
       "ZM      8\n",
       "HN      8\n",
       "PA      8\n",
       "AF      8\n",
       "SD      8\n",
       "OM      7\n",
       "PR      7\n",
       "CI      7\n",
       "GT      7\n",
       "NP      7\n",
       "LT      7\n",
       "BW      7\n",
       "KG      6\n",
       "SG      6\n",
       "MV      6\n",
       "MW      6\n",
       "LV      6\n",
       "EE      6\n",
       "TM      6\n",
       "TJ      6\n",
       "CG      6\n",
       "UZ      6\n",
       "KH      6\n",
       "HT      6\n",
       "CV      6\n",
       "MD      5\n",
       "SL      5\n",
       "PY      5\n",
       "SO      5\n",
       "LA      5\n",
       "ML      5\n",
       "GH      5\n",
       "GL      5\n",
       "JM      5\n",
       "UY      5\n",
       "NE      5\n",
       "VC      5\n",
       "GY      4\n",
       "SI      4\n",
       "SS      4\n",
       "AL      4\n",
       "LB      4\n",
       "AM      4\n",
       "JO      4\n",
       "KI      4\n",
       "UG      4\n",
       "FM      4\n",
       "CY      4\n",
       "TC      4\n",
       "BA      4\n",
       "TD      4\n",
       "VU      4\n",
       "AQ      4\n",
       "RW      3\n",
       "KW      3\n",
       "TO      3\n",
       "KM      3\n",
       "QA      3\n",
       "MR      3\n",
       "TL      3\n",
       "KY      3\n",
       "LC      3\n",
       "FJ      3\n",
       "RS      3\n",
       "EH      3\n",
       "NI      3\n",
       "ER      3\n",
       "MP      3\n",
       "BT      2\n",
       "SC      2\n",
       "FK      2\n",
       "GU      2\n",
       "BQ      2\n",
       "TG      2\n",
       "GP      2\n",
       "WF      2\n",
       "MK      2\n",
       "TT      2\n",
       "ME      2\n",
       "HK      2\n",
       "VI      2\n",
       "XK      2\n",
       "BH      2\n",
       "RE      2\n",
       "GG      2\n",
       "SB      2\n",
       "DM      2\n",
       "UM      2\n",
       "MU      2\n",
       "ST      2\n",
       "KN      2\n",
       "CF      2\n",
       "PM      2\n",
       "SV      2\n",
       "BF      2\n",
       "GQ      2\n",
       "LR      2\n",
       "SZ      2\n",
       "GF      2\n",
       "MH      2\n",
       "AS      2\n",
       "WS      1\n",
       "MO      1\n",
       "SR      1\n",
       "GI      1\n",
       "CX      1\n",
       "BN      1\n",
       "IO      1\n",
       "JE      1\n",
       "AW      1\n",
       "FO      1\n",
       "LS      1\n",
       "BJ      1\n",
       "GN      1\n",
       "GW      1\n",
       "MS      1\n",
       "MF      1\n",
       "TV      1\n",
       "BI      1\n",
       "DJ      1\n",
       "GM      1\n",
       "MT      1\n",
       "BB      1\n",
       "BL      1\n",
       "NU      1\n",
       "VG      1\n",
       "LU      1\n",
       "YT      1\n",
       "AI      1\n",
       "SX      1\n",
       "BM      1\n",
       "IM      1\n",
       "SH      1\n",
       "AG      1\n",
       "MQ      1\n",
       "CK      1\n",
       "CC      1\n",
       "PW      1\n",
       "NR      1\n",
       "NF      1\n",
       "GD      1\n",
       "CW      1\n",
       "Name: ISO_COUNTRY, dtype: int64"
      ]
     },
     "execution_count": 149,
     "metadata": {},
     "output_type": "execute_result"
    }
   ],
   "source": [
    "airport_subset['ISO_COUNTRY'].value_counts()"
   ]
  },
  {
   "cell_type": "code",
   "execution_count": 150,
   "id": "5898f773",
   "metadata": {},
   "outputs": [
    {
     "data": {
      "text/plain": [
       "US    858\n",
       "UM      2\n",
       "Name: ISO_COUNTRY, dtype: int64"
      ]
     },
     "execution_count": 150,
     "metadata": {},
     "output_type": "execute_result"
    }
   ],
   "source": [
    "airport_subset[airport_subset['ISO_COUNTRY'].isin(['US','UM'])]['ISO_COUNTRY'].value_counts()"
   ]
  },
  {
   "cell_type": "markdown",
   "id": "b82335c2",
   "metadata": {},
   "source": [
    "The ISO_COUNTRY code UM corresponds to US Minor Outlying Islands. There are only **2** such airports, hence we are not considering them for further analysis. Further, we make the ***assumption*** that all airports having the ISO_COUNTRY code US are **domestic airports**"
   ]
  },
  {
   "cell_type": "code",
   "execution_count": 151,
   "id": "3dbcda3b",
   "metadata": {},
   "outputs": [],
   "source": [
    "US_airport_subset = airport_subset[airport_subset['ISO_COUNTRY'] == 'US']"
   ]
  },
  {
   "cell_type": "markdown",
   "id": "c89c66a4",
   "metadata": {},
   "source": [
    "#### Size of the subset"
   ]
  },
  {
   "cell_type": "code",
   "execution_count": 152,
   "id": "27fde4d2",
   "metadata": {},
   "outputs": [
    {
     "data": {
      "text/plain": [
       "(858, 8)"
      ]
     },
     "execution_count": 152,
     "metadata": {},
     "output_type": "execute_result"
    }
   ],
   "source": [
    "# Total number of rows that are of interest after filtering for the respective conditions are 858\n",
    "US_airport_subset.shape"
   ]
  },
  {
   "cell_type": "markdown",
   "id": "8dcdd8ae",
   "metadata": {},
   "source": [
    "#### Checking for NULL IATA codes"
   ]
  },
  {
   "cell_type": "code",
   "execution_count": 153,
   "id": "12b4e046",
   "metadata": {},
   "outputs": [
    {
     "data": {
      "text/plain": [
       "37"
      ]
     },
     "execution_count": 153,
     "metadata": {},
     "output_type": "execute_result"
    }
   ],
   "source": [
    "# why did we not take IATA codes from the other datasets \n",
    "US_airport_subset['IATA_CODE'].isna().sum()"
   ]
  },
  {
   "cell_type": "markdown",
   "id": "c52a76bd",
   "metadata": {},
   "source": [
    "#### **We require IATA codes for joining the data with the ticket and the flight dataset. Hence we will drop the 37 rows with NULL IATA codes**"
   ]
  },
  {
   "cell_type": "code",
   "execution_count": 154,
   "id": "1b8cb4d1",
   "metadata": {},
   "outputs": [],
   "source": [
    "US_airport_subset = US_airport_subset[~US_airport_subset['IATA_CODE'].isna()]"
   ]
  },
  {
   "cell_type": "code",
   "execution_count": 155,
   "id": "6effb529",
   "metadata": {},
   "outputs": [
    {
     "data": {
      "text/plain": [
       "(821, 8)"
      ]
     },
     "execution_count": 155,
     "metadata": {},
     "output_type": "execute_result"
    }
   ],
   "source": [
    "US_airport_subset.shape"
   ]
  },
  {
   "cell_type": "markdown",
   "id": "e684ce43",
   "metadata": {},
   "source": [
    "**We will use this subset of 821 US airports for further analysis.**"
   ]
  },
  {
   "cell_type": "code",
   "execution_count": 156,
   "id": "12ebfb23",
   "metadata": {},
   "outputs": [
    {
     "data": {
      "text/plain": [
       "medium_airport    651\n",
       "large_airport     170\n",
       "Name: TYPE, dtype: int64"
      ]
     },
     "execution_count": 156,
     "metadata": {},
     "output_type": "execute_result"
    }
   ],
   "source": [
    "# The present count of the numer of large and medium sized airports \n",
    "US_airport_subset['TYPE'].value_counts()"
   ]
  },
  {
   "cell_type": "markdown",
   "id": "b9dfe288",
   "metadata": {},
   "source": [
    "## Exploring the Tickets data"
   ]
  },
  {
   "cell_type": "code",
   "execution_count": 157,
   "id": "fe0ad04f",
   "metadata": {},
   "outputs": [
    {
     "data": {
      "text/plain": [
       "(1167285, 12)"
      ]
     },
     "execution_count": 157,
     "metadata": {},
     "output_type": "execute_result"
    }
   ],
   "source": [
    "# Reading the Tickets.csv dataset\n",
    "tickets = pd.read_csv('Tickets.csv')\n",
    "# Shape of the dataset indicates there are 1167285 rows and 12 columns \n",
    "tickets.shape"
   ]
  },
  {
   "cell_type": "code",
   "execution_count": 158,
   "id": "f2fd24ca",
   "metadata": {},
   "outputs": [
    {
     "data": {
      "text/html": [
       "<div>\n",
       "<style scoped>\n",
       "    .dataframe tbody tr th:only-of-type {\n",
       "        vertical-align: middle;\n",
       "    }\n",
       "\n",
       "    .dataframe tbody tr th {\n",
       "        vertical-align: top;\n",
       "    }\n",
       "\n",
       "    .dataframe thead th {\n",
       "        text-align: right;\n",
       "    }\n",
       "</style>\n",
       "<table border=\"1\" class=\"dataframe\">\n",
       "  <thead>\n",
       "    <tr style=\"text-align: right;\">\n",
       "      <th></th>\n",
       "      <th>0</th>\n",
       "      <th>1</th>\n",
       "      <th>2</th>\n",
       "      <th>3</th>\n",
       "      <th>4</th>\n",
       "    </tr>\n",
       "  </thead>\n",
       "  <tbody>\n",
       "    <tr>\n",
       "      <th>ITIN_ID</th>\n",
       "      <td>201912723049</td>\n",
       "      <td>201912723085</td>\n",
       "      <td>201912723491</td>\n",
       "      <td>201912723428</td>\n",
       "      <td>201912723509</td>\n",
       "    </tr>\n",
       "    <tr>\n",
       "      <th>YEAR</th>\n",
       "      <td>2019</td>\n",
       "      <td>2019</td>\n",
       "      <td>2019</td>\n",
       "      <td>2019</td>\n",
       "      <td>2019</td>\n",
       "    </tr>\n",
       "    <tr>\n",
       "      <th>QUARTER</th>\n",
       "      <td>1</td>\n",
       "      <td>1</td>\n",
       "      <td>1</td>\n",
       "      <td>1</td>\n",
       "      <td>1</td>\n",
       "    </tr>\n",
       "    <tr>\n",
       "      <th>ORIGIN</th>\n",
       "      <td>ABI</td>\n",
       "      <td>ABI</td>\n",
       "      <td>ABI</td>\n",
       "      <td>ABI</td>\n",
       "      <td>ABI</td>\n",
       "    </tr>\n",
       "    <tr>\n",
       "      <th>ORIGIN_COUNTRY</th>\n",
       "      <td>US</td>\n",
       "      <td>US</td>\n",
       "      <td>US</td>\n",
       "      <td>US</td>\n",
       "      <td>US</td>\n",
       "    </tr>\n",
       "    <tr>\n",
       "      <th>ORIGIN_STATE_ABR</th>\n",
       "      <td>TX</td>\n",
       "      <td>TX</td>\n",
       "      <td>TX</td>\n",
       "      <td>TX</td>\n",
       "      <td>TX</td>\n",
       "    </tr>\n",
       "    <tr>\n",
       "      <th>ORIGIN_STATE_NM</th>\n",
       "      <td>Texas</td>\n",
       "      <td>Texas</td>\n",
       "      <td>Texas</td>\n",
       "      <td>Texas</td>\n",
       "      <td>Texas</td>\n",
       "    </tr>\n",
       "    <tr>\n",
       "      <th>ROUNDTRIP</th>\n",
       "      <td>1.0</td>\n",
       "      <td>1.0</td>\n",
       "      <td>1.0</td>\n",
       "      <td>1.0</td>\n",
       "      <td>0.0</td>\n",
       "    </tr>\n",
       "    <tr>\n",
       "      <th>REPORTING_CARRIER</th>\n",
       "      <td>MQ</td>\n",
       "      <td>MQ</td>\n",
       "      <td>MQ</td>\n",
       "      <td>MQ</td>\n",
       "      <td>MQ</td>\n",
       "    </tr>\n",
       "    <tr>\n",
       "      <th>PASSENGERS</th>\n",
       "      <td>1.0</td>\n",
       "      <td>1.0</td>\n",
       "      <td>1.0</td>\n",
       "      <td>1.0</td>\n",
       "      <td>1.0</td>\n",
       "    </tr>\n",
       "    <tr>\n",
       "      <th>ITIN_FARE</th>\n",
       "      <td>736.0</td>\n",
       "      <td>570.0</td>\n",
       "      <td>564.0</td>\n",
       "      <td>345.0</td>\n",
       "      <td>309.0</td>\n",
       "    </tr>\n",
       "    <tr>\n",
       "      <th>DESTINATION</th>\n",
       "      <td>DAB</td>\n",
       "      <td>COS</td>\n",
       "      <td>MCO</td>\n",
       "      <td>LGA</td>\n",
       "      <td>MGM</td>\n",
       "    </tr>\n",
       "  </tbody>\n",
       "</table>\n",
       "</div>"
      ],
      "text/plain": [
       "                              0             1             2             3  \\\n",
       "ITIN_ID            201912723049  201912723085  201912723491  201912723428   \n",
       "YEAR                       2019          2019          2019          2019   \n",
       "QUARTER                       1             1             1             1   \n",
       "ORIGIN                      ABI           ABI           ABI           ABI   \n",
       "ORIGIN_COUNTRY               US            US            US            US   \n",
       "ORIGIN_STATE_ABR             TX            TX            TX            TX   \n",
       "ORIGIN_STATE_NM           Texas         Texas         Texas         Texas   \n",
       "ROUNDTRIP                   1.0           1.0           1.0           1.0   \n",
       "REPORTING_CARRIER            MQ            MQ            MQ            MQ   \n",
       "PASSENGERS                  1.0           1.0           1.0           1.0   \n",
       "ITIN_FARE                 736.0         570.0         564.0         345.0   \n",
       "DESTINATION                 DAB           COS           MCO           LGA   \n",
       "\n",
       "                              4  \n",
       "ITIN_ID            201912723509  \n",
       "YEAR                       2019  \n",
       "QUARTER                       1  \n",
       "ORIGIN                      ABI  \n",
       "ORIGIN_COUNTRY               US  \n",
       "ORIGIN_STATE_ABR             TX  \n",
       "ORIGIN_STATE_NM           Texas  \n",
       "ROUNDTRIP                   0.0  \n",
       "REPORTING_CARRIER            MQ  \n",
       "PASSENGERS                  1.0  \n",
       "ITIN_FARE                 309.0  \n",
       "DESTINATION                 MGM  "
      ]
     },
     "execution_count": 158,
     "metadata": {},
     "output_type": "execute_result"
    }
   ],
   "source": [
    "# Veiwing the first 5 rows of the dataset in a transposed fashion to glance at all the columns \n",
    "tickets.head().T"
   ]
  },
  {
   "cell_type": "markdown",
   "id": "b03ad92a",
   "metadata": {},
   "source": [
    "#### Checking the dtypes and Missing Value counts"
   ]
  },
  {
   "cell_type": "code",
   "execution_count": 159,
   "id": "5b4f450d",
   "metadata": {
    "scrolled": true
   },
   "outputs": [
    {
     "data": {
      "text/plain": [
       "ITIN_ID                int64\n",
       "YEAR                   int64\n",
       "QUARTER                int64\n",
       "ORIGIN                object\n",
       "ORIGIN_COUNTRY        object\n",
       "ORIGIN_STATE_ABR      object\n",
       "ORIGIN_STATE_NM       object\n",
       "ROUNDTRIP            float64\n",
       "REPORTING_CARRIER     object\n",
       "PASSENGERS           float64\n",
       "ITIN_FARE             object\n",
       "DESTINATION           object\n",
       "dtype: object"
      ]
     },
     "execution_count": 159,
     "metadata": {},
     "output_type": "execute_result"
    }
   ],
   "source": [
    "tickets.dtypes"
   ]
  },
  {
   "cell_type": "markdown",
   "id": "c9363a40",
   "metadata": {},
   "source": [
    "All the columns are rightly aligned with the respective data type except for the ITIN FARE column which has to be casted to type float."
   ]
  },
  {
   "cell_type": "code",
   "execution_count": 160,
   "id": "14d769ca",
   "metadata": {},
   "outputs": [
    {
     "data": {
      "text/plain": [
       "ITIN_ID                 0\n",
       "YEAR                    0\n",
       "QUARTER                 0\n",
       "ORIGIN                  0\n",
       "ORIGIN_COUNTRY          0\n",
       "ORIGIN_STATE_ABR        0\n",
       "ORIGIN_STATE_NM         0\n",
       "ROUNDTRIP               0\n",
       "REPORTING_CARRIER       0\n",
       "PASSENGERS           1977\n",
       "ITIN_FARE             960\n",
       "DESTINATION             0\n",
       "dtype: int64"
      ]
     },
     "execution_count": 160,
     "metadata": {},
     "output_type": "execute_result"
    }
   ],
   "source": [
    "tickets.isna().sum()"
   ]
  },
  {
   "cell_type": "markdown",
   "id": "08df262b",
   "metadata": {},
   "source": [
    "The passenger column is not of interest for further calculations and hence not treated for null values. The ITIN FARE column has 960 Null values which has to be treated."
   ]
  },
  {
   "cell_type": "code",
   "execution_count": 161,
   "id": "3f93d07c",
   "metadata": {},
   "outputs": [
    {
     "data": {
      "text/plain": [
       "<AxesSubplot:>"
      ]
     },
     "execution_count": 161,
     "metadata": {},
     "output_type": "execute_result"
    },
    {
     "data": {
      "image/png": "[encoded data removed]",
      "text/plain": [
       "<Figure size 720x360 with 3 Axes>"
      ]
     },
     "metadata": {},
     "output_type": "display_data"
    }
   ],
   "source": [
    "# Plotting the missing value distribution\n",
    "msno.bar(tickets, color=\"dodgerblue\", sort=\"ascending\", figsize=(10,5), fontsize=12)"
   ]
  },
  {
   "cell_type": "markdown",
   "id": "fb42506b",
   "metadata": {},
   "source": [
    "We observe that **ITIN_FARE** is of type **object**. We will have to clean this column. Also, **PASSENGERS** and **ITIN_FARE**, both these columns have **missing data**. We will have to impute the missing data appropriately only in the column of interest."
   ]
  },
  {
   "cell_type": "markdown",
   "id": "878ec4cc",
   "metadata": {},
   "source": [
    "#### Filtering the data for round trips"
   ]
  },
  {
   "cell_type": "code",
   "execution_count": 162,
   "id": "e1b88956",
   "metadata": {},
   "outputs": [
    {
     "data": {
      "text/plain": [
       "1.0    708600\n",
       "0.0    458685\n",
       "Name: ROUNDTRIP, dtype: int64"
      ]
     },
     "execution_count": 162,
     "metadata": {},
     "output_type": "execute_result"
    }
   ],
   "source": [
    "tickets['ROUNDTRIP'].value_counts()"
   ]
  },
  {
   "cell_type": "code",
   "execution_count": 163,
   "id": "f0e2a7d8",
   "metadata": {},
   "outputs": [],
   "source": [
    "tickets = tickets[tickets['ROUNDTRIP'] == 1.0]"
   ]
  },
  {
   "cell_type": "code",
   "execution_count": 164,
   "id": "d9d0ded0",
   "metadata": {},
   "outputs": [
    {
     "name": "stdout",
     "output_type": "stream",
     "text": [
      "The number of itinerary after filtering for Round Trip Tickets: 708600\n"
     ]
    }
   ],
   "source": [
    "print(f\"The number of itinerary after filtering for Round Trip Tickets: {tickets.shape[0]}\")"
   ]
  },
  {
   "cell_type": "markdown",
   "id": "a067eb16",
   "metadata": {},
   "source": [
    "#### Filtering the tickets data for US Domestic Flights"
   ]
  },
  {
   "cell_type": "code",
   "execution_count": 165,
   "id": "ef182feb",
   "metadata": {},
   "outputs": [],
   "source": [
    "# Merging the tickets with the US_airport_subset data to include all IATA CODES for both ORIGIN and DESTINATION in the tickets dataset\n",
    "tickets = pd.merge(tickets,\n",
    "                   US_airport_subset['IATA_CODE'],\n",
    "                   left_on = 'ORIGIN',\n",
    "                   right_on = 'IATA_CODE',\n",
    "                   how = 'inner')\n",
    "\n",
    "tickets.drop(['IATA_CODE'], axis = 1, inplace = True)\n",
    "\n",
    "tickets = pd.merge(tickets,\n",
    "                   US_airport_subset['IATA_CODE'],\n",
    "                   left_on = 'DESTINATION',\n",
    "                   right_on = 'IATA_CODE',\n",
    "                   how = 'inner')\n",
    "tickets.drop(['IATA_CODE'], axis = 1, inplace = True)"
   ]
  },
  {
   "cell_type": "code",
   "execution_count": 166,
   "id": "76529ace",
   "metadata": {},
   "outputs": [
    {
     "name": "stdout",
     "output_type": "stream",
     "text": [
      "The number of itinerary after cleaning the data for US Domestic round trips: 684208\n"
     ]
    }
   ],
   "source": [
    "# how did this reduce\n",
    "print(f\"The number of itinerary after cleaning the data for US Domestic round trips: {tickets.shape[0]}\")"
   ]
  },
  {
   "cell_type": "markdown",
   "id": "632a8c74",
   "metadata": {},
   "source": [
    "#### Checking for missing values"
   ]
  },
  {
   "cell_type": "code",
   "execution_count": 167,
   "id": "a9dc9ad9",
   "metadata": {
    "scrolled": true
   },
   "outputs": [
    {
     "data": {
      "text/plain": [
       "ITIN_ID                 0\n",
       "YEAR                    0\n",
       "QUARTER                 0\n",
       "ORIGIN                  0\n",
       "ORIGIN_COUNTRY          0\n",
       "ORIGIN_STATE_ABR        0\n",
       "ORIGIN_STATE_NM         0\n",
       "ROUNDTRIP               0\n",
       "REPORTING_CARRIER       0\n",
       "PASSENGERS           1162\n",
       "ITIN_FARE             545\n",
       "DESTINATION             0\n",
       "dtype: int64"
      ]
     },
     "execution_count": 167,
     "metadata": {},
     "output_type": "execute_result"
    }
   ],
   "source": [
    "# As seen the filtering causes the number of missing values to drop\n",
    "tickets.isna().sum()"
   ]
  },
  {
   "cell_type": "code",
   "execution_count": 168,
   "id": "26f88e61",
   "metadata": {},
   "outputs": [],
   "source": [
    "# Function to check if the value present in the ITIN_FARE column is clean or not. We define clean\n",
    "# value as being numeric containing only 1 decimal point\n",
    "\n",
    "def is_clean(value):\n",
    "    \n",
    "    clean = re.sub(r'[^0-9.]+','', str(value))   \n",
    "    if clean == value:\n",
    "        return 1\n",
    "    else:\n",
    "        return 0"
   ]
  },
  {
   "cell_type": "markdown",
   "id": "b4b4b9f3",
   "metadata": {},
   "source": [
    "We define a new column **'IS_CLEAN_FARE'** to see if the fares are clean or not. We will then inspect the unclean values to identify how to clean the data"
   ]
  },
  {
   "cell_type": "code",
   "execution_count": 169,
   "id": "a9dda552",
   "metadata": {},
   "outputs": [],
   "source": [
    "# Apply the clean function to all values in ITIN_FARE\n",
    "tickets['IS_CLEAN_FARE'] = tickets['ITIN_FARE'].apply(lambda x: is_clean(x))"
   ]
  },
  {
   "cell_type": "code",
   "execution_count": 170,
   "id": "eb5ed540",
   "metadata": {},
   "outputs": [
    {
     "data": {
      "text/html": [
       "<div>\n",
       "<style scoped>\n",
       "    .dataframe tbody tr th:only-of-type {\n",
       "        vertical-align: middle;\n",
       "    }\n",
       "\n",
       "    .dataframe tbody tr th {\n",
       "        vertical-align: top;\n",
       "    }\n",
       "\n",
       "    .dataframe thead th {\n",
       "        text-align: right;\n",
       "    }\n",
       "</style>\n",
       "<table border=\"1\" class=\"dataframe\">\n",
       "  <thead>\n",
       "    <tr style=\"text-align: right;\">\n",
       "      <th></th>\n",
       "      <th>ITIN_ID</th>\n",
       "      <th>YEAR</th>\n",
       "      <th>QUARTER</th>\n",
       "      <th>ORIGIN</th>\n",
       "      <th>ORIGIN_COUNTRY</th>\n",
       "      <th>ORIGIN_STATE_ABR</th>\n",
       "      <th>ORIGIN_STATE_NM</th>\n",
       "      <th>ROUNDTRIP</th>\n",
       "      <th>REPORTING_CARRIER</th>\n",
       "      <th>PASSENGERS</th>\n",
       "      <th>ITIN_FARE</th>\n",
       "      <th>DESTINATION</th>\n",
       "      <th>IS_CLEAN_FARE</th>\n",
       "    </tr>\n",
       "  </thead>\n",
       "  <tbody>\n",
       "    <tr>\n",
       "      <th>262074</th>\n",
       "      <td>201912907081</td>\n",
       "      <td>2019</td>\n",
       "      <td>1</td>\n",
       "      <td>IAH</td>\n",
       "      <td>US</td>\n",
       "      <td>TX</td>\n",
       "      <td>Texas</td>\n",
       "      <td>1.0</td>\n",
       "      <td>NK</td>\n",
       "      <td>1.0</td>\n",
       "      <td>$ 100.00</td>\n",
       "      <td>BWI</td>\n",
       "      <td>0</td>\n",
       "    </tr>\n",
       "    <tr>\n",
       "      <th>134101</th>\n",
       "      <td>201912464005</td>\n",
       "      <td>2019</td>\n",
       "      <td>1</td>\n",
       "      <td>EWR</td>\n",
       "      <td>US</td>\n",
       "      <td>NJ</td>\n",
       "      <td>New Jersey</td>\n",
       "      <td>1.0</td>\n",
       "      <td>EV</td>\n",
       "      <td>1.0</td>\n",
       "      <td>200 $</td>\n",
       "      <td>SAV</td>\n",
       "      <td>0</td>\n",
       "    </tr>\n",
       "    <tr>\n",
       "      <th>218981</th>\n",
       "      <td>20191530257</td>\n",
       "      <td>2019</td>\n",
       "      <td>1</td>\n",
       "      <td>LAS</td>\n",
       "      <td>US</td>\n",
       "      <td>NV</td>\n",
       "      <td>Nevada</td>\n",
       "      <td>1.0</td>\n",
       "      <td>AA</td>\n",
       "      <td>1.0</td>\n",
       "      <td>820$$$</td>\n",
       "      <td>ORD</td>\n",
       "      <td>0</td>\n",
       "    </tr>\n",
       "    <tr>\n",
       "      <th>324851</th>\n",
       "      <td>201913281135</td>\n",
       "      <td>2019</td>\n",
       "      <td>1</td>\n",
       "      <td>MOB</td>\n",
       "      <td>US</td>\n",
       "      <td>AL</td>\n",
       "      <td>Alabama</td>\n",
       "      <td>1.0</td>\n",
       "      <td>OO</td>\n",
       "      <td>1.0</td>\n",
       "      <td>200 $</td>\n",
       "      <td>ATL</td>\n",
       "      <td>0</td>\n",
       "    </tr>\n",
       "    <tr>\n",
       "      <th>168999</th>\n",
       "      <td>201911246093</td>\n",
       "      <td>2019</td>\n",
       "      <td>1</td>\n",
       "      <td>SEA</td>\n",
       "      <td>US</td>\n",
       "      <td>WA</td>\n",
       "      <td>Washington</td>\n",
       "      <td>1.0</td>\n",
       "      <td>AS</td>\n",
       "      <td>1.0</td>\n",
       "      <td>200 $</td>\n",
       "      <td>SAN</td>\n",
       "      <td>0</td>\n",
       "    </tr>\n",
       "    <tr>\n",
       "      <th>197922</th>\n",
       "      <td>201915154735</td>\n",
       "      <td>2019</td>\n",
       "      <td>1</td>\n",
       "      <td>EWR</td>\n",
       "      <td>US</td>\n",
       "      <td>NJ</td>\n",
       "      <td>New Jersey</td>\n",
       "      <td>1.0</td>\n",
       "      <td>YX</td>\n",
       "      <td>1.0</td>\n",
       "      <td>820$$$</td>\n",
       "      <td>DTW</td>\n",
       "      <td>0</td>\n",
       "    </tr>\n",
       "    <tr>\n",
       "      <th>26763</th>\n",
       "      <td>201914922206</td>\n",
       "      <td>2019</td>\n",
       "      <td>1</td>\n",
       "      <td>SMF</td>\n",
       "      <td>US</td>\n",
       "      <td>CA</td>\n",
       "      <td>California</td>\n",
       "      <td>1.0</td>\n",
       "      <td>WN</td>\n",
       "      <td>1.0</td>\n",
       "      <td>NaN</td>\n",
       "      <td>MCO</td>\n",
       "      <td>0</td>\n",
       "    </tr>\n",
       "    <tr>\n",
       "      <th>437572</th>\n",
       "      <td>201911996144</td>\n",
       "      <td>2019</td>\n",
       "      <td>1</td>\n",
       "      <td>LAX</td>\n",
       "      <td>US</td>\n",
       "      <td>CA</td>\n",
       "      <td>California</td>\n",
       "      <td>1.0</td>\n",
       "      <td>DL</td>\n",
       "      <td>3.0</td>\n",
       "      <td>NaN</td>\n",
       "      <td>JFK</td>\n",
       "      <td>0</td>\n",
       "    </tr>\n",
       "    <tr>\n",
       "      <th>208417</th>\n",
       "      <td>201913485658</td>\n",
       "      <td>2019</td>\n",
       "      <td>1</td>\n",
       "      <td>MIA</td>\n",
       "      <td>US</td>\n",
       "      <td>FL</td>\n",
       "      <td>Florida</td>\n",
       "      <td>1.0</td>\n",
       "      <td>SY</td>\n",
       "      <td>1.0</td>\n",
       "      <td>$ 100.00</td>\n",
       "      <td>MSP</td>\n",
       "      <td>0</td>\n",
       "    </tr>\n",
       "    <tr>\n",
       "      <th>240715</th>\n",
       "      <td>201912308258</td>\n",
       "      <td>2019</td>\n",
       "      <td>1</td>\n",
       "      <td>SDF</td>\n",
       "      <td>US</td>\n",
       "      <td>KY</td>\n",
       "      <td>Kentucky</td>\n",
       "      <td>1.0</td>\n",
       "      <td>DL</td>\n",
       "      <td>1.0</td>\n",
       "      <td>820$$$</td>\n",
       "      <td>ONT</td>\n",
       "      <td>0</td>\n",
       "    </tr>\n",
       "    <tr>\n",
       "      <th>141826</th>\n",
       "      <td>20191489844</td>\n",
       "      <td>2019</td>\n",
       "      <td>1</td>\n",
       "      <td>JAX</td>\n",
       "      <td>US</td>\n",
       "      <td>FL</td>\n",
       "      <td>Florida</td>\n",
       "      <td>1.0</td>\n",
       "      <td>AA</td>\n",
       "      <td>1.0</td>\n",
       "      <td>NaN</td>\n",
       "      <td>DCA</td>\n",
       "      <td>0</td>\n",
       "    </tr>\n",
       "    <tr>\n",
       "      <th>132861</th>\n",
       "      <td>201913118270</td>\n",
       "      <td>2019</td>\n",
       "      <td>1</td>\n",
       "      <td>BGM</td>\n",
       "      <td>US</td>\n",
       "      <td>NY</td>\n",
       "      <td>New York</td>\n",
       "      <td>1.0</td>\n",
       "      <td>OO</td>\n",
       "      <td>1.0</td>\n",
       "      <td>200 $</td>\n",
       "      <td>SAV</td>\n",
       "      <td>0</td>\n",
       "    </tr>\n",
       "    <tr>\n",
       "      <th>147572</th>\n",
       "      <td>201911072839</td>\n",
       "      <td>2019</td>\n",
       "      <td>1</td>\n",
       "      <td>TPA</td>\n",
       "      <td>US</td>\n",
       "      <td>FL</td>\n",
       "      <td>Florida</td>\n",
       "      <td>1.0</td>\n",
       "      <td>AA</td>\n",
       "      <td>4.0</td>\n",
       "      <td>200 $</td>\n",
       "      <td>DCA</td>\n",
       "      <td>0</td>\n",
       "    </tr>\n",
       "    <tr>\n",
       "      <th>374317</th>\n",
       "      <td>201914491495</td>\n",
       "      <td>2019</td>\n",
       "      <td>1</td>\n",
       "      <td>DTW</td>\n",
       "      <td>US</td>\n",
       "      <td>MI</td>\n",
       "      <td>Michigan</td>\n",
       "      <td>1.0</td>\n",
       "      <td>WN</td>\n",
       "      <td>1.0</td>\n",
       "      <td>200 $</td>\n",
       "      <td>TPA</td>\n",
       "      <td>0</td>\n",
       "    </tr>\n",
       "    <tr>\n",
       "      <th>418442</th>\n",
       "      <td>201912345003</td>\n",
       "      <td>2019</td>\n",
       "      <td>1</td>\n",
       "      <td>SFO</td>\n",
       "      <td>US</td>\n",
       "      <td>CA</td>\n",
       "      <td>California</td>\n",
       "      <td>1.0</td>\n",
       "      <td>DL</td>\n",
       "      <td>2.0</td>\n",
       "      <td>200 $</td>\n",
       "      <td>SLC</td>\n",
       "      <td>0</td>\n",
       "    </tr>\n",
       "    <tr>\n",
       "      <th>195892</th>\n",
       "      <td>201913413682</td>\n",
       "      <td>2019</td>\n",
       "      <td>1</td>\n",
       "      <td>TWF</td>\n",
       "      <td>US</td>\n",
       "      <td>ID</td>\n",
       "      <td>Idaho</td>\n",
       "      <td>1.0</td>\n",
       "      <td>OO</td>\n",
       "      <td>1.0</td>\n",
       "      <td>820$$$</td>\n",
       "      <td>DTW</td>\n",
       "      <td>0</td>\n",
       "    </tr>\n",
       "    <tr>\n",
       "      <th>514598</th>\n",
       "      <td>201913167372</td>\n",
       "      <td>2019</td>\n",
       "      <td>1</td>\n",
       "      <td>DEN</td>\n",
       "      <td>US</td>\n",
       "      <td>CO</td>\n",
       "      <td>Colorado</td>\n",
       "      <td>1.0</td>\n",
       "      <td>OO</td>\n",
       "      <td>1.0</td>\n",
       "      <td>820$$$</td>\n",
       "      <td>FAT</td>\n",
       "      <td>0</td>\n",
       "    </tr>\n",
       "    <tr>\n",
       "      <th>123093</th>\n",
       "      <td>201911161297</td>\n",
       "      <td>2019</td>\n",
       "      <td>1</td>\n",
       "      <td>LAS</td>\n",
       "      <td>US</td>\n",
       "      <td>NV</td>\n",
       "      <td>Nevada</td>\n",
       "      <td>1.0</td>\n",
       "      <td>AS</td>\n",
       "      <td>2.0</td>\n",
       "      <td>$ 100.00</td>\n",
       "      <td>LAX</td>\n",
       "      <td>0</td>\n",
       "    </tr>\n",
       "    <tr>\n",
       "      <th>590263</th>\n",
       "      <td>201911674651</td>\n",
       "      <td>2019</td>\n",
       "      <td>1</td>\n",
       "      <td>BOS</td>\n",
       "      <td>US</td>\n",
       "      <td>MA</td>\n",
       "      <td>Massachusetts</td>\n",
       "      <td>1.0</td>\n",
       "      <td>DL</td>\n",
       "      <td>1.0</td>\n",
       "      <td>NaN</td>\n",
       "      <td>OGG</td>\n",
       "      <td>0</td>\n",
       "    </tr>\n",
       "    <tr>\n",
       "      <th>225088</th>\n",
       "      <td>201914233448</td>\n",
       "      <td>2019</td>\n",
       "      <td>1</td>\n",
       "      <td>SYR</td>\n",
       "      <td>US</td>\n",
       "      <td>NY</td>\n",
       "      <td>New York</td>\n",
       "      <td>1.0</td>\n",
       "      <td>UA</td>\n",
       "      <td>1.0</td>\n",
       "      <td>NaN</td>\n",
       "      <td>ORD</td>\n",
       "      <td>0</td>\n",
       "    </tr>\n",
       "  </tbody>\n",
       "</table>\n",
       "</div>"
      ],
      "text/plain": [
       "             ITIN_ID  YEAR  QUARTER ORIGIN ORIGIN_COUNTRY ORIGIN_STATE_ABR  \\\n",
       "262074  201912907081  2019        1    IAH             US               TX   \n",
       "134101  201912464005  2019        1    EWR             US               NJ   \n",
       "218981   20191530257  2019        1    LAS             US               NV   \n",
       "324851  201913281135  2019        1    MOB             US               AL   \n",
       "168999  201911246093  2019        1    SEA             US               WA   \n",
       "197922  201915154735  2019        1    EWR             US               NJ   \n",
       "26763   201914922206  2019        1    SMF             US               CA   \n",
       "437572  201911996144  2019        1    LAX             US               CA   \n",
       "208417  201913485658  2019        1    MIA             US               FL   \n",
       "240715  201912308258  2019        1    SDF             US               KY   \n",
       "141826   20191489844  2019        1    JAX             US               FL   \n",
       "132861  201913118270  2019        1    BGM             US               NY   \n",
       "147572  201911072839  2019        1    TPA             US               FL   \n",
       "374317  201914491495  2019        1    DTW             US               MI   \n",
       "418442  201912345003  2019        1    SFO             US               CA   \n",
       "195892  201913413682  2019        1    TWF             US               ID   \n",
       "514598  201913167372  2019        1    DEN             US               CO   \n",
       "123093  201911161297  2019        1    LAS             US               NV   \n",
       "590263  201911674651  2019        1    BOS             US               MA   \n",
       "225088  201914233448  2019        1    SYR             US               NY   \n",
       "\n",
       "       ORIGIN_STATE_NM  ROUNDTRIP REPORTING_CARRIER  PASSENGERS ITIN_FARE  \\\n",
       "262074           Texas        1.0                NK         1.0  $ 100.00   \n",
       "134101      New Jersey        1.0                EV         1.0     200 $   \n",
       "218981          Nevada        1.0                AA         1.0    820$$$   \n",
       "324851         Alabama        1.0                OO         1.0     200 $   \n",
       "168999      Washington        1.0                AS         1.0     200 $   \n",
       "197922      New Jersey        1.0                YX         1.0    820$$$   \n",
       "26763       California        1.0                WN         1.0       NaN   \n",
       "437572      California        1.0                DL         3.0       NaN   \n",
       "208417         Florida        1.0                SY         1.0  $ 100.00   \n",
       "240715        Kentucky        1.0                DL         1.0    820$$$   \n",
       "141826         Florida        1.0                AA         1.0       NaN   \n",
       "132861        New York        1.0                OO         1.0     200 $   \n",
       "147572         Florida        1.0                AA         4.0     200 $   \n",
       "374317        Michigan        1.0                WN         1.0     200 $   \n",
       "418442      California        1.0                DL         2.0     200 $   \n",
       "195892           Idaho        1.0                OO         1.0    820$$$   \n",
       "514598        Colorado        1.0                OO         1.0    820$$$   \n",
       "123093          Nevada        1.0                AS         2.0  $ 100.00   \n",
       "590263   Massachusetts        1.0                DL         1.0       NaN   \n",
       "225088        New York        1.0                UA         1.0       NaN   \n",
       "\n",
       "       DESTINATION  IS_CLEAN_FARE  \n",
       "262074         BWI              0  \n",
       "134101         SAV              0  \n",
       "218981         ORD              0  \n",
       "324851         ATL              0  \n",
       "168999         SAN              0  \n",
       "197922         DTW              0  \n",
       "26763          MCO              0  \n",
       "437572         JFK              0  \n",
       "208417         MSP              0  \n",
       "240715         ONT              0  \n",
       "141826         DCA              0  \n",
       "132861         SAV              0  \n",
       "147572         DCA              0  \n",
       "374317         TPA              0  \n",
       "418442         SLC              0  \n",
       "195892         DTW              0  \n",
       "514598         FAT              0  \n",
       "123093         LAX              0  \n",
       "590263         OGG              0  \n",
       "225088         ORD              0  "
      ]
     },
     "execution_count": 170,
     "metadata": {},
     "output_type": "execute_result"
    }
   ],
   "source": [
    "# Verify if the rows have not been cleaned by the clean function\n",
    "tickets[tickets['IS_CLEAN_FARE'] == 0].sample(20)"
   ]
  },
  {
   "cell_type": "markdown",
   "id": "1a85b851",
   "metadata": {},
   "source": [
    "#### Data Quality Issue\n",
    "\n",
    "We can see that most of the unclean data is occuring because of the presence of '$' sign either at the beginning or the end of the string. Checks must be put in place while recording this value so that only numeric entries are allowed"
   ]
  },
  {
   "cell_type": "code",
   "execution_count": 171,
   "id": "0f727299",
   "metadata": {
    "code_folding": []
   },
   "outputs": [],
   "source": [
    "# Function to clean the value present in the ITIN_FARE column. A clean value should have\n",
    "# only numeric values with only 1 decimal point\n",
    "\n",
    "def clean_value(value):\n",
    "    \n",
    "    clean = re.sub(r'[^0-9.]+','', str(value))\n",
    "    try:\n",
    "        clean = clean.split('.')[0]\n",
    "    except:\n",
    "        clean = np.nan\n",
    "    \n",
    "    return clean"
   ]
  },
  {
   "cell_type": "code",
   "execution_count": 172,
   "id": "ccb87b7f",
   "metadata": {},
   "outputs": [],
   "source": [
    "# Cleaning and converting the data type of ITIN_FARE\n",
    "tickets['ITIN_FARE'] = tickets['ITIN_FARE'].apply(lambda x: clean_value(x))\n",
    "tickets['ITIN_FARE'] = tickets['ITIN_FARE'].replace('',np.nan).astype('float64')"
   ]
  },
  {
   "cell_type": "code",
   "execution_count": 173,
   "id": "f92fc897",
   "metadata": {},
   "outputs": [
    {
     "data": {
      "text/plain": [
       "count    683663.000000\n",
       "mean        472.813949\n",
       "std         340.666396\n",
       "min           0.000000\n",
       "25%         281.000000\n",
       "50%         416.000000\n",
       "75%         596.000000\n",
       "max       38400.000000\n",
       "Name: ITIN_FARE, dtype: float64"
      ]
     },
     "execution_count": 173,
     "metadata": {},
     "output_type": "execute_result"
    }
   ],
   "source": [
    "tickets['ITIN_FARE'].describe()"
   ]
  },
  {
   "cell_type": "markdown",
   "id": "0111d9a9",
   "metadata": {},
   "source": [
    "#### Defining a new column 'TRIP' that corresponds to the round trip between ORIGIN and the DESTINATION column\n",
    "\n",
    "For eg. if the ORIGIN is SFO and the destination is LAX. The trip column will have the value 'SFO-LAX'\n",
    "\n",
    "This column will be used to analyse the data at a round trip level. \n",
    "\n",
    "**Missing value treatment**  \n",
    "Besides, we will use the mean fare values for each round trip to impute the **missing data** for that particular round trip. This will ensure that the imputed values corresponds to the average behaviour for that particular round trip. We use the average because the mean and the median values are pretty close to each other."
   ]
  },
  {
   "cell_type": "code",
   "execution_count": 174,
   "id": "3ae3d967",
   "metadata": {},
   "outputs": [],
   "source": [
    "# A roundtrip column defined by the origin and destination of the tickets dataset\n",
    "tickets['TRIP'] = tickets['ORIGIN'] + '-' + tickets['DESTINATION']"
   ]
  },
  {
   "cell_type": "code",
   "execution_count": 175,
   "id": "ebd07cfa",
   "metadata": {},
   "outputs": [
    {
     "data": {
      "text/plain": [
       "37744"
      ]
     },
     "execution_count": 175,
     "metadata": {},
     "output_type": "execute_result"
    }
   ],
   "source": [
    "#Understand how many unique roundtrips are present\n",
    "tickets['TRIP'].nunique()"
   ]
  },
  {
   "cell_type": "code",
   "execution_count": 176,
   "id": "dfef1465",
   "metadata": {},
   "outputs": [
    {
     "data": {
      "text/html": [
       "<div>\n",
       "<style scoped>\n",
       "    .dataframe tbody tr th:only-of-type {\n",
       "        vertical-align: middle;\n",
       "    }\n",
       "\n",
       "    .dataframe tbody tr th {\n",
       "        vertical-align: top;\n",
       "    }\n",
       "\n",
       "    .dataframe thead th {\n",
       "        text-align: right;\n",
       "    }\n",
       "</style>\n",
       "<table border=\"1\" class=\"dataframe\">\n",
       "  <thead>\n",
       "    <tr style=\"text-align: right;\">\n",
       "      <th></th>\n",
       "      <th>TRIP</th>\n",
       "      <th>AVG_FARE</th>\n",
       "    </tr>\n",
       "  </thead>\n",
       "  <tbody>\n",
       "    <tr>\n",
       "      <th>0</th>\n",
       "      <td>ABE-ABQ</td>\n",
       "      <td>534.000000</td>\n",
       "    </tr>\n",
       "    <tr>\n",
       "      <th>1</th>\n",
       "      <td>ABE-AGS</td>\n",
       "      <td>299.000000</td>\n",
       "    </tr>\n",
       "    <tr>\n",
       "      <th>2</th>\n",
       "      <td>ABE-AMA</td>\n",
       "      <td>654.000000</td>\n",
       "    </tr>\n",
       "    <tr>\n",
       "      <th>3</th>\n",
       "      <td>ABE-ASE</td>\n",
       "      <td>742.000000</td>\n",
       "    </tr>\n",
       "    <tr>\n",
       "      <th>4</th>\n",
       "      <td>ABE-ATL</td>\n",
       "      <td>505.038462</td>\n",
       "    </tr>\n",
       "    <tr>\n",
       "      <th>...</th>\n",
       "      <td>...</td>\n",
       "      <td>...</td>\n",
       "    </tr>\n",
       "    <tr>\n",
       "      <th>37739</th>\n",
       "      <td>YUM-SMF</td>\n",
       "      <td>276.500000</td>\n",
       "    </tr>\n",
       "    <tr>\n",
       "      <th>37740</th>\n",
       "      <td>YUM-SRQ</td>\n",
       "      <td>696.000000</td>\n",
       "    </tr>\n",
       "    <tr>\n",
       "      <th>37741</th>\n",
       "      <td>YUM-TOL</td>\n",
       "      <td>335.000000</td>\n",
       "    </tr>\n",
       "    <tr>\n",
       "      <th>37742</th>\n",
       "      <td>YUM-TPA</td>\n",
       "      <td>544.333333</td>\n",
       "    </tr>\n",
       "    <tr>\n",
       "      <th>37743</th>\n",
       "      <td>YUM-TUL</td>\n",
       "      <td>576.000000</td>\n",
       "    </tr>\n",
       "  </tbody>\n",
       "</table>\n",
       "<p>37744 rows × 2 columns</p>\n",
       "</div>"
      ],
      "text/plain": [
       "          TRIP    AVG_FARE\n",
       "0      ABE-ABQ  534.000000\n",
       "1      ABE-AGS  299.000000\n",
       "2      ABE-AMA  654.000000\n",
       "3      ABE-ASE  742.000000\n",
       "4      ABE-ATL  505.038462\n",
       "...        ...         ...\n",
       "37739  YUM-SMF  276.500000\n",
       "37740  YUM-SRQ  696.000000\n",
       "37741  YUM-TOL  335.000000\n",
       "37742  YUM-TPA  544.333333\n",
       "37743  YUM-TUL  576.000000\n",
       "\n",
       "[37744 rows x 2 columns]"
      ]
     },
     "execution_count": 176,
     "metadata": {},
     "output_type": "execute_result"
    }
   ],
   "source": [
    "#Calculating the mean of the ITIN_FARE for each roundtrip and renaming the column as AVG_FARE\n",
    "avg_ticket_price = tickets.groupby('TRIP')['ITIN_FARE'].mean().reset_index().rename(columns={'ITIN_FARE':'AVG_FARE'})\n",
    "avg_ticket_price"
   ]
  },
  {
   "cell_type": "code",
   "execution_count": 177,
   "id": "bc2e122f",
   "metadata": {},
   "outputs": [
    {
     "data": {
      "text/plain": [
       "TRIP        0\n",
       "AVG_FARE    8\n",
       "dtype: int64"
      ]
     },
     "execution_count": 177,
     "metadata": {},
     "output_type": "execute_result"
    }
   ],
   "source": [
    "# Checking for Null values in AVG_TICKET PRICE Dataset\n",
    "avg_ticket_price.isna().sum()"
   ]
  },
  {
   "cell_type": "code",
   "execution_count": 178,
   "id": "482a6519",
   "metadata": {},
   "outputs": [
    {
     "data": {
      "text/html": [
       "<div>\n",
       "<style scoped>\n",
       "    .dataframe tbody tr th:only-of-type {\n",
       "        vertical-align: middle;\n",
       "    }\n",
       "\n",
       "    .dataframe tbody tr th {\n",
       "        vertical-align: top;\n",
       "    }\n",
       "\n",
       "    .dataframe thead th {\n",
       "        text-align: right;\n",
       "    }\n",
       "</style>\n",
       "<table border=\"1\" class=\"dataframe\">\n",
       "  <thead>\n",
       "    <tr style=\"text-align: right;\">\n",
       "      <th></th>\n",
       "      <th>TRIP</th>\n",
       "      <th>AVG_FARE</th>\n",
       "    </tr>\n",
       "  </thead>\n",
       "  <tbody>\n",
       "    <tr>\n",
       "      <th>5148</th>\n",
       "      <td>BTR-MLI</td>\n",
       "      <td>NaN</td>\n",
       "    </tr>\n",
       "    <tr>\n",
       "      <th>5316</th>\n",
       "      <td>BTV-SWF</td>\n",
       "      <td>NaN</td>\n",
       "    </tr>\n",
       "    <tr>\n",
       "      <th>8224</th>\n",
       "      <td>CPR-EUG</td>\n",
       "      <td>NaN</td>\n",
       "    </tr>\n",
       "    <tr>\n",
       "      <th>11204</th>\n",
       "      <td>ECP-FWA</td>\n",
       "      <td>NaN</td>\n",
       "    </tr>\n",
       "    <tr>\n",
       "      <th>14047</th>\n",
       "      <td>GEG-EWN</td>\n",
       "      <td>NaN</td>\n",
       "    </tr>\n",
       "    <tr>\n",
       "      <th>17371</th>\n",
       "      <td>IDA-EKO</td>\n",
       "      <td>NaN</td>\n",
       "    </tr>\n",
       "    <tr>\n",
       "      <th>27584</th>\n",
       "      <td>PHL-SJT</td>\n",
       "      <td>NaN</td>\n",
       "    </tr>\n",
       "    <tr>\n",
       "      <th>32983</th>\n",
       "      <td>SFO-ISP</td>\n",
       "      <td>NaN</td>\n",
       "    </tr>\n",
       "  </tbody>\n",
       "</table>\n",
       "</div>"
      ],
      "text/plain": [
       "          TRIP  AVG_FARE\n",
       "5148   BTR-MLI       NaN\n",
       "5316   BTV-SWF       NaN\n",
       "8224   CPR-EUG       NaN\n",
       "11204  ECP-FWA       NaN\n",
       "14047  GEG-EWN       NaN\n",
       "17371  IDA-EKO       NaN\n",
       "27584  PHL-SJT       NaN\n",
       "32983  SFO-ISP       NaN"
      ]
     },
     "execution_count": 178,
     "metadata": {},
     "output_type": "execute_result"
    }
   ],
   "source": [
    "# Displaying the trips which have a Null Value in AVG_FARE\n",
    "avg_ticket_price[avg_ticket_price['AVG_FARE'].isna()]"
   ]
  },
  {
   "cell_type": "markdown",
   "id": "059ced0c",
   "metadata": {},
   "source": [
    "We observe that **8** round trips have **no fare** information for them. We fill these missing values with the **median** ticket price for a round trip."
   ]
  },
  {
   "cell_type": "code",
   "execution_count": 179,
   "id": "3f73bf1a",
   "metadata": {},
   "outputs": [
    {
     "data": {
      "text/html": [
       "<div>\n",
       "<style scoped>\n",
       "    .dataframe tbody tr th:only-of-type {\n",
       "        vertical-align: middle;\n",
       "    }\n",
       "\n",
       "    .dataframe tbody tr th {\n",
       "        vertical-align: top;\n",
       "    }\n",
       "\n",
       "    .dataframe thead th {\n",
       "        text-align: right;\n",
       "    }\n",
       "</style>\n",
       "<table border=\"1\" class=\"dataframe\">\n",
       "  <thead>\n",
       "    <tr style=\"text-align: right;\">\n",
       "      <th></th>\n",
       "      <th>ITIN_ID</th>\n",
       "      <th>YEAR</th>\n",
       "      <th>QUARTER</th>\n",
       "      <th>ORIGIN</th>\n",
       "      <th>ORIGIN_COUNTRY</th>\n",
       "      <th>ORIGIN_STATE_ABR</th>\n",
       "      <th>ORIGIN_STATE_NM</th>\n",
       "      <th>ROUNDTRIP</th>\n",
       "      <th>REPORTING_CARRIER</th>\n",
       "      <th>PASSENGERS</th>\n",
       "      <th>ITIN_FARE</th>\n",
       "      <th>DESTINATION</th>\n",
       "      <th>IS_CLEAN_FARE</th>\n",
       "      <th>TRIP</th>\n",
       "    </tr>\n",
       "  </thead>\n",
       "  <tbody>\n",
       "    <tr>\n",
       "      <th>597004</th>\n",
       "      <td>201911821379</td>\n",
       "      <td>2019</td>\n",
       "      <td>1</td>\n",
       "      <td>ECP</td>\n",
       "      <td>US</td>\n",
       "      <td>FL</td>\n",
       "      <td>Florida</td>\n",
       "      <td>1.0</td>\n",
       "      <td>DL</td>\n",
       "      <td>1.0</td>\n",
       "      <td>NaN</td>\n",
       "      <td>FWA</td>\n",
       "      <td>0</td>\n",
       "      <td>ECP-FWA</td>\n",
       "    </tr>\n",
       "    <tr>\n",
       "      <th>640916</th>\n",
       "      <td>201912734102</td>\n",
       "      <td>2019</td>\n",
       "      <td>1</td>\n",
       "      <td>BTR</td>\n",
       "      <td>US</td>\n",
       "      <td>LA</td>\n",
       "      <td>Louisiana</td>\n",
       "      <td>1.0</td>\n",
       "      <td>MQ</td>\n",
       "      <td>1.0</td>\n",
       "      <td>NaN</td>\n",
       "      <td>MLI</td>\n",
       "      <td>0</td>\n",
       "      <td>BTR-MLI</td>\n",
       "    </tr>\n",
       "    <tr>\n",
       "      <th>646798</th>\n",
       "      <td>20191210324</td>\n",
       "      <td>2019</td>\n",
       "      <td>1</td>\n",
       "      <td>BTV</td>\n",
       "      <td>US</td>\n",
       "      <td>VT</td>\n",
       "      <td>Vermont</td>\n",
       "      <td>1.0</td>\n",
       "      <td>AA</td>\n",
       "      <td>1.0</td>\n",
       "      <td>NaN</td>\n",
       "      <td>SWF</td>\n",
       "      <td>0</td>\n",
       "      <td>BTV-SWF</td>\n",
       "    </tr>\n",
       "    <tr>\n",
       "      <th>648348</th>\n",
       "      <td>201913160021</td>\n",
       "      <td>2019</td>\n",
       "      <td>1</td>\n",
       "      <td>CPR</td>\n",
       "      <td>US</td>\n",
       "      <td>WY</td>\n",
       "      <td>Wyoming</td>\n",
       "      <td>1.0</td>\n",
       "      <td>OO</td>\n",
       "      <td>1.0</td>\n",
       "      <td>NaN</td>\n",
       "      <td>EUG</td>\n",
       "      <td>0</td>\n",
       "      <td>CPR-EUG</td>\n",
       "    </tr>\n",
       "    <tr>\n",
       "      <th>648349</th>\n",
       "      <td>201913160021</td>\n",
       "      <td>2019</td>\n",
       "      <td>1</td>\n",
       "      <td>CPR</td>\n",
       "      <td>US</td>\n",
       "      <td>WY</td>\n",
       "      <td>Wyoming</td>\n",
       "      <td>1.0</td>\n",
       "      <td>OO</td>\n",
       "      <td>1.0</td>\n",
       "      <td>NaN</td>\n",
       "      <td>EUG</td>\n",
       "      <td>0</td>\n",
       "      <td>CPR-EUG</td>\n",
       "    </tr>\n",
       "    <tr>\n",
       "      <th>666384</th>\n",
       "      <td>20191433856</td>\n",
       "      <td>2019</td>\n",
       "      <td>1</td>\n",
       "      <td>GEG</td>\n",
       "      <td>US</td>\n",
       "      <td>WA</td>\n",
       "      <td>Washington</td>\n",
       "      <td>1.0</td>\n",
       "      <td>AA</td>\n",
       "      <td>1.0</td>\n",
       "      <td>NaN</td>\n",
       "      <td>EWN</td>\n",
       "      <td>0</td>\n",
       "      <td>GEG-EWN</td>\n",
       "    </tr>\n",
       "    <tr>\n",
       "      <th>675130</th>\n",
       "      <td>201911004520</td>\n",
       "      <td>2019</td>\n",
       "      <td>1</td>\n",
       "      <td>SFO</td>\n",
       "      <td>US</td>\n",
       "      <td>CA</td>\n",
       "      <td>California</td>\n",
       "      <td>1.0</td>\n",
       "      <td>AA</td>\n",
       "      <td>1.0</td>\n",
       "      <td>NaN</td>\n",
       "      <td>ISP</td>\n",
       "      <td>0</td>\n",
       "      <td>SFO-ISP</td>\n",
       "    </tr>\n",
       "    <tr>\n",
       "      <th>675131</th>\n",
       "      <td>201911004520</td>\n",
       "      <td>2019</td>\n",
       "      <td>1</td>\n",
       "      <td>SFO</td>\n",
       "      <td>US</td>\n",
       "      <td>CA</td>\n",
       "      <td>California</td>\n",
       "      <td>1.0</td>\n",
       "      <td>AA</td>\n",
       "      <td>1.0</td>\n",
       "      <td>NaN</td>\n",
       "      <td>ISP</td>\n",
       "      <td>0</td>\n",
       "      <td>SFO-ISP</td>\n",
       "    </tr>\n",
       "    <tr>\n",
       "      <th>675916</th>\n",
       "      <td>20191827519</td>\n",
       "      <td>2019</td>\n",
       "      <td>1</td>\n",
       "      <td>PHL</td>\n",
       "      <td>US</td>\n",
       "      <td>PA</td>\n",
       "      <td>Pennsylvania</td>\n",
       "      <td>1.0</td>\n",
       "      <td>AA</td>\n",
       "      <td>3.0</td>\n",
       "      <td>NaN</td>\n",
       "      <td>SJT</td>\n",
       "      <td>0</td>\n",
       "      <td>PHL-SJT</td>\n",
       "    </tr>\n",
       "    <tr>\n",
       "      <th>682016</th>\n",
       "      <td>201913232309</td>\n",
       "      <td>2019</td>\n",
       "      <td>1</td>\n",
       "      <td>IDA</td>\n",
       "      <td>US</td>\n",
       "      <td>ID</td>\n",
       "      <td>Idaho</td>\n",
       "      <td>1.0</td>\n",
       "      <td>OO</td>\n",
       "      <td>1.0</td>\n",
       "      <td>NaN</td>\n",
       "      <td>EKO</td>\n",
       "      <td>0</td>\n",
       "      <td>IDA-EKO</td>\n",
       "    </tr>\n",
       "  </tbody>\n",
       "</table>\n",
       "</div>"
      ],
      "text/plain": [
       "             ITIN_ID  YEAR  QUARTER ORIGIN ORIGIN_COUNTRY ORIGIN_STATE_ABR  \\\n",
       "597004  201911821379  2019        1    ECP             US               FL   \n",
       "640916  201912734102  2019        1    BTR             US               LA   \n",
       "646798   20191210324  2019        1    BTV             US               VT   \n",
       "648348  201913160021  2019        1    CPR             US               WY   \n",
       "648349  201913160021  2019        1    CPR             US               WY   \n",
       "666384   20191433856  2019        1    GEG             US               WA   \n",
       "675130  201911004520  2019        1    SFO             US               CA   \n",
       "675131  201911004520  2019        1    SFO             US               CA   \n",
       "675916   20191827519  2019        1    PHL             US               PA   \n",
       "682016  201913232309  2019        1    IDA             US               ID   \n",
       "\n",
       "       ORIGIN_STATE_NM  ROUNDTRIP REPORTING_CARRIER  PASSENGERS  ITIN_FARE  \\\n",
       "597004         Florida        1.0                DL         1.0        NaN   \n",
       "640916       Louisiana        1.0                MQ         1.0        NaN   \n",
       "646798         Vermont        1.0                AA         1.0        NaN   \n",
       "648348         Wyoming        1.0                OO         1.0        NaN   \n",
       "648349         Wyoming        1.0                OO         1.0        NaN   \n",
       "666384      Washington        1.0                AA         1.0        NaN   \n",
       "675130      California        1.0                AA         1.0        NaN   \n",
       "675131      California        1.0                AA         1.0        NaN   \n",
       "675916    Pennsylvania        1.0                AA         3.0        NaN   \n",
       "682016           Idaho        1.0                OO         1.0        NaN   \n",
       "\n",
       "       DESTINATION  IS_CLEAN_FARE     TRIP  \n",
       "597004         FWA              0  ECP-FWA  \n",
       "640916         MLI              0  BTR-MLI  \n",
       "646798         SWF              0  BTV-SWF  \n",
       "648348         EUG              0  CPR-EUG  \n",
       "648349         EUG              0  CPR-EUG  \n",
       "666384         EWN              0  GEG-EWN  \n",
       "675130         ISP              0  SFO-ISP  \n",
       "675131         ISP              0  SFO-ISP  \n",
       "675916         SJT              0  PHL-SJT  \n",
       "682016         EKO              0  IDA-EKO  "
      ]
     },
     "execution_count": 179,
     "metadata": {},
     "output_type": "execute_result"
    }
   ],
   "source": [
    "# Displaying the trips and the respective columns where ITIN_FARE(that corresponds to AVG_FARE) is Null\n",
    "tickets[tickets['TRIP'].isin(avg_ticket_price[avg_ticket_price['AVG_FARE'].isna()]['TRIP'])]"
   ]
  },
  {
   "cell_type": "code",
   "execution_count": 180,
   "id": "beae1690",
   "metadata": {},
   "outputs": [],
   "source": [
    "# Filling the missing values with the median of AVG_FARE\n",
    "avg_ticket_price['AVG_FARE'] = avg_ticket_price['AVG_FARE'].fillna(avg_ticket_price['AVG_FARE'].median())"
   ]
  },
  {
   "cell_type": "code",
   "execution_count": 181,
   "id": "d56ae967",
   "metadata": {},
   "outputs": [],
   "source": [
    "# Merging the tickets dataset on the Trip column with the Avg_ticket_price dataset\n",
    "tickets = pd.merge(tickets,\n",
    "                   avg_ticket_price,\n",
    "                   on = 'TRIP',\n",
    "                   how = 'left')"
   ]
  },
  {
   "cell_type": "code",
   "execution_count": 182,
   "id": "45fb4d3d",
   "metadata": {},
   "outputs": [],
   "source": [
    "# We define a new column 'ITIN_FARE_CLEAN' where we fill the missing values \n",
    "# with the corresponding average round trip fare \n",
    "tickets['ITIN_FARE_CLEAN'] = np.where(tickets['ITIN_FARE'].isna(), tickets['AVG_FARE'], tickets['ITIN_FARE'])"
   ]
  },
  {
   "cell_type": "code",
   "execution_count": 183,
   "id": "4fa8ed3a",
   "metadata": {},
   "outputs": [
    {
     "data": {
      "text/plain": [
       "count    684208.000000\n",
       "mean        472.820810\n",
       "std         340.558426\n",
       "min           0.000000\n",
       "25%         281.000000\n",
       "50%         416.000000\n",
       "75%         596.000000\n",
       "max       38400.000000\n",
       "Name: ITIN_FARE_CLEAN, dtype: float64"
      ]
     },
     "execution_count": 183,
     "metadata": {},
     "output_type": "execute_result"
    }
   ],
   "source": [
    "tickets['ITIN_FARE_CLEAN'].describe()\n",
    "# As seen that the mean and median in the ITIN FARE CLEAN column is very close to each other impying that this is a normal distribution rather than a skewed one."
   ]
  },
  {
   "cell_type": "markdown",
   "id": "53118f86",
   "metadata": {},
   "source": [
    "#### Outlier Detection "
   ]
  },
  {
   "cell_type": "code",
   "execution_count": 184,
   "id": "4426f93c",
   "metadata": {},
   "outputs": [
    {
     "data": {
      "text/plain": [
       "Text(0, 0.5, 'Number of tickets')"
      ]
     },
     "execution_count": 184,
     "metadata": {},
     "output_type": "execute_result"
    },
    {
     "data": {
      "image/png": "[encoded data removed]",
      "text/plain": [
       "<Figure size 1080x576 with 1 Axes>"
      ]
     },
     "metadata": {},
     "output_type": "display_data"
    }
   ],
   "source": [
    "# Plotting a histogram to detect outliers\n",
    "sns.histplot(tickets['ITIN_FARE_CLEAN'])\n",
    "plt.title(\"Outliers in the ITIN FARE Column\")\n",
    "plt.xlabel(\"ITIN FARE\")\n",
    "plt.ylabel(\"Number of tickets\")"
   ]
  },
  {
   "cell_type": "markdown",
   "id": "4e8c3b6f",
   "metadata": {},
   "source": [
    "#### Removing the outliers in the tickets data\n",
    "\n",
    "Based on the graph, we can see that the there are outliers present in the fares. We will remove the bottom and top 0.5% records and work with 99% of the data"
   ]
  },
  {
   "cell_type": "code",
   "execution_count": 185,
   "id": "aa0d1b89",
   "metadata": {},
   "outputs": [],
   "source": [
    "# Applying the condtion for outlier elimination\n",
    "# how did we get these numbers\n",
    "tickets = tickets[(tickets['ITIN_FARE_CLEAN'] <= tickets['ITIN_FARE_CLEAN'].quantile(0.995)) & \n",
    "                  (tickets['ITIN_FARE_CLEAN'] > tickets['ITIN_FARE_CLEAN'].quantile(0.005))]"
   ]
  },
  {
   "cell_type": "code",
   "execution_count": 186,
   "id": "78515ff6",
   "metadata": {},
   "outputs": [
    {
     "data": {
      "text/plain": [
       "Text(0, 0.5, 'Number of tickets')"
      ]
     },
     "execution_count": 186,
     "metadata": {},
     "output_type": "execute_result"
    },
    {
     "data": {
      "image/png": "[encoded data removed]",
      "text/plain": [
       "<Figure size 1080x576 with 1 Axes>"
      ]
     },
     "metadata": {},
     "output_type": "display_data"
    }
   ],
   "source": [
    "# Plotting the ITIN_FARE_CLEAN with no outliers\n",
    "sns.histplot(tickets['ITIN_FARE_CLEAN'])\n",
    "plt.title(\"Removal of outilers in ITIN FARE \")\n",
    "plt.xlabel(\"ITIN FARE\")\n",
    "plt.ylabel(\"Number of tickets\")"
   ]
  },
  {
   "cell_type": "code",
   "execution_count": 187,
   "id": "54d7de0b",
   "metadata": {},
   "outputs": [
    {
     "data": {
      "text/plain": [
       "Text(0, 0.5, 'Fare Charged per Passenger by the Airline in USD')"
      ]
     },
     "execution_count": 187,
     "metadata": {},
     "output_type": "execute_result"
    },
    {
     "data": {
      "image/png": "[encoded data removed]",
      "text/plain": [
       "<Figure size 1080x576 with 1 Axes>"
      ]
     },
     "metadata": {},
     "output_type": "display_data"
    }
   ],
   "source": [
    "# Understand relationship between different carriers and the respective fare\n",
    "sns.boxplot(x = tickets['REPORTING_CARRIER'],\n",
    "            y = tickets['ITIN_FARE_CLEAN'])\n",
    "plt.title(\"Relationship between Airlines and Fare Charged per Passenger\")\n",
    "plt.xlabel(\"Airlines\")\n",
    "plt.ylabel(\"Fare Charged per Passenger by the Airline in USD\")"
   ]
  },
  {
   "cell_type": "markdown",
   "id": "e42423e0",
   "metadata": {},
   "source": [
    "#### We can see that the fares on average cost ~500 USD. With most of the airlines charging roughly the same amount for a round-trip except the airlines that have either monopoly operating in a particular region or are cost efficient like Frontier Airlines(F9), Spirit Airlines(NK), Compass Airlines(CP), Horizon Air(QX), Southwest Airlines(WN), Sky West Airlines(SY), Hawaiian Airlines(HA) and Allegiant Air(G4)."
   ]
  },
  {
   "cell_type": "code",
   "execution_count": 188,
   "id": "8c3e3fff",
   "metadata": {},
   "outputs": [
    {
     "data": {
      "text/html": [
       "<div>\n",
       "<style scoped>\n",
       "    .dataframe tbody tr th:only-of-type {\n",
       "        vertical-align: middle;\n",
       "    }\n",
       "\n",
       "    .dataframe tbody tr th {\n",
       "        vertical-align: top;\n",
       "    }\n",
       "\n",
       "    .dataframe thead th {\n",
       "        text-align: right;\n",
       "    }\n",
       "</style>\n",
       "<table border=\"1\" class=\"dataframe\">\n",
       "  <thead>\n",
       "    <tr style=\"text-align: right;\">\n",
       "      <th></th>\n",
       "      <th>0</th>\n",
       "      <th>1</th>\n",
       "      <th>2</th>\n",
       "      <th>3</th>\n",
       "      <th>4</th>\n",
       "    </tr>\n",
       "  </thead>\n",
       "  <tbody>\n",
       "    <tr>\n",
       "      <th>ITIN_ID</th>\n",
       "      <td>201912723049</td>\n",
       "      <td>201912723465</td>\n",
       "      <td>201912723049</td>\n",
       "      <td>201912723465</td>\n",
       "      <td>201913102001</td>\n",
       "    </tr>\n",
       "    <tr>\n",
       "      <th>YEAR</th>\n",
       "      <td>2019</td>\n",
       "      <td>2019</td>\n",
       "      <td>2019</td>\n",
       "      <td>2019</td>\n",
       "      <td>2019</td>\n",
       "    </tr>\n",
       "    <tr>\n",
       "      <th>QUARTER</th>\n",
       "      <td>1</td>\n",
       "      <td>1</td>\n",
       "      <td>1</td>\n",
       "      <td>1</td>\n",
       "      <td>1</td>\n",
       "    </tr>\n",
       "    <tr>\n",
       "      <th>ORIGIN</th>\n",
       "      <td>ABI</td>\n",
       "      <td>ABI</td>\n",
       "      <td>ABI</td>\n",
       "      <td>ABI</td>\n",
       "      <td>ABR</td>\n",
       "    </tr>\n",
       "    <tr>\n",
       "      <th>ORIGIN_COUNTRY</th>\n",
       "      <td>US</td>\n",
       "      <td>US</td>\n",
       "      <td>US</td>\n",
       "      <td>US</td>\n",
       "      <td>US</td>\n",
       "    </tr>\n",
       "    <tr>\n",
       "      <th>ORIGIN_STATE_ABR</th>\n",
       "      <td>TX</td>\n",
       "      <td>TX</td>\n",
       "      <td>TX</td>\n",
       "      <td>TX</td>\n",
       "      <td>SD</td>\n",
       "    </tr>\n",
       "    <tr>\n",
       "      <th>ORIGIN_STATE_NM</th>\n",
       "      <td>Texas</td>\n",
       "      <td>Texas</td>\n",
       "      <td>Texas</td>\n",
       "      <td>Texas</td>\n",
       "      <td>South Dakota</td>\n",
       "    </tr>\n",
       "    <tr>\n",
       "      <th>ROUNDTRIP</th>\n",
       "      <td>1.0</td>\n",
       "      <td>1.0</td>\n",
       "      <td>1.0</td>\n",
       "      <td>1.0</td>\n",
       "      <td>1.0</td>\n",
       "    </tr>\n",
       "    <tr>\n",
       "      <th>REPORTING_CARRIER</th>\n",
       "      <td>MQ</td>\n",
       "      <td>MQ</td>\n",
       "      <td>MQ</td>\n",
       "      <td>MQ</td>\n",
       "      <td>OO</td>\n",
       "    </tr>\n",
       "    <tr>\n",
       "      <th>PASSENGERS</th>\n",
       "      <td>1.0</td>\n",
       "      <td>1.0</td>\n",
       "      <td>1.0</td>\n",
       "      <td>1.0</td>\n",
       "      <td>1.0</td>\n",
       "    </tr>\n",
       "    <tr>\n",
       "      <th>ITIN_FARE</th>\n",
       "      <td>736.0</td>\n",
       "      <td>587.0</td>\n",
       "      <td>736.0</td>\n",
       "      <td>587.0</td>\n",
       "      <td>800.0</td>\n",
       "    </tr>\n",
       "    <tr>\n",
       "      <th>DESTINATION</th>\n",
       "      <td>DAB</td>\n",
       "      <td>DAB</td>\n",
       "      <td>DAB</td>\n",
       "      <td>DAB</td>\n",
       "      <td>DAB</td>\n",
       "    </tr>\n",
       "    <tr>\n",
       "      <th>IS_CLEAN_FARE</th>\n",
       "      <td>1</td>\n",
       "      <td>1</td>\n",
       "      <td>1</td>\n",
       "      <td>1</td>\n",
       "      <td>1</td>\n",
       "    </tr>\n",
       "    <tr>\n",
       "      <th>TRIP</th>\n",
       "      <td>ABI-DAB</td>\n",
       "      <td>ABI-DAB</td>\n",
       "      <td>ABI-DAB</td>\n",
       "      <td>ABI-DAB</td>\n",
       "      <td>ABR-DAB</td>\n",
       "    </tr>\n",
       "    <tr>\n",
       "      <th>AVG_FARE</th>\n",
       "      <td>661.5</td>\n",
       "      <td>661.5</td>\n",
       "      <td>661.5</td>\n",
       "      <td>661.5</td>\n",
       "      <td>800.0</td>\n",
       "    </tr>\n",
       "    <tr>\n",
       "      <th>ITIN_FARE_CLEAN</th>\n",
       "      <td>736.0</td>\n",
       "      <td>587.0</td>\n",
       "      <td>736.0</td>\n",
       "      <td>587.0</td>\n",
       "      <td>800.0</td>\n",
       "    </tr>\n",
       "  </tbody>\n",
       "</table>\n",
       "</div>"
      ],
      "text/plain": [
       "                              0             1             2             3  \\\n",
       "ITIN_ID            201912723049  201912723465  201912723049  201912723465   \n",
       "YEAR                       2019          2019          2019          2019   \n",
       "QUARTER                       1             1             1             1   \n",
       "ORIGIN                      ABI           ABI           ABI           ABI   \n",
       "ORIGIN_COUNTRY               US            US            US            US   \n",
       "ORIGIN_STATE_ABR             TX            TX            TX            TX   \n",
       "ORIGIN_STATE_NM           Texas         Texas         Texas         Texas   \n",
       "ROUNDTRIP                   1.0           1.0           1.0           1.0   \n",
       "REPORTING_CARRIER            MQ            MQ            MQ            MQ   \n",
       "PASSENGERS                  1.0           1.0           1.0           1.0   \n",
       "ITIN_FARE                 736.0         587.0         736.0         587.0   \n",
       "DESTINATION                 DAB           DAB           DAB           DAB   \n",
       "IS_CLEAN_FARE                 1             1             1             1   \n",
       "TRIP                    ABI-DAB       ABI-DAB       ABI-DAB       ABI-DAB   \n",
       "AVG_FARE                  661.5         661.5         661.5         661.5   \n",
       "ITIN_FARE_CLEAN           736.0         587.0         736.0         587.0   \n",
       "\n",
       "                              4  \n",
       "ITIN_ID            201913102001  \n",
       "YEAR                       2019  \n",
       "QUARTER                       1  \n",
       "ORIGIN                      ABR  \n",
       "ORIGIN_COUNTRY               US  \n",
       "ORIGIN_STATE_ABR             SD  \n",
       "ORIGIN_STATE_NM    South Dakota  \n",
       "ROUNDTRIP                   1.0  \n",
       "REPORTING_CARRIER            OO  \n",
       "PASSENGERS                  1.0  \n",
       "ITIN_FARE                 800.0  \n",
       "DESTINATION                 DAB  \n",
       "IS_CLEAN_FARE                 1  \n",
       "TRIP                    ABR-DAB  \n",
       "AVG_FARE                  800.0  \n",
       "ITIN_FARE_CLEAN           800.0  "
      ]
     },
     "execution_count": 188,
     "metadata": {},
     "output_type": "execute_result"
    }
   ],
   "source": [
    "# Displaying the first 5 rows of tickets with all the columns in the merged ticket dataset\n",
    "tickets.head().T"
   ]
  },
  {
   "cell_type": "markdown",
   "id": "327e65ac",
   "metadata": {},
   "source": [
    "## Exploring the Flights Data"
   ]
  },
  {
   "cell_type": "code",
   "execution_count": 189,
   "id": "24c3f219",
   "metadata": {},
   "outputs": [],
   "source": [
    "# From the data dictionary we see that 'FL_DATE' is a date column and hence we parse it into a datetype object \n",
    "# while loading the dataset\n",
    "flights = pd.read_csv('Flights.csv', parse_dates=['FL_DATE'])"
   ]
  },
  {
   "cell_type": "markdown",
   "id": "f7332c8e",
   "metadata": {},
   "source": [
    "#### Size of the data"
   ]
  },
  {
   "cell_type": "code",
   "execution_count": 190,
   "id": "d61c46e9",
   "metadata": {},
   "outputs": [
    {
     "data": {
      "text/plain": [
       "(1915886, 16)"
      ]
     },
     "execution_count": 190,
     "metadata": {},
     "output_type": "execute_result"
    }
   ],
   "source": [
    "flights.shape\n"
   ]
  },
  {
   "cell_type": "markdown",
   "id": "6e222d8d",
   "metadata": {},
   "source": [
    "We have data corresponding to ~1.9 million flights."
   ]
  },
  {
   "cell_type": "markdown",
   "id": "ea7ed1f4",
   "metadata": {},
   "source": [
    "#### Sample of the data"
   ]
  },
  {
   "cell_type": "code",
   "execution_count": 191,
   "id": "e39c8383",
   "metadata": {},
   "outputs": [
    {
     "data": {
      "text/html": [
       "<div>\n",
       "<style scoped>\n",
       "    .dataframe tbody tr th:only-of-type {\n",
       "        vertical-align: middle;\n",
       "    }\n",
       "\n",
       "    .dataframe tbody tr th {\n",
       "        vertical-align: top;\n",
       "    }\n",
       "\n",
       "    .dataframe thead th {\n",
       "        text-align: right;\n",
       "    }\n",
       "</style>\n",
       "<table border=\"1\" class=\"dataframe\">\n",
       "  <thead>\n",
       "    <tr style=\"text-align: right;\">\n",
       "      <th></th>\n",
       "      <th>0</th>\n",
       "      <th>1</th>\n",
       "      <th>2</th>\n",
       "      <th>3</th>\n",
       "      <th>4</th>\n",
       "    </tr>\n",
       "  </thead>\n",
       "  <tbody>\n",
       "    <tr>\n",
       "      <th>FL_DATE</th>\n",
       "      <td>2019-03-02 00:00:00</td>\n",
       "      <td>2019-03-02 00:00:00</td>\n",
       "      <td>2019-03-02 00:00:00</td>\n",
       "      <td>2019-03-02 00:00:00</td>\n",
       "      <td>2019-03-02 00:00:00</td>\n",
       "    </tr>\n",
       "    <tr>\n",
       "      <th>OP_CARRIER</th>\n",
       "      <td>WN</td>\n",
       "      <td>WN</td>\n",
       "      <td>WN</td>\n",
       "      <td>WN</td>\n",
       "      <td>WN</td>\n",
       "    </tr>\n",
       "    <tr>\n",
       "      <th>TAIL_NUM</th>\n",
       "      <td>N955WN</td>\n",
       "      <td>N8686A</td>\n",
       "      <td>N201LV</td>\n",
       "      <td>N413WN</td>\n",
       "      <td>N7832A</td>\n",
       "    </tr>\n",
       "    <tr>\n",
       "      <th>OP_CARRIER_FL_NUM</th>\n",
       "      <td>4591</td>\n",
       "      <td>3231</td>\n",
       "      <td>3383</td>\n",
       "      <td>5498</td>\n",
       "      <td>6933</td>\n",
       "    </tr>\n",
       "    <tr>\n",
       "      <th>ORIGIN_AIRPORT_ID</th>\n",
       "      <td>14635</td>\n",
       "      <td>14635</td>\n",
       "      <td>14635</td>\n",
       "      <td>14635</td>\n",
       "      <td>14635</td>\n",
       "    </tr>\n",
       "    <tr>\n",
       "      <th>ORIGIN</th>\n",
       "      <td>RSW</td>\n",
       "      <td>RSW</td>\n",
       "      <td>RSW</td>\n",
       "      <td>RSW</td>\n",
       "      <td>RSW</td>\n",
       "    </tr>\n",
       "    <tr>\n",
       "      <th>ORIGIN_CITY_NAME</th>\n",
       "      <td>Fort Myers, FL</td>\n",
       "      <td>Fort Myers, FL</td>\n",
       "      <td>Fort Myers, FL</td>\n",
       "      <td>Fort Myers, FL</td>\n",
       "      <td>Fort Myers, FL</td>\n",
       "    </tr>\n",
       "    <tr>\n",
       "      <th>DEST_AIRPORT_ID</th>\n",
       "      <td>11042</td>\n",
       "      <td>11066</td>\n",
       "      <td>11066</td>\n",
       "      <td>11066</td>\n",
       "      <td>11259</td>\n",
       "    </tr>\n",
       "    <tr>\n",
       "      <th>DESTINATION</th>\n",
       "      <td>CLE</td>\n",
       "      <td>CMH</td>\n",
       "      <td>CMH</td>\n",
       "      <td>CMH</td>\n",
       "      <td>DAL</td>\n",
       "    </tr>\n",
       "    <tr>\n",
       "      <th>DEST_CITY_NAME</th>\n",
       "      <td>Cleveland, OH</td>\n",
       "      <td>Columbus, OH</td>\n",
       "      <td>Columbus, OH</td>\n",
       "      <td>Columbus, OH</td>\n",
       "      <td>Dallas, TX</td>\n",
       "    </tr>\n",
       "    <tr>\n",
       "      <th>DEP_DELAY</th>\n",
       "      <td>-8.0</td>\n",
       "      <td>1.0</td>\n",
       "      <td>0.0</td>\n",
       "      <td>11.0</td>\n",
       "      <td>0.0</td>\n",
       "    </tr>\n",
       "    <tr>\n",
       "      <th>ARR_DELAY</th>\n",
       "      <td>-6.0</td>\n",
       "      <td>5.0</td>\n",
       "      <td>4.0</td>\n",
       "      <td>14.0</td>\n",
       "      <td>-17.0</td>\n",
       "    </tr>\n",
       "    <tr>\n",
       "      <th>CANCELLED</th>\n",
       "      <td>0.0</td>\n",
       "      <td>0.0</td>\n",
       "      <td>0.0</td>\n",
       "      <td>0.0</td>\n",
       "      <td>0.0</td>\n",
       "    </tr>\n",
       "    <tr>\n",
       "      <th>AIR_TIME</th>\n",
       "      <td>143.0</td>\n",
       "      <td>135.0</td>\n",
       "      <td>132.0</td>\n",
       "      <td>136.0</td>\n",
       "      <td>151.0</td>\n",
       "    </tr>\n",
       "    <tr>\n",
       "      <th>DISTANCE</th>\n",
       "      <td>1025.0</td>\n",
       "      <td>930.0</td>\n",
       "      <td>930.0</td>\n",
       "      <td>930.0</td>\n",
       "      <td>1005.0</td>\n",
       "    </tr>\n",
       "    <tr>\n",
       "      <th>OCCUPANCY_RATE</th>\n",
       "      <td>0.97</td>\n",
       "      <td>0.55</td>\n",
       "      <td>0.91</td>\n",
       "      <td>0.67</td>\n",
       "      <td>0.62</td>\n",
       "    </tr>\n",
       "  </tbody>\n",
       "</table>\n",
       "</div>"
      ],
      "text/plain": [
       "                                     0                    1  \\\n",
       "FL_DATE            2019-03-02 00:00:00  2019-03-02 00:00:00   \n",
       "OP_CARRIER                          WN                   WN   \n",
       "TAIL_NUM                        N955WN               N8686A   \n",
       "OP_CARRIER_FL_NUM                 4591                 3231   \n",
       "ORIGIN_AIRPORT_ID                14635                14635   \n",
       "ORIGIN                             RSW                  RSW   \n",
       "ORIGIN_CITY_NAME        Fort Myers, FL       Fort Myers, FL   \n",
       "DEST_AIRPORT_ID                  11042                11066   \n",
       "DESTINATION                        CLE                  CMH   \n",
       "DEST_CITY_NAME           Cleveland, OH         Columbus, OH   \n",
       "DEP_DELAY                         -8.0                  1.0   \n",
       "ARR_DELAY                         -6.0                  5.0   \n",
       "CANCELLED                          0.0                  0.0   \n",
       "AIR_TIME                         143.0                135.0   \n",
       "DISTANCE                        1025.0                930.0   \n",
       "OCCUPANCY_RATE                    0.97                 0.55   \n",
       "\n",
       "                                     2                    3  \\\n",
       "FL_DATE            2019-03-02 00:00:00  2019-03-02 00:00:00   \n",
       "OP_CARRIER                          WN                   WN   \n",
       "TAIL_NUM                        N201LV               N413WN   \n",
       "OP_CARRIER_FL_NUM                 3383                 5498   \n",
       "ORIGIN_AIRPORT_ID                14635                14635   \n",
       "ORIGIN                             RSW                  RSW   \n",
       "ORIGIN_CITY_NAME        Fort Myers, FL       Fort Myers, FL   \n",
       "DEST_AIRPORT_ID                  11066                11066   \n",
       "DESTINATION                        CMH                  CMH   \n",
       "DEST_CITY_NAME            Columbus, OH         Columbus, OH   \n",
       "DEP_DELAY                          0.0                 11.0   \n",
       "ARR_DELAY                          4.0                 14.0   \n",
       "CANCELLED                          0.0                  0.0   \n",
       "AIR_TIME                         132.0                136.0   \n",
       "DISTANCE                         930.0                930.0   \n",
       "OCCUPANCY_RATE                    0.91                 0.67   \n",
       "\n",
       "                                     4  \n",
       "FL_DATE            2019-03-02 00:00:00  \n",
       "OP_CARRIER                          WN  \n",
       "TAIL_NUM                        N7832A  \n",
       "OP_CARRIER_FL_NUM                 6933  \n",
       "ORIGIN_AIRPORT_ID                14635  \n",
       "ORIGIN                             RSW  \n",
       "ORIGIN_CITY_NAME        Fort Myers, FL  \n",
       "DEST_AIRPORT_ID                  11259  \n",
       "DESTINATION                        DAL  \n",
       "DEST_CITY_NAME              Dallas, TX  \n",
       "DEP_DELAY                          0.0  \n",
       "ARR_DELAY                        -17.0  \n",
       "CANCELLED                          0.0  \n",
       "AIR_TIME                         151.0  \n",
       "DISTANCE                        1005.0  \n",
       "OCCUPANCY_RATE                    0.62  "
      ]
     },
     "execution_count": 191,
     "metadata": {},
     "output_type": "execute_result"
    }
   ],
   "source": [
    "# Looking at a sample data in a transposed fashion\n",
    "flights.head().T"
   ]
  },
  {
   "cell_type": "markdown",
   "id": "51ffd9e3",
   "metadata": {},
   "source": [
    "The columns ORIGIN and DESTINATION corresponds to the IATA codes assigned to the aiports. We will use these columns to filter the data for Domestic US based flights"
   ]
  },
  {
   "cell_type": "markdown",
   "id": "7fbd98e6",
   "metadata": {},
   "source": [
    "#### Checking the data types and missing value counts"
   ]
  },
  {
   "cell_type": "code",
   "execution_count": 192,
   "id": "40656515",
   "metadata": {},
   "outputs": [
    {
     "data": {
      "text/plain": [
       "FL_DATE              datetime64[ns]\n",
       "OP_CARRIER                   object\n",
       "TAIL_NUM                     object\n",
       "OP_CARRIER_FL_NUM            object\n",
       "ORIGIN_AIRPORT_ID             int64\n",
       "ORIGIN                       object\n",
       "ORIGIN_CITY_NAME             object\n",
       "DEST_AIRPORT_ID               int64\n",
       "DESTINATION                  object\n",
       "DEST_CITY_NAME               object\n",
       "DEP_DELAY                   float64\n",
       "ARR_DELAY                   float64\n",
       "CANCELLED                   float64\n",
       "AIR_TIME                     object\n",
       "DISTANCE                     object\n",
       "OCCUPANCY_RATE              float64\n",
       "dtype: object"
      ]
     },
     "execution_count": 192,
     "metadata": {},
     "output_type": "execute_result"
    }
   ],
   "source": [
    "flights.dtypes"
   ]
  },
  {
   "cell_type": "markdown",
   "id": "921c9884",
   "metadata": {},
   "source": [
    "#### Data Quality Issue:\n",
    "\n",
    "**AIR_TIME** and **DISTANCE** needs to be in float/int format. Besides that, the rest of the columns looks appropriate"
   ]
  },
  {
   "cell_type": "code",
   "execution_count": 193,
   "id": "cc132fa5",
   "metadata": {},
   "outputs": [
    {
     "data": {
      "text/plain": [
       "FL_DATE                  0\n",
       "OP_CARRIER               0\n",
       "TAIL_NUM             12156\n",
       "OP_CARRIER_FL_NUM        0\n",
       "ORIGIN_AIRPORT_ID        0\n",
       "ORIGIN                   0\n",
       "ORIGIN_CITY_NAME         0\n",
       "DEST_AIRPORT_ID          0\n",
       "DESTINATION              0\n",
       "DEST_CITY_NAME           0\n",
       "DEP_DELAY            50351\n",
       "ARR_DELAY            55991\n",
       "CANCELLED                0\n",
       "AIR_TIME             56551\n",
       "DISTANCE               630\n",
       "OCCUPANCY_RATE         310\n",
       "dtype: int64"
      ]
     },
     "execution_count": 193,
     "metadata": {},
     "output_type": "execute_result"
    }
   ],
   "source": [
    "flights.isna().sum()"
   ]
  },
  {
   "cell_type": "code",
   "execution_count": 194,
   "id": "fe348f0b",
   "metadata": {},
   "outputs": [
    {
     "data": {
      "text/plain": [
       "<AxesSubplot:>"
      ]
     },
     "execution_count": 194,
     "metadata": {},
     "output_type": "execute_result"
    },
    {
     "data": {
      "image/png": "[encoded data removed]",
      "text/plain": [
       "<Figure size 720x360 with 3 Axes>"
      ]
     },
     "metadata": {},
     "output_type": "display_data"
    }
   ],
   "source": [
    "msno.bar(flights, color=\"dodgerblue\", sort=\"ascending\", figsize=(10,5), fontsize=12)"
   ]
  },
  {
   "cell_type": "markdown",
   "id": "507da616",
   "metadata": {},
   "source": [
    "There is no null data in ORIGIN, DESTINATION (IATA CODES) and CANCELLED column. Hence, we do not need to do data imputation before filtering the data for further analysis"
   ]
  },
  {
   "cell_type": "markdown",
   "id": "1e394905",
   "metadata": {},
   "source": [
    "#### Checking the distribution of cancelled flights"
   ]
  },
  {
   "cell_type": "code",
   "execution_count": 195,
   "id": "37a3d09c",
   "metadata": {},
   "outputs": [
    {
     "data": {
      "text/plain": [
       "0.0    1864272\n",
       "1.0      51614\n",
       "Name: CANCELLED, dtype: int64"
      ]
     },
     "execution_count": 195,
     "metadata": {},
     "output_type": "execute_result"
    }
   ],
   "source": [
    "flights['CANCELLED'].value_counts()"
   ]
  },
  {
   "cell_type": "markdown",
   "id": "bf44fcaa",
   "metadata": {},
   "source": [
    "Out of ~1.9 million flights, ~51.6K flights have been cancelled implies a cancellation rate of approx 3% which adheares to the normal airline standards. We ignore the cancelled flights and use the remaining set to filter for US based domestic flights. "
   ]
  },
  {
   "cell_type": "markdown",
   "id": "8241c2dc",
   "metadata": {},
   "source": [
    "#### Filtering the CANCELLED flights"
   ]
  },
  {
   "cell_type": "code",
   "execution_count": 196,
   "id": "a4ed1dfa",
   "metadata": {},
   "outputs": [
    {
     "data": {
      "text/plain": [
       "(1864272, 16)"
      ]
     },
     "execution_count": 196,
     "metadata": {},
     "output_type": "execute_result"
    }
   ],
   "source": [
    "flights = flights[flights['CANCELLED'] != 1.0]\n",
    "flights.shape\n",
    "# Number of the flights that are not cancelled is 1864272"
   ]
  },
  {
   "cell_type": "markdown",
   "id": "9953b670",
   "metadata": {},
   "source": [
    "#### FILTERING the ORIGIN and DESTINATION and MERGING the AIRPORT data\n",
    "\n",
    "We are interested in domestic US Flights Market. Hence, we will filter the **ORIGIN** and the **DESTINATION** column by US IATA codes we identified in the airport data analysis."
   ]
  },
  {
   "cell_type": "code",
   "execution_count": 197,
   "id": "1552150e",
   "metadata": {},
   "outputs": [],
   "source": [
    "# Merging the flights dataset with the US_airport_subset data to include all IATA CODES for both ORIGIN and DESTINATION in the flights dataset\n",
    "flights = pd.merge(flights,\n",
    "                   US_airport_subset['IATA_CODE'],\n",
    "                   left_on = 'ORIGIN',\n",
    "                   right_on = 'IATA_CODE',\n",
    "                   how = 'inner')\n",
    "\n",
    "flights.drop(['IATA_CODE'], axis = 1, inplace=True)\n",
    "\n",
    "flights = pd.merge(flights,\n",
    "                   US_airport_subset['IATA_CODE'],\n",
    "                   left_on = 'DESTINATION',\n",
    "                   right_on = 'IATA_CODE',\n",
    "                   how = 'inner')\n",
    "\n",
    "flights.drop(['IATA_CODE'], axis = 1, inplace=True)"
   ]
  },
  {
   "cell_type": "code",
   "execution_count": 198,
   "id": "89667668",
   "metadata": {},
   "outputs": [
    {
     "data": {
      "text/plain": [
       "(1832457, 16)"
      ]
     },
     "execution_count": 198,
     "metadata": {},
     "output_type": "execute_result"
    }
   ],
   "source": [
    "# Shape of the flighta dataset\n",
    "flights.shape"
   ]
  },
  {
   "cell_type": "markdown",
   "id": "bca73f33",
   "metadata": {},
   "source": [
    "### Pre-processing and cleaning the flights data\n",
    "\n",
    "We define the same column 'TRIP' as we defined above to identify a journey"
   ]
  },
  {
   "cell_type": "code",
   "execution_count": 199,
   "id": "f4ee3915",
   "metadata": {},
   "outputs": [],
   "source": [
    "flights['TRIP'] = flights['ORIGIN'] + '-' + flights['DESTINATION']"
   ]
  },
  {
   "cell_type": "markdown",
   "id": "07e5668c",
   "metadata": {},
   "source": [
    "#### Dtype Correction"
   ]
  },
  {
   "cell_type": "code",
   "execution_count": 200,
   "id": "1adb0393",
   "metadata": {},
   "outputs": [],
   "source": [
    "# Applying the clean function to the DISTANCE and AIR_TIME columsn in the flights data set and cast it to float\n",
    "flights['DISTANCE'] = flights['DISTANCE'].apply(lambda x: clean_value(x))\n",
    "flights['AIR_TIME'] = flights['AIR_TIME'].apply(lambda x: clean_value(x))"
   ]
  },
  {
   "cell_type": "code",
   "execution_count": 201,
   "id": "124d33e7",
   "metadata": {},
   "outputs": [],
   "source": [
    "flights['DISTANCE'] = flights['DISTANCE'].replace('',np.nan).astype('float64')\n",
    "flights['AIR_TIME'] = flights['AIR_TIME'].replace('',np.nan).astype('float64')"
   ]
  },
  {
   "cell_type": "markdown",
   "id": "6415705d",
   "metadata": {},
   "source": [
    "**Checking for missing values in the filtered data. We will impute the missing data using average/median statistics for the corresponding round trip**"
   ]
  },
  {
   "cell_type": "code",
   "execution_count": 202,
   "id": "e880b370",
   "metadata": {},
   "outputs": [
    {
     "data": {
      "text/plain": [
       "FL_DATE                 0\n",
       "OP_CARRIER              0\n",
       "TAIL_NUM                0\n",
       "OP_CARRIER_FL_NUM       0\n",
       "ORIGIN_AIRPORT_ID       0\n",
       "ORIGIN                  0\n",
       "ORIGIN_CITY_NAME        0\n",
       "DEST_AIRPORT_ID         0\n",
       "DESTINATION             0\n",
       "DEST_CITY_NAME          0\n",
       "DEP_DELAY               0\n",
       "ARR_DELAY            4271\n",
       "CANCELLED               0\n",
       "AIR_TIME             6751\n",
       "DISTANCE             2680\n",
       "OCCUPANCY_RATE        310\n",
       "TRIP                    0\n",
       "dtype: int64"
      ]
     },
     "execution_count": 202,
     "metadata": {},
     "output_type": "execute_result"
    }
   ],
   "source": [
    "flights.isna().sum()"
   ]
  },
  {
   "cell_type": "markdown",
   "id": "fd53165f",
   "metadata": {},
   "source": [
    "#### Outlier Detection"
   ]
  },
  {
   "cell_type": "code",
   "execution_count": 203,
   "id": "cf9a37e7",
   "metadata": {
    "scrolled": false
   },
   "outputs": [
    {
     "data": {
      "text/plain": [
       "Text(0, 0.5, 'Number of Flights')"
      ]
     },
     "execution_count": 203,
     "metadata": {},
     "output_type": "execute_result"
    },
    {
     "data": {
      "image/png": "[encoded data removed]",
      "text/plain": [
       "<Figure size 1080x576 with 1 Axes>"
      ]
     },
     "metadata": {},
     "output_type": "display_data"
    }
   ],
   "source": [
    "# Detecting outliers in the Air time column\n",
    "sns.histplot(flights['AIR_TIME'])\n",
    "plt.title(\"Outliers in the AIR TIME column\")\n",
    "plt.xlabel(\"Air Time in mins\")\n",
    "plt.ylabel(\"Number of Flights\")"
   ]
  },
  {
   "cell_type": "code",
   "execution_count": 204,
   "id": "e4759015",
   "metadata": {},
   "outputs": [
    {
     "data": {
      "text/plain": [
       "(890, 17)"
      ]
     },
     "execution_count": 204,
     "metadata": {},
     "output_type": "execute_result"
    }
   ],
   "source": [
    "# From the plot it can be seen that 890 values > 500 mins of air time are not useful for analysis\n",
    "flights[flights['AIR_TIME'] >= 500].shape"
   ]
  },
  {
   "cell_type": "code",
   "execution_count": 205,
   "id": "99b1bc11",
   "metadata": {
    "scrolled": false
   },
   "outputs": [
    {
     "data": {
      "text/plain": [
       "Text(0, 0.5, 'Number of Flights')"
      ]
     },
     "execution_count": 205,
     "metadata": {},
     "output_type": "execute_result"
    },
    {
     "data": {
      "image/png": "[encoded data removed]",
      "text/plain": [
       "<Figure size 1080x576 with 1 Axes>"
      ]
     },
     "metadata": {},
     "output_type": "display_data"
    }
   ],
   "source": [
    "# Detecting outliers in the arrival delay column\n",
    "sns.histplot(flights['ARR_DELAY'])\n",
    "plt.title(\"Outliers in the ARR DELAY column\")\n",
    "plt.xlabel(\"Arrival Delay in mins\")\n",
    "plt.ylabel(\"Number of Flights\")"
   ]
  },
  {
   "cell_type": "code",
   "execution_count": 206,
   "id": "b17d0d97",
   "metadata": {},
   "outputs": [
    {
     "data": {
      "text/plain": [
       "(2681, 17)"
      ]
     },
     "execution_count": 206,
     "metadata": {},
     "output_type": "execute_result"
    }
   ],
   "source": [
    "# From the plot it can be seen that 2681 values > 500 mins of arrival delay are not useful for analysis\n",
    "flights[flights['ARR_DELAY'] >= 500].shape"
   ]
  },
  {
   "cell_type": "code",
   "execution_count": 207,
   "id": "51ece402",
   "metadata": {
    "scrolled": false
   },
   "outputs": [
    {
     "data": {
      "text/plain": [
       "Text(0, 0.5, 'Number of Flights')"
      ]
     },
     "execution_count": 207,
     "metadata": {},
     "output_type": "execute_result"
    },
    {
     "data": {
      "image/png": "[encoded data removed]",
      "text/plain": [
       "<Figure size 1080x576 with 1 Axes>"
      ]
     },
     "metadata": {},
     "output_type": "display_data"
    }
   ],
   "source": [
    "# Detecting outliers in the departure delay column\n",
    "sns.histplot(flights['DEP_DELAY'])\n",
    "plt.title(\"Outliers in the DEP DELAY column\")\n",
    "plt.xlabel(\"Departure Delay in mins\")\n",
    "plt.ylabel(\"Number of Flights\")"
   ]
  },
  {
   "cell_type": "code",
   "execution_count": 208,
   "id": "09e01439",
   "metadata": {},
   "outputs": [
    {
     "data": {
      "text/plain": [
       "(2723, 17)"
      ]
     },
     "execution_count": 208,
     "metadata": {},
     "output_type": "execute_result"
    }
   ],
   "source": [
    "# From the plot it can be seen that 2723 values > 500 mins of departure delay are not useful for analysis\n",
    "flights[flights['DEP_DELAY'] >= 500].shape"
   ]
  },
  {
   "cell_type": "code",
   "execution_count": 209,
   "id": "99e1552b",
   "metadata": {},
   "outputs": [
    {
     "data": {
      "text/plain": [
       "Text(0, 0.5, 'Number of Flights')"
      ]
     },
     "execution_count": 209,
     "metadata": {},
     "output_type": "execute_result"
    },
    {
     "data": {
      "image/png": "[encoded data removed]",
      "text/plain": [
       "<Figure size 1080x576 with 1 Axes>"
      ]
     },
     "metadata": {},
     "output_type": "display_data"
    }
   ],
   "source": [
    "# Detecting outliers in the distance column\n",
    "sns.histplot(flights['DISTANCE'])\n",
    "plt.title(\"Outliers in the Distance column\")\n",
    "plt.xlabel(\"Distance Travelled by flight in miles\")\n",
    "plt.ylabel(\"Number of Flights\")\n"
   ]
  },
  {
   "cell_type": "code",
   "execution_count": 210,
   "id": "7f0db7b0",
   "metadata": {},
   "outputs": [
    {
     "data": {
      "text/plain": [
       "(30, 17)"
      ]
     },
     "execution_count": 210,
     "metadata": {},
     "output_type": "execute_result"
    }
   ],
   "source": [
    "# From the plot it can be seen that 30 values > 5000 miles of distance are not useful for analysis\n",
    "flights[flights['DISTANCE'] >= 5000].shape"
   ]
  },
  {
   "cell_type": "code",
   "execution_count": 211,
   "id": "409d7b26",
   "metadata": {},
   "outputs": [
    {
     "data": {
      "text/plain": [
       "Text(0, 0.5, 'Number of Flights')"
      ]
     },
     "execution_count": 211,
     "metadata": {},
     "output_type": "execute_result"
    },
    {
     "data": {
      "image/png": "[encoded data removed]",
      "text/plain": [
       "<Figure size 1080x576 with 1 Axes>"
      ]
     },
     "metadata": {},
     "output_type": "display_data"
    }
   ],
   "source": [
    "# Detecting outliers in the distance column\n",
    "sns.histplot(flights['OCCUPANCY_RATE'])\n",
    "plt.title(\"Outliers in the Occupancy Rate column\")\n",
    "plt.xlabel(\"Occuapncy Rate in each flight\")\n",
    "plt.ylabel(\"Number of Flights\")\n",
    "# From the plot it can be seen that there are no outliers present and the data is uniformly distributed accross the entire dataset"
   ]
  },
  {
   "cell_type": "markdown",
   "id": "3928b042",
   "metadata": {},
   "source": [
    "#### Removing outliers\n",
    "\n",
    "We remove outliers based on the graphs above. We define the cut off value for arrival and departure delays at 500 minutes, air time at 500 minutes and distance at 5000 miles"
   ]
  },
  {
   "cell_type": "code",
   "execution_count": 212,
   "id": "28c63bd3",
   "metadata": {},
   "outputs": [
    {
     "name": "stdout",
     "output_type": "stream",
     "text": [
      "Number of records before removing outliers: 1832457\n",
      "Number of records after removing outliers: 1820036\n"
     ]
    }
   ],
   "source": [
    "print(f\"Number of records before removing outliers: {flights.shape[0]}\")\n",
    "flights = flights[(flights['DEP_DELAY'] <= 500) &\n",
    "                  (flights['ARR_DELAY'] <= 500) &\n",
    "                  (flights['DISTANCE'] <= 5000) & \n",
    "                  (flights['AIR_TIME'] <= 500)]\n",
    "print(f\"Number of records after removing outliers: {flights.shape[0]}\")"
   ]
  },
  {
   "cell_type": "markdown",
   "id": "55a32bb4",
   "metadata": {},
   "source": [
    "#### Missing value treatment\n",
    "\n",
    "Besides, OCCUPANCY_RATE, all other columns are right skewed. Hence, we take median of these dsitrbutions by each trip and then impute the null values "
   ]
  },
  {
   "cell_type": "code",
   "execution_count": 213,
   "id": "b17e505d",
   "metadata": {},
   "outputs": [
    {
     "data": {
      "text/html": [
       "<div>\n",
       "<style scoped>\n",
       "    .dataframe tbody tr th:only-of-type {\n",
       "        vertical-align: middle;\n",
       "    }\n",
       "\n",
       "    .dataframe tbody tr th {\n",
       "        vertical-align: top;\n",
       "    }\n",
       "\n",
       "    .dataframe thead th {\n",
       "        text-align: right;\n",
       "    }\n",
       "</style>\n",
       "<table border=\"1\" class=\"dataframe\">\n",
       "  <thead>\n",
       "    <tr style=\"text-align: right;\">\n",
       "      <th></th>\n",
       "      <th>0</th>\n",
       "      <th>1</th>\n",
       "      <th>2</th>\n",
       "      <th>3</th>\n",
       "      <th>4</th>\n",
       "    </tr>\n",
       "  </thead>\n",
       "  <tbody>\n",
       "    <tr>\n",
       "      <th>TRIP</th>\n",
       "      <td>ABE-ATL</td>\n",
       "      <td>ABE-CLT</td>\n",
       "      <td>ABE-DTW</td>\n",
       "      <td>ABE-FLL</td>\n",
       "      <td>ABE-ORD</td>\n",
       "    </tr>\n",
       "    <tr>\n",
       "      <th>ARR_DELAY</th>\n",
       "      <td>-6.0</td>\n",
       "      <td>-3.0</td>\n",
       "      <td>-7.5</td>\n",
       "      <td>1.0</td>\n",
       "      <td>-10.0</td>\n",
       "    </tr>\n",
       "    <tr>\n",
       "      <th>AIR_TIME</th>\n",
       "      <td>106.0</td>\n",
       "      <td>99.0</td>\n",
       "      <td>83.0</td>\n",
       "      <td>147.0</td>\n",
       "      <td>111.0</td>\n",
       "    </tr>\n",
       "    <tr>\n",
       "      <th>DISTANCE</th>\n",
       "      <td>692.0</td>\n",
       "      <td>481.0</td>\n",
       "      <td>425.0</td>\n",
       "      <td>1041.0</td>\n",
       "      <td>654.0</td>\n",
       "    </tr>\n",
       "    <tr>\n",
       "      <th>OCCUPANCY_RATE</th>\n",
       "      <td>0.62</td>\n",
       "      <td>0.67</td>\n",
       "      <td>0.63</td>\n",
       "      <td>0.53</td>\n",
       "      <td>0.69</td>\n",
       "    </tr>\n",
       "  </tbody>\n",
       "</table>\n",
       "</div>"
      ],
      "text/plain": [
       "                      0        1        2        3        4\n",
       "TRIP            ABE-ATL  ABE-CLT  ABE-DTW  ABE-FLL  ABE-ORD\n",
       "ARR_DELAY          -6.0     -3.0     -7.5      1.0    -10.0\n",
       "AIR_TIME          106.0     99.0     83.0    147.0    111.0\n",
       "DISTANCE          692.0    481.0    425.0   1041.0    654.0\n",
       "OCCUPANCY_RATE     0.62     0.67     0.63     0.53     0.69"
      ]
     },
     "execution_count": 213,
     "metadata": {},
     "output_type": "execute_result"
    }
   ],
   "source": [
    "# Imputing the median for all of these columns for each trip\n",
    "avg_flights_stat = flights.groupby('TRIP')['ARR_DELAY','AIR_TIME','DISTANCE','OCCUPANCY_RATE'].median().reset_index()\n",
    "avg_flights_stat.head().T"
   ]
  },
  {
   "cell_type": "markdown",
   "id": "6f154e68",
   "metadata": {},
   "source": [
    "#### Checking for missing values in the aggregare data"
   ]
  },
  {
   "cell_type": "code",
   "execution_count": 214,
   "id": "4b5811ee",
   "metadata": {},
   "outputs": [
    {
     "data": {
      "text/plain": [
       "TRIP              0\n",
       "ARR_DELAY         0\n",
       "AIR_TIME          0\n",
       "DISTANCE          0\n",
       "OCCUPANCY_RATE    0\n",
       "dtype: int64"
      ]
     },
     "execution_count": 214,
     "metadata": {},
     "output_type": "execute_result"
    }
   ],
   "source": [
    "avg_flights_stat.isna().sum()"
   ]
  },
  {
   "cell_type": "markdown",
   "id": "401e1b78",
   "metadata": {},
   "source": [
    "**Imputing the missing aggregate data using the average behavior of the all trips**"
   ]
  },
  {
   "cell_type": "code",
   "execution_count": 215,
   "id": "4e0c0988",
   "metadata": {},
   "outputs": [],
   "source": [
    "avg_flights_stat['ARR_DELAY'] = avg_flights_stat['ARR_DELAY'].fillna(avg_flights_stat['ARR_DELAY'].mean())\n",
    "avg_flights_stat['AIR_TIME'] = avg_flights_stat['AIR_TIME'].fillna(avg_flights_stat['AIR_TIME'].mean())"
   ]
  },
  {
   "cell_type": "code",
   "execution_count": 216,
   "id": "5d3b3a5c",
   "metadata": {},
   "outputs": [],
   "source": [
    "# Renaming the columns to the appropriate names\n",
    "avg_flights_stat.rename(columns={'ARR_DELAY':'MEDIAN_ARR_DELAY',\n",
    "                                 'AIR_TIME':'MEDIAN_AIR_TIME',\n",
    "                                 'DISTANCE':'MEDIAN_DISTANCE',\n",
    "                                 'OCCUPANCY_RATE':'MEDIAN_OCCUPANCY_RATE'},\n",
    "                        inplace=True)"
   ]
  },
  {
   "cell_type": "code",
   "execution_count": 217,
   "id": "55372c6c",
   "metadata": {},
   "outputs": [],
   "source": [
    "# Merging the data \n",
    "flights = pd.merge(flights,\n",
    "                   avg_flights_stat,\n",
    "                   on = 'TRIP',\n",
    "                   how = 'inner')"
   ]
  },
  {
   "cell_type": "markdown",
   "id": "e5e2e700",
   "metadata": {},
   "source": [
    "**Imputing the missing values with the median value for the corresponding trip**"
   ]
  },
  {
   "cell_type": "code",
   "execution_count": 218,
   "id": "f3b4245a",
   "metadata": {},
   "outputs": [],
   "source": [
    "# why do this again\n",
    "flights['ARR_DELAY'] = np.where(flights['ARR_DELAY'].isna(),\n",
    "                                flights['MEDIAN_ARR_DELAY'],\n",
    "                                flights['ARR_DELAY'])\n",
    "\n",
    "flights['AIR_TIME'] = np.where(flights['AIR_TIME'].isna(),\n",
    "                               flights['MEDIAN_AIR_TIME'],\n",
    "                               flights['AIR_TIME'])\n",
    "\n",
    "flights['DISTANCE'] = np.where(flights['DISTANCE'].isna(),\n",
    "                               flights['MEDIAN_DISTANCE'],\n",
    "                               flights['DISTANCE'])\n",
    "\n",
    "flights['OCCUPANCY_RATE'] = np.where(flights['OCCUPANCY_RATE'].isna(),\n",
    "                                     flights['MEDIAN_OCCUPANCY_RATE'],\n",
    "                                     flights['OCCUPANCY_RATE'])"
   ]
  },
  {
   "cell_type": "code",
   "execution_count": 219,
   "id": "741eb23b",
   "metadata": {},
   "outputs": [
    {
     "data": {
      "text/plain": [
       "FL_DATE                  0\n",
       "OP_CARRIER               0\n",
       "TAIL_NUM                 0\n",
       "OP_CARRIER_FL_NUM        0\n",
       "ORIGIN_AIRPORT_ID        0\n",
       "ORIGIN                   0\n",
       "ORIGIN_CITY_NAME         0\n",
       "DEST_AIRPORT_ID          0\n",
       "DESTINATION              0\n",
       "DEST_CITY_NAME           0\n",
       "DEP_DELAY                0\n",
       "ARR_DELAY                0\n",
       "CANCELLED                0\n",
       "AIR_TIME                 0\n",
       "DISTANCE                 0\n",
       "OCCUPANCY_RATE           0\n",
       "TRIP                     0\n",
       "MEDIAN_ARR_DELAY         0\n",
       "MEDIAN_AIR_TIME          0\n",
       "MEDIAN_DISTANCE          0\n",
       "MEDIAN_OCCUPANCY_RATE    0\n",
       "dtype: int64"
      ]
     },
     "execution_count": 219,
     "metadata": {},
     "output_type": "execute_result"
    }
   ],
   "source": [
    "# Check for missing values as it can be seen they have been dealt with\n",
    "flights.isna().sum()"
   ]
  },
  {
   "cell_type": "code",
   "execution_count": 220,
   "id": "6d3b02ec",
   "metadata": {},
   "outputs": [
    {
     "data": {
      "text/plain": [
       "Text(0, 0.5, 'Distance flown by the airlines in miles')"
      ]
     },
     "execution_count": 220,
     "metadata": {},
     "output_type": "execute_result"
    },
    {
     "data": {
      "image/png": "[encoded data removed]",
      "text/plain": [
       "<Figure size 1080x576 with 1 Axes>"
      ]
     },
     "metadata": {},
     "output_type": "display_data"
    }
   ],
   "source": [
    "# Relationship between the airlines and the distance flown by them\n",
    "sns.boxplot(x = flights['OP_CARRIER'],\n",
    "            y = flights['DISTANCE'])\n",
    "plt.title(\"Relationship between Airlines and respective Distance \")\n",
    "plt.xlabel(\"Airlines\")\n",
    "plt.ylabel(\"Distance flown by the airlines in miles\")"
   ]
  },
  {
   "cell_type": "markdown",
   "id": "5ae06eec",
   "metadata": {},
   "source": [
    "Most airlines operate under 3000 miles flight distance, with an exception of United Airlines, Delta Airlines, American Airlines and Hawaian Airlines"
   ]
  },
  {
   "cell_type": "code",
   "execution_count": 221,
   "id": "1cd841bb",
   "metadata": {},
   "outputs": [
    {
     "data": {
      "text/plain": [
       "Text(0, 0.5, 'Delay in Departure by each flight in mins')"
      ]
     },
     "execution_count": 221,
     "metadata": {},
     "output_type": "execute_result"
    },
    {
     "data": {
      "image/png": "[encoded data removed]",
      "text/plain": [
       "<Figure size 1080x576 with 1 Axes>"
      ]
     },
     "metadata": {},
     "output_type": "display_data"
    }
   ],
   "source": [
    "# Relationship between the airlines and the departure delay for that respective airline\n",
    "sns.boxplot(x = flights['OP_CARRIER'],\n",
    "            y = flights['DEP_DELAY'])\n",
    "plt.title(\"Relationship between Airlines and respective Departure Delay \")\n",
    "plt.xlabel(\"Airlines\")\n",
    "plt.ylabel(\"Delay in Departure by each flight in mins\")"
   ]
  },
  {
   "cell_type": "code",
   "execution_count": 222,
   "id": "22582040",
   "metadata": {},
   "outputs": [
    {
     "data": {
      "text/plain": [
       "Text(0, 0.5, 'Delay in Arrival by each flight in mins')"
      ]
     },
     "execution_count": 222,
     "metadata": {},
     "output_type": "execute_result"
    },
    {
     "data": {
      "image/png": "[encoded data removed]",
      "text/plain": [
       "<Figure size 1080x576 with 1 Axes>"
      ]
     },
     "metadata": {},
     "output_type": "display_data"
    }
   ],
   "source": [
    "# Relationship between the airlines and the arrival delay for that respective airline\n",
    "sns.boxplot(x = flights['OP_CARRIER'],\n",
    "            y = flights['ARR_DELAY'])\n",
    "plt.title(\"Relationship between Airlines and respective Arrival Delay \")\n",
    "plt.xlabel(\"Airlines\")\n",
    "plt.ylabel(\"Delay in Arrival by each flight in mins\")"
   ]
  },
  {
   "cell_type": "markdown",
   "id": "cfd0016c",
   "metadata": {},
   "source": [
    "We can see from the above box plots that not many carriers have either an arrival or departure delay except for NLA Penair(KS) and UCA Champlain Air(C5) have delay in arrival and departure; along with Jetblue Airways(B6),Frontier Airlines(F9) and Trans State Airlines(AX) have a delay in arrival as well."
   ]
  },
  {
   "cell_type": "markdown",
   "id": "128bb77a",
   "metadata": {},
   "source": [
    "After examining all three datasets it can be noted that:\n",
    "\n",
    "1. **Accuracy**: Outlier Detection deals with removing the outliers that are insensitive to business model metric.\n",
    "\n",
    "2. **Completeness**: Data quality check and missing value treatment takes care of any incomplete data issues.\n",
    "\n",
    "Flights Dataset has outliers in four columns namely; Air Time have outliers > **500 mins**, Arr Delay have outliers > **500 mins**, Distance have outliers > **5000 miles**, Dep Delay have outliers > **500 mins** as seen from the histogram plot and is respectively treated by outlier elimination. The missing values are identified and treated using median imputation for the columns Air Delay with **4271** Null values , Air Time with **6751** Null values, Distance with **2680** Null Values and Occupancy Rate with **310** Null values. Data quality issues are present in the Air Time and Distance column which is cleaned by the explicitly defined clean function.\n",
    "\n",
    "Tickets Dataset has outliers in the ITIN FARE Clean coloumn thus the **bottom and top 0.5% records** are removed and work with **99% of the data** as seen from the histogram plot and is treated by outlier elimination. The missing values are present in the ITIN_FARE with **545** Null Values and Passenger column with **1162** Null Values. Since Passenger column is irrelevant to calculate the evaluation metircs thus no further missing value treatment is performed on it. Missing values are treated using Median Imputation for the ITIN FARE column. Data quality issues are handled in the Fare column by the explicity defined clean function. \n",
    "\n",
    "Airports Dataset has missing values in the TYPE column which can be dropped as it accounts for only **0.42%** of the total number of rows respectively after applying the filtering condition that the **ISO Country is limited to US only**. \n",
    "\n"
   ]
  },
  {
   "cell_type": "markdown",
   "id": "b0e4653a",
   "metadata": {},
   "source": [
    "# Defining the Metrics\n",
    "\n",
    "## Calculating the cost\n",
    "\n",
    "### Adding base costs to the airport data"
   ]
  },
  {
   "cell_type": "code",
   "execution_count": 223,
   "id": "689ad1c8",
   "metadata": {},
   "outputs": [
    {
     "data": {
      "text/html": [
       "<div>\n",
       "<style scoped>\n",
       "    .dataframe tbody tr th:only-of-type {\n",
       "        vertical-align: middle;\n",
       "    }\n",
       "\n",
       "    .dataframe tbody tr th {\n",
       "        vertical-align: top;\n",
       "    }\n",
       "\n",
       "    .dataframe thead th {\n",
       "        text-align: right;\n",
       "    }\n",
       "</style>\n",
       "<table border=\"1\" class=\"dataframe\">\n",
       "  <thead>\n",
       "    <tr style=\"text-align: right;\">\n",
       "      <th></th>\n",
       "      <th>TYPE</th>\n",
       "      <th>NAME</th>\n",
       "      <th>ELEVATION_FT</th>\n",
       "      <th>CONTINENT</th>\n",
       "      <th>ISO_COUNTRY</th>\n",
       "      <th>MUNICIPALITY</th>\n",
       "      <th>IATA_CODE</th>\n",
       "      <th>COORDINATES</th>\n",
       "    </tr>\n",
       "  </thead>\n",
       "  <tbody>\n",
       "    <tr>\n",
       "      <th>6194</th>\n",
       "      <td>medium_airport</td>\n",
       "      <td>Aleknagik / New Airport</td>\n",
       "      <td>66.0</td>\n",
       "      <td>NaN</td>\n",
       "      <td>US</td>\n",
       "      <td>Aleknagik</td>\n",
       "      <td>WKK</td>\n",
       "      <td>-158.617996216, 59.2826004028</td>\n",
       "    </tr>\n",
       "    <tr>\n",
       "      <th>26143</th>\n",
       "      <td>medium_airport</td>\n",
       "      <td>Lehigh Valley International Airport</td>\n",
       "      <td>393.0</td>\n",
       "      <td>NaN</td>\n",
       "      <td>US</td>\n",
       "      <td>Allentown</td>\n",
       "      <td>ABE</td>\n",
       "      <td>-75.44080352783203, 40.652099609375</td>\n",
       "    </tr>\n",
       "    <tr>\n",
       "      <th>26144</th>\n",
       "      <td>medium_airport</td>\n",
       "      <td>Abilene Regional Airport</td>\n",
       "      <td>1791.0</td>\n",
       "      <td>NaN</td>\n",
       "      <td>US</td>\n",
       "      <td>Abilene</td>\n",
       "      <td>ABI</td>\n",
       "      <td>-99.68190002440001, 32.4113006592</td>\n",
       "    </tr>\n",
       "    <tr>\n",
       "      <th>26145</th>\n",
       "      <td>large_airport</td>\n",
       "      <td>Albuquerque International Sunport</td>\n",
       "      <td>5355.0</td>\n",
       "      <td>NaN</td>\n",
       "      <td>US</td>\n",
       "      <td>Albuquerque</td>\n",
       "      <td>ABQ</td>\n",
       "      <td>-106.609001, 35.040199</td>\n",
       "    </tr>\n",
       "    <tr>\n",
       "      <th>26146</th>\n",
       "      <td>medium_airport</td>\n",
       "      <td>Aberdeen Regional Airport</td>\n",
       "      <td>1302.0</td>\n",
       "      <td>NaN</td>\n",
       "      <td>US</td>\n",
       "      <td>Aberdeen</td>\n",
       "      <td>ABR</td>\n",
       "      <td>-98.42179870605469, 45.449100494384766</td>\n",
       "    </tr>\n",
       "  </tbody>\n",
       "</table>\n",
       "</div>"
      ],
      "text/plain": [
       "                 TYPE                                 NAME  ELEVATION_FT  \\\n",
       "6194   medium_airport              Aleknagik / New Airport          66.0   \n",
       "26143  medium_airport  Lehigh Valley International Airport         393.0   \n",
       "26144  medium_airport             Abilene Regional Airport        1791.0   \n",
       "26145   large_airport    Albuquerque International Sunport        5355.0   \n",
       "26146  medium_airport            Aberdeen Regional Airport        1302.0   \n",
       "\n",
       "      CONTINENT ISO_COUNTRY MUNICIPALITY IATA_CODE  \\\n",
       "6194        NaN          US    Aleknagik       WKK   \n",
       "26143       NaN          US    Allentown       ABE   \n",
       "26144       NaN          US      Abilene       ABI   \n",
       "26145       NaN          US  Albuquerque       ABQ   \n",
       "26146       NaN          US     Aberdeen       ABR   \n",
       "\n",
       "                                  COORDINATES  \n",
       "6194            -158.617996216, 59.2826004028  \n",
       "26143     -75.44080352783203, 40.652099609375  \n",
       "26144       -99.68190002440001, 32.4113006592  \n",
       "26145                  -106.609001, 35.040199  \n",
       "26146  -98.42179870605469, 45.449100494384766  "
      ]
     },
     "execution_count": 223,
     "metadata": {},
     "output_type": "execute_result"
    }
   ],
   "source": [
    "US_airport_subset.head()"
   ]
  },
  {
   "cell_type": "markdown",
   "id": "1ac758c1",
   "metadata": {},
   "source": [
    "**We define columns 'COST','LAT' & 'LONG' which corresponds to the usage charges for the airport and the latitute and the longitude**"
   ]
  },
  {
   "cell_type": "code",
   "execution_count": 224,
   "id": "8c9ec7c1",
   "metadata": {},
   "outputs": [],
   "source": [
    "US_airport_subset['COST'] = np.where(US_airport_subset['TYPE'] == 'medium_airport', 5000, 10000)\n",
    "US_airport_subset['LAT'] = US_airport_subset['COORDINATES'].apply(lambda x: float(x.split(',')[0]))\n",
    "US_airport_subset['LONG'] = US_airport_subset['COORDINATES'].apply(lambda x: float(x.split(',')[1]))"
   ]
  },
  {
   "cell_type": "markdown",
   "id": "2bd70947",
   "metadata": {},
   "source": [
    "### Adding late cost and misc cost to the flights data"
   ]
  },
  {
   "cell_type": "code",
   "execution_count": 225,
   "id": "64424951",
   "metadata": {},
   "outputs": [
    {
     "data": {
      "text/html": [
       "<div>\n",
       "<style scoped>\n",
       "    .dataframe tbody tr th:only-of-type {\n",
       "        vertical-align: middle;\n",
       "    }\n",
       "\n",
       "    .dataframe tbody tr th {\n",
       "        vertical-align: top;\n",
       "    }\n",
       "\n",
       "    .dataframe thead th {\n",
       "        text-align: right;\n",
       "    }\n",
       "</style>\n",
       "<table border=\"1\" class=\"dataframe\">\n",
       "  <thead>\n",
       "    <tr style=\"text-align: right;\">\n",
       "      <th></th>\n",
       "      <th>0</th>\n",
       "      <th>1</th>\n",
       "      <th>2</th>\n",
       "      <th>3</th>\n",
       "      <th>4</th>\n",
       "    </tr>\n",
       "  </thead>\n",
       "  <tbody>\n",
       "    <tr>\n",
       "      <th>FL_DATE</th>\n",
       "      <td>2019-03-02 00:00:00</td>\n",
       "      <td>2019-03-09 00:00:00</td>\n",
       "      <td>2019-03-24 00:00:00</td>\n",
       "      <td>2019-03-11 00:00:00</td>\n",
       "      <td>2019-03-10 00:00:00</td>\n",
       "    </tr>\n",
       "    <tr>\n",
       "      <th>OP_CARRIER</th>\n",
       "      <td>WN</td>\n",
       "      <td>WN</td>\n",
       "      <td>UA</td>\n",
       "      <td>UA</td>\n",
       "      <td>UA</td>\n",
       "    </tr>\n",
       "    <tr>\n",
       "      <th>TAIL_NUM</th>\n",
       "      <td>N955WN</td>\n",
       "      <td>N754SW</td>\n",
       "      <td>N14249</td>\n",
       "      <td>N14240</td>\n",
       "      <td>N11206</td>\n",
       "    </tr>\n",
       "    <tr>\n",
       "      <th>OP_CARRIER_FL_NUM</th>\n",
       "      <td>4591</td>\n",
       "      <td>3016</td>\n",
       "      <td>2350</td>\n",
       "      <td>2350</td>\n",
       "      <td>2350</td>\n",
       "    </tr>\n",
       "    <tr>\n",
       "      <th>ORIGIN_AIRPORT_ID</th>\n",
       "      <td>14635</td>\n",
       "      <td>14635</td>\n",
       "      <td>14635</td>\n",
       "      <td>14635</td>\n",
       "      <td>14635</td>\n",
       "    </tr>\n",
       "    <tr>\n",
       "      <th>ORIGIN</th>\n",
       "      <td>RSW</td>\n",
       "      <td>RSW</td>\n",
       "      <td>RSW</td>\n",
       "      <td>RSW</td>\n",
       "      <td>RSW</td>\n",
       "    </tr>\n",
       "    <tr>\n",
       "      <th>ORIGIN_CITY_NAME</th>\n",
       "      <td>Fort Myers, FL</td>\n",
       "      <td>Fort Myers, FL</td>\n",
       "      <td>Fort Myers, FL</td>\n",
       "      <td>Fort Myers, FL</td>\n",
       "      <td>Fort Myers, FL</td>\n",
       "    </tr>\n",
       "    <tr>\n",
       "      <th>DEST_AIRPORT_ID</th>\n",
       "      <td>11042</td>\n",
       "      <td>11042</td>\n",
       "      <td>11042</td>\n",
       "      <td>11042</td>\n",
       "      <td>11042</td>\n",
       "    </tr>\n",
       "    <tr>\n",
       "      <th>DESTINATION</th>\n",
       "      <td>CLE</td>\n",
       "      <td>CLE</td>\n",
       "      <td>CLE</td>\n",
       "      <td>CLE</td>\n",
       "      <td>CLE</td>\n",
       "    </tr>\n",
       "    <tr>\n",
       "      <th>DEST_CITY_NAME</th>\n",
       "      <td>Cleveland, OH</td>\n",
       "      <td>Cleveland, OH</td>\n",
       "      <td>Cleveland, OH</td>\n",
       "      <td>Cleveland, OH</td>\n",
       "      <td>Cleveland, OH</td>\n",
       "    </tr>\n",
       "    <tr>\n",
       "      <th>DEP_DELAY</th>\n",
       "      <td>-8.0</td>\n",
       "      <td>-7.0</td>\n",
       "      <td>-16.0</td>\n",
       "      <td>-1.0</td>\n",
       "      <td>-6.0</td>\n",
       "    </tr>\n",
       "    <tr>\n",
       "      <th>ARR_DELAY</th>\n",
       "      <td>-6.0</td>\n",
       "      <td>-22.0</td>\n",
       "      <td>-9.0</td>\n",
       "      <td>8.0</td>\n",
       "      <td>1.0</td>\n",
       "    </tr>\n",
       "    <tr>\n",
       "      <th>CANCELLED</th>\n",
       "      <td>0.0</td>\n",
       "      <td>0.0</td>\n",
       "      <td>0.0</td>\n",
       "      <td>0.0</td>\n",
       "      <td>0.0</td>\n",
       "    </tr>\n",
       "    <tr>\n",
       "      <th>AIR_TIME</th>\n",
       "      <td>143.0</td>\n",
       "      <td>137.0</td>\n",
       "      <td>129.0</td>\n",
       "      <td>138.0</td>\n",
       "      <td>141.0</td>\n",
       "    </tr>\n",
       "    <tr>\n",
       "      <th>DISTANCE</th>\n",
       "      <td>1025.0</td>\n",
       "      <td>1025.0</td>\n",
       "      <td>1025.0</td>\n",
       "      <td>1025.0</td>\n",
       "      <td>1025.0</td>\n",
       "    </tr>\n",
       "    <tr>\n",
       "      <th>OCCUPANCY_RATE</th>\n",
       "      <td>0.97</td>\n",
       "      <td>0.63</td>\n",
       "      <td>0.98</td>\n",
       "      <td>0.36</td>\n",
       "      <td>0.45</td>\n",
       "    </tr>\n",
       "    <tr>\n",
       "      <th>TRIP</th>\n",
       "      <td>RSW-CLE</td>\n",
       "      <td>RSW-CLE</td>\n",
       "      <td>RSW-CLE</td>\n",
       "      <td>RSW-CLE</td>\n",
       "      <td>RSW-CLE</td>\n",
       "    </tr>\n",
       "    <tr>\n",
       "      <th>MEDIAN_ARR_DELAY</th>\n",
       "      <td>-7.0</td>\n",
       "      <td>-7.0</td>\n",
       "      <td>-7.0</td>\n",
       "      <td>-7.0</td>\n",
       "      <td>-7.0</td>\n",
       "    </tr>\n",
       "    <tr>\n",
       "      <th>MEDIAN_AIR_TIME</th>\n",
       "      <td>134.5</td>\n",
       "      <td>134.5</td>\n",
       "      <td>134.5</td>\n",
       "      <td>134.5</td>\n",
       "      <td>134.5</td>\n",
       "    </tr>\n",
       "    <tr>\n",
       "      <th>MEDIAN_DISTANCE</th>\n",
       "      <td>1025.0</td>\n",
       "      <td>1025.0</td>\n",
       "      <td>1025.0</td>\n",
       "      <td>1025.0</td>\n",
       "      <td>1025.0</td>\n",
       "    </tr>\n",
       "    <tr>\n",
       "      <th>MEDIAN_OCCUPANCY_RATE</th>\n",
       "      <td>0.65</td>\n",
       "      <td>0.65</td>\n",
       "      <td>0.65</td>\n",
       "      <td>0.65</td>\n",
       "      <td>0.65</td>\n",
       "    </tr>\n",
       "  </tbody>\n",
       "</table>\n",
       "</div>"
      ],
      "text/plain": [
       "                                         0                    1  \\\n",
       "FL_DATE                2019-03-02 00:00:00  2019-03-09 00:00:00   \n",
       "OP_CARRIER                              WN                   WN   \n",
       "TAIL_NUM                            N955WN               N754SW   \n",
       "OP_CARRIER_FL_NUM                     4591                 3016   \n",
       "ORIGIN_AIRPORT_ID                    14635                14635   \n",
       "ORIGIN                                 RSW                  RSW   \n",
       "ORIGIN_CITY_NAME            Fort Myers, FL       Fort Myers, FL   \n",
       "DEST_AIRPORT_ID                      11042                11042   \n",
       "DESTINATION                            CLE                  CLE   \n",
       "DEST_CITY_NAME               Cleveland, OH        Cleveland, OH   \n",
       "DEP_DELAY                             -8.0                 -7.0   \n",
       "ARR_DELAY                             -6.0                -22.0   \n",
       "CANCELLED                              0.0                  0.0   \n",
       "AIR_TIME                             143.0                137.0   \n",
       "DISTANCE                            1025.0               1025.0   \n",
       "OCCUPANCY_RATE                        0.97                 0.63   \n",
       "TRIP                               RSW-CLE              RSW-CLE   \n",
       "MEDIAN_ARR_DELAY                      -7.0                 -7.0   \n",
       "MEDIAN_AIR_TIME                      134.5                134.5   \n",
       "MEDIAN_DISTANCE                     1025.0               1025.0   \n",
       "MEDIAN_OCCUPANCY_RATE                 0.65                 0.65   \n",
       "\n",
       "                                         2                    3  \\\n",
       "FL_DATE                2019-03-24 00:00:00  2019-03-11 00:00:00   \n",
       "OP_CARRIER                              UA                   UA   \n",
       "TAIL_NUM                            N14249               N14240   \n",
       "OP_CARRIER_FL_NUM                     2350                 2350   \n",
       "ORIGIN_AIRPORT_ID                    14635                14635   \n",
       "ORIGIN                                 RSW                  RSW   \n",
       "ORIGIN_CITY_NAME            Fort Myers, FL       Fort Myers, FL   \n",
       "DEST_AIRPORT_ID                      11042                11042   \n",
       "DESTINATION                            CLE                  CLE   \n",
       "DEST_CITY_NAME               Cleveland, OH        Cleveland, OH   \n",
       "DEP_DELAY                            -16.0                 -1.0   \n",
       "ARR_DELAY                             -9.0                  8.0   \n",
       "CANCELLED                              0.0                  0.0   \n",
       "AIR_TIME                             129.0                138.0   \n",
       "DISTANCE                            1025.0               1025.0   \n",
       "OCCUPANCY_RATE                        0.98                 0.36   \n",
       "TRIP                               RSW-CLE              RSW-CLE   \n",
       "MEDIAN_ARR_DELAY                      -7.0                 -7.0   \n",
       "MEDIAN_AIR_TIME                      134.5                134.5   \n",
       "MEDIAN_DISTANCE                     1025.0               1025.0   \n",
       "MEDIAN_OCCUPANCY_RATE                 0.65                 0.65   \n",
       "\n",
       "                                         4  \n",
       "FL_DATE                2019-03-10 00:00:00  \n",
       "OP_CARRIER                              UA  \n",
       "TAIL_NUM                            N11206  \n",
       "OP_CARRIER_FL_NUM                     2350  \n",
       "ORIGIN_AIRPORT_ID                    14635  \n",
       "ORIGIN                                 RSW  \n",
       "ORIGIN_CITY_NAME            Fort Myers, FL  \n",
       "DEST_AIRPORT_ID                      11042  \n",
       "DESTINATION                            CLE  \n",
       "DEST_CITY_NAME               Cleveland, OH  \n",
       "DEP_DELAY                             -6.0  \n",
       "ARR_DELAY                              1.0  \n",
       "CANCELLED                              0.0  \n",
       "AIR_TIME                             141.0  \n",
       "DISTANCE                            1025.0  \n",
       "OCCUPANCY_RATE                        0.45  \n",
       "TRIP                               RSW-CLE  \n",
       "MEDIAN_ARR_DELAY                      -7.0  \n",
       "MEDIAN_AIR_TIME                      134.5  \n",
       "MEDIAN_DISTANCE                     1025.0  \n",
       "MEDIAN_OCCUPANCY_RATE                 0.65  "
      ]
     },
     "execution_count": 225,
     "metadata": {},
     "output_type": "execute_result"
    }
   ],
   "source": [
    "flights.head().T"
   ]
  },
  {
   "cell_type": "markdown",
   "id": "da5a1215",
   "metadata": {},
   "source": [
    "**Defining COSTS associated to operating a flight**  \n",
    "  \n",
    "**MISC COST:** 8 USD per mile (Fuel, Oil, Maintenance, Crew) + 1.18 USD per mile (Depreciation, Insurance, Other)  \n",
    "**DEP_LATE_FEES:** Late Fees charged to the airline for delay in departure. First 15 minutes delay are free. Post that 75 USD charges on each minute delay  \n",
    "**ARR_LATE_FEES:** Late Fees charged to the airline for delay in arrival. First 15 minutes delay are free. Post that 75 USD charges on each minute delay  \n",
    "**LATE_FEES:** DEP_LATE_FEES + ARR_LATE_FEES  "
   ]
  },
  {
   "cell_type": "code",
   "execution_count": 226,
   "id": "3e256f07",
   "metadata": {},
   "outputs": [],
   "source": [
    "# $8 per mile (Fuel, Oil, Maintenance, Crew) + $1.18 per mile (Depreciation, Insurance, Other)\n",
    "flights['MISC_COST'] = flights['DISTANCE'] * 9.18"
   ]
  },
  {
   "cell_type": "code",
   "execution_count": 227,
   "id": "51020dad",
   "metadata": {},
   "outputs": [],
   "source": [
    "# Flights that have an arrival of departure delay more than 15 mins are charged $75 per mintute\n",
    "flights['DEP_LATE_FEES'] = np.where(flights['DEP_DELAY'] > 15, \n",
    "                                    75*np.ceil(flights['DEP_DELAY'] - 15),\n",
    "                                    0)\n",
    "\n",
    "flights['ARR_LATE_FEES'] = np.where(flights['ARR_DELAY'] > 15, \n",
    "                                    75*np.ceil(flights['ARR_DELAY'] - 15),\n",
    "                                    0)\n",
    "\n",
    "flights['LATE_FEES'] = flights['DEP_LATE_FEES'] + flights['ARR_LATE_FEES']"
   ]
  },
  {
   "cell_type": "code",
   "execution_count": 228,
   "id": "5b0cdc5a",
   "metadata": {},
   "outputs": [],
   "source": [
    "# Merging the flights dataset with the US_airport_subset with the Cost column in place\n",
    "flights = pd.merge(flights,\n",
    "                   US_airport_subset[['IATA_CODE','COST']],\n",
    "                   left_on = 'DESTINATION',\n",
    "                   right_on = 'IATA_CODE',\n",
    "                   how = 'inner')\n",
    "flights.drop(['IATA_CODE'], axis = 1, inplace = True)\n",
    "flights.rename(columns = {'COST':'DESTINATION_COST'}, inplace = True)"
   ]
  },
  {
   "cell_type": "code",
   "execution_count": 229,
   "id": "a4bcb9d8",
   "metadata": {
    "scrolled": true
   },
   "outputs": [
    {
     "data": {
      "text/html": [
       "<div>\n",
       "<style scoped>\n",
       "    .dataframe tbody tr th:only-of-type {\n",
       "        vertical-align: middle;\n",
       "    }\n",
       "\n",
       "    .dataframe tbody tr th {\n",
       "        vertical-align: top;\n",
       "    }\n",
       "\n",
       "    .dataframe thead th {\n",
       "        text-align: right;\n",
       "    }\n",
       "</style>\n",
       "<table border=\"1\" class=\"dataframe\">\n",
       "  <thead>\n",
       "    <tr style=\"text-align: right;\">\n",
       "      <th></th>\n",
       "      <th>DEP_LATE_FEES</th>\n",
       "      <th>ARR_LATE_FEES</th>\n",
       "      <th>LATE_FEES</th>\n",
       "      <th>MISC_COST</th>\n",
       "    </tr>\n",
       "  </thead>\n",
       "  <tbody>\n",
       "    <tr>\n",
       "      <th>count</th>\n",
       "      <td>1820036.00000</td>\n",
       "      <td>1820036.00000</td>\n",
       "      <td>1820036.00000</td>\n",
       "      <td>1820036.00000</td>\n",
       "    </tr>\n",
       "    <tr>\n",
       "      <th>mean</th>\n",
       "      <td>686.81701</td>\n",
       "      <td>698.93005</td>\n",
       "      <td>1385.74705</td>\n",
       "      <td>7033.44003</td>\n",
       "    </tr>\n",
       "    <tr>\n",
       "      <th>std</th>\n",
       "      <td>2506.80745</td>\n",
       "      <td>2511.42038</td>\n",
       "      <td>4982.76283</td>\n",
       "      <td>5275.05004</td>\n",
       "    </tr>\n",
       "    <tr>\n",
       "      <th>min</th>\n",
       "      <td>0.00000</td>\n",
       "      <td>0.00000</td>\n",
       "      <td>0.00000</td>\n",
       "      <td>284.58000</td>\n",
       "    </tr>\n",
       "    <tr>\n",
       "      <th>25%</th>\n",
       "      <td>0.00000</td>\n",
       "      <td>0.00000</td>\n",
       "      <td>0.00000</td>\n",
       "      <td>3148.74000</td>\n",
       "    </tr>\n",
       "    <tr>\n",
       "      <th>50%</th>\n",
       "      <td>0.00000</td>\n",
       "      <td>0.00000</td>\n",
       "      <td>0.00000</td>\n",
       "      <td>5563.08000</td>\n",
       "    </tr>\n",
       "    <tr>\n",
       "      <th>75%</th>\n",
       "      <td>0.00000</td>\n",
       "      <td>0.00000</td>\n",
       "      <td>0.00000</td>\n",
       "      <td>9225.90000</td>\n",
       "    </tr>\n",
       "    <tr>\n",
       "      <th>max</th>\n",
       "      <td>36375.00000</td>\n",
       "      <td>36375.00000</td>\n",
       "      <td>72450.00000</td>\n",
       "      <td>45743.94000</td>\n",
       "    </tr>\n",
       "  </tbody>\n",
       "</table>\n",
       "</div>"
      ],
      "text/plain": [
       "       DEP_LATE_FEES  ARR_LATE_FEES      LATE_FEES      MISC_COST\n",
       "count  1820036.00000  1820036.00000  1820036.00000  1820036.00000\n",
       "mean       686.81701      698.93005     1385.74705     7033.44003\n",
       "std       2506.80745     2511.42038     4982.76283     5275.05004\n",
       "min          0.00000        0.00000        0.00000      284.58000\n",
       "25%          0.00000        0.00000        0.00000     3148.74000\n",
       "50%          0.00000        0.00000        0.00000     5563.08000\n",
       "75%          0.00000        0.00000        0.00000     9225.90000\n",
       "max      36375.00000    36375.00000    72450.00000    45743.94000"
      ]
     },
     "execution_count": 229,
     "metadata": {},
     "output_type": "execute_result"
    }
   ],
   "source": [
    "# Display the various stats for the columns to understand the dollar amount spent for each.\n",
    "flights[['DEP_LATE_FEES','ARR_LATE_FEES','LATE_FEES','MISC_COST']].describe().apply(lambda s: s.apply('{0:.5f}'.format))"
   ]
  },
  {
   "cell_type": "markdown",
   "id": "f1329ee7",
   "metadata": {},
   "source": [
    "We define a new column **IS_LATE** to calculate the statistics for flights that are late"
   ]
  },
  {
   "cell_type": "code",
   "execution_count": 230,
   "id": "3cba6191",
   "metadata": {},
   "outputs": [],
   "source": [
    "flights['IS_LATE'] = flights.apply(lambda row: 1 if (row['DEP_DELAY'] > 0 or row['ARR_DELAY'] > 0) else 0, axis=1)"
   ]
  },
  {
   "cell_type": "code",
   "execution_count": 231,
   "id": "b00b5de7",
   "metadata": {},
   "outputs": [
    {
     "data": {
      "text/html": [
       "<div>\n",
       "<style scoped>\n",
       "    .dataframe tbody tr th:only-of-type {\n",
       "        vertical-align: middle;\n",
       "    }\n",
       "\n",
       "    .dataframe tbody tr th {\n",
       "        vertical-align: top;\n",
       "    }\n",
       "\n",
       "    .dataframe thead th {\n",
       "        text-align: right;\n",
       "    }\n",
       "</style>\n",
       "<table border=\"1\" class=\"dataframe\">\n",
       "  <thead>\n",
       "    <tr style=\"text-align: right;\">\n",
       "      <th></th>\n",
       "      <th>DEP_DELAY</th>\n",
       "      <th>DEP_LATE_FEES</th>\n",
       "    </tr>\n",
       "  </thead>\n",
       "  <tbody>\n",
       "    <tr>\n",
       "      <th>count</th>\n",
       "      <td>815159.000000</td>\n",
       "      <td>815159.000000</td>\n",
       "    </tr>\n",
       "    <tr>\n",
       "      <th>mean</th>\n",
       "      <td>27.790674</td>\n",
       "      <td>1533.482026</td>\n",
       "    </tr>\n",
       "    <tr>\n",
       "      <th>std</th>\n",
       "      <td>51.383097</td>\n",
       "      <td>3568.244794</td>\n",
       "    </tr>\n",
       "    <tr>\n",
       "      <th>min</th>\n",
       "      <td>-34.000000</td>\n",
       "      <td>0.000000</td>\n",
       "    </tr>\n",
       "    <tr>\n",
       "      <th>25%</th>\n",
       "      <td>1.000000</td>\n",
       "      <td>0.000000</td>\n",
       "    </tr>\n",
       "    <tr>\n",
       "      <th>50%</th>\n",
       "      <td>9.000000</td>\n",
       "      <td>0.000000</td>\n",
       "    </tr>\n",
       "    <tr>\n",
       "      <th>75%</th>\n",
       "      <td>32.000000</td>\n",
       "      <td>1275.000000</td>\n",
       "    </tr>\n",
       "    <tr>\n",
       "      <th>max</th>\n",
       "      <td>500.000000</td>\n",
       "      <td>36375.000000</td>\n",
       "    </tr>\n",
       "  </tbody>\n",
       "</table>\n",
       "</div>"
      ],
      "text/plain": [
       "           DEP_DELAY  DEP_LATE_FEES\n",
       "count  815159.000000  815159.000000\n",
       "mean       27.790674    1533.482026\n",
       "std        51.383097    3568.244794\n",
       "min       -34.000000       0.000000\n",
       "25%         1.000000       0.000000\n",
       "50%         9.000000       0.000000\n",
       "75%        32.000000    1275.000000\n",
       "max       500.000000   36375.000000"
      ]
     },
     "execution_count": 231,
     "metadata": {},
     "output_type": "execute_result"
    }
   ],
   "source": [
    "flights[flights['IS_LATE'] == 1][['DEP_DELAY','DEP_LATE_FEES']].describe()"
   ]
  },
  {
   "cell_type": "code",
   "execution_count": 232,
   "id": "4b045c83",
   "metadata": {},
   "outputs": [
    {
     "data": {
      "text/html": [
       "<div>\n",
       "<style scoped>\n",
       "    .dataframe tbody tr th:only-of-type {\n",
       "        vertical-align: middle;\n",
       "    }\n",
       "\n",
       "    .dataframe tbody tr th {\n",
       "        vertical-align: top;\n",
       "    }\n",
       "\n",
       "    .dataframe thead th {\n",
       "        text-align: right;\n",
       "    }\n",
       "</style>\n",
       "<table border=\"1\" class=\"dataframe\">\n",
       "  <thead>\n",
       "    <tr style=\"text-align: right;\">\n",
       "      <th></th>\n",
       "      <th>ARR_DELAY</th>\n",
       "      <th>ARR_LATE_FEES</th>\n",
       "    </tr>\n",
       "  </thead>\n",
       "  <tbody>\n",
       "    <tr>\n",
       "      <th>count</th>\n",
       "      <td>815159.000000</td>\n",
       "      <td>815159.000000</td>\n",
       "    </tr>\n",
       "    <tr>\n",
       "      <th>mean</th>\n",
       "      <td>27.871773</td>\n",
       "      <td>1560.527271</td>\n",
       "    </tr>\n",
       "    <tr>\n",
       "      <th>std</th>\n",
       "      <td>51.872611</td>\n",
       "      <td>3569.013243</td>\n",
       "    </tr>\n",
       "    <tr>\n",
       "      <th>min</th>\n",
       "      <td>-85.000000</td>\n",
       "      <td>0.000000</td>\n",
       "    </tr>\n",
       "    <tr>\n",
       "      <th>25%</th>\n",
       "      <td>2.000000</td>\n",
       "      <td>0.000000</td>\n",
       "    </tr>\n",
       "    <tr>\n",
       "      <th>50%</th>\n",
       "      <td>11.000000</td>\n",
       "      <td>0.000000</td>\n",
       "    </tr>\n",
       "    <tr>\n",
       "      <th>75%</th>\n",
       "      <td>34.000000</td>\n",
       "      <td>1425.000000</td>\n",
       "    </tr>\n",
       "    <tr>\n",
       "      <th>max</th>\n",
       "      <td>500.000000</td>\n",
       "      <td>36375.000000</td>\n",
       "    </tr>\n",
       "  </tbody>\n",
       "</table>\n",
       "</div>"
      ],
      "text/plain": [
       "           ARR_DELAY  ARR_LATE_FEES\n",
       "count  815159.000000  815159.000000\n",
       "mean       27.871773    1560.527271\n",
       "std        51.872611    3569.013243\n",
       "min       -85.000000       0.000000\n",
       "25%         2.000000       0.000000\n",
       "50%        11.000000       0.000000\n",
       "75%        34.000000    1425.000000\n",
       "max       500.000000   36375.000000"
      ]
     },
     "execution_count": 232,
     "metadata": {},
     "output_type": "execute_result"
    }
   ],
   "source": [
    "flights[flights['IS_LATE'] == 1][['ARR_DELAY','ARR_LATE_FEES']].describe()"
   ]
  },
  {
   "cell_type": "markdown",
   "id": "4e1be444",
   "metadata": {},
   "source": [
    "#### Aggregating the flight data"
   ]
  },
  {
   "cell_type": "code",
   "execution_count": 233,
   "id": "55638aa2",
   "metadata": {},
   "outputs": [],
   "source": [
    "# Aggrgating the flights dataset by each trip with the respective columns with mean \n",
    "flights_agg = flights.groupby(['ORIGIN','DESTINATION','TRIP']).agg({'FL_DATE':'count',\n",
    "                                                                    'OP_CARRIER':'nunique',\n",
    "                                                                    'MISC_COST':'mean',\n",
    "                                                                    'ARR_DELAY':'median',\n",
    "                                                                    'DEP_DELAY':'median',\n",
    "                                                                    'ARR_LATE_FEES':'median',\n",
    "                                                                    'DEP_LATE_FEES':'median',\n",
    "                                                                    'LATE_FEES':'median',\n",
    "                                                                    'DESTINATION_COST':'mean',\n",
    "                                                                    'OCCUPANCY_RATE':'mean',\n",
    "                                                                    'DISTANCE':'mean',\n",
    "                                                                    'AIR_TIME':'mean'}).reset_index()"
   ]
  },
  {
   "cell_type": "code",
   "execution_count": 234,
   "id": "ef4fea39",
   "metadata": {},
   "outputs": [
    {
     "data": {
      "text/html": [
       "<div>\n",
       "<style scoped>\n",
       "    .dataframe tbody tr th:only-of-type {\n",
       "        vertical-align: middle;\n",
       "    }\n",
       "\n",
       "    .dataframe tbody tr th {\n",
       "        vertical-align: top;\n",
       "    }\n",
       "\n",
       "    .dataframe thead th {\n",
       "        text-align: right;\n",
       "    }\n",
       "</style>\n",
       "<table border=\"1\" class=\"dataframe\">\n",
       "  <thead>\n",
       "    <tr style=\"text-align: right;\">\n",
       "      <th></th>\n",
       "      <th>0</th>\n",
       "      <th>1</th>\n",
       "      <th>2</th>\n",
       "      <th>3</th>\n",
       "      <th>4</th>\n",
       "    </tr>\n",
       "  </thead>\n",
       "  <tbody>\n",
       "    <tr>\n",
       "      <th>ORIGIN</th>\n",
       "      <td>ABE</td>\n",
       "      <td>ABE</td>\n",
       "      <td>ABE</td>\n",
       "      <td>ABE</td>\n",
       "      <td>ABE</td>\n",
       "    </tr>\n",
       "    <tr>\n",
       "      <th>DESTINATION</th>\n",
       "      <td>ATL</td>\n",
       "      <td>CLT</td>\n",
       "      <td>DTW</td>\n",
       "      <td>FLL</td>\n",
       "      <td>ORD</td>\n",
       "    </tr>\n",
       "    <tr>\n",
       "      <th>TRIP</th>\n",
       "      <td>ABE-ATL</td>\n",
       "      <td>ABE-CLT</td>\n",
       "      <td>ABE-DTW</td>\n",
       "      <td>ABE-FLL</td>\n",
       "      <td>ABE-ORD</td>\n",
       "    </tr>\n",
       "    <tr>\n",
       "      <th>FL_DATE</th>\n",
       "      <td>217</td>\n",
       "      <td>251</td>\n",
       "      <td>248</td>\n",
       "      <td>20</td>\n",
       "      <td>159</td>\n",
       "    </tr>\n",
       "    <tr>\n",
       "      <th>OP_CARRIER</th>\n",
       "      <td>2</td>\n",
       "      <td>1</td>\n",
       "      <td>2</td>\n",
       "      <td>1</td>\n",
       "      <td>3</td>\n",
       "    </tr>\n",
       "    <tr>\n",
       "      <th>MISC_COST</th>\n",
       "      <td>6352.56</td>\n",
       "      <td>4415.58</td>\n",
       "      <td>3901.5</td>\n",
       "      <td>9556.38</td>\n",
       "      <td>6003.72</td>\n",
       "    </tr>\n",
       "    <tr>\n",
       "      <th>ARR_DELAY</th>\n",
       "      <td>-6.0</td>\n",
       "      <td>-3.0</td>\n",
       "      <td>-7.5</td>\n",
       "      <td>1.0</td>\n",
       "      <td>-10.0</td>\n",
       "    </tr>\n",
       "    <tr>\n",
       "      <th>DEP_DELAY</th>\n",
       "      <td>-2.0</td>\n",
       "      <td>-6.0</td>\n",
       "      <td>-3.0</td>\n",
       "      <td>0.0</td>\n",
       "      <td>-5.0</td>\n",
       "    </tr>\n",
       "    <tr>\n",
       "      <th>ARR_LATE_FEES</th>\n",
       "      <td>0.0</td>\n",
       "      <td>0.0</td>\n",
       "      <td>0.0</td>\n",
       "      <td>0.0</td>\n",
       "      <td>0.0</td>\n",
       "    </tr>\n",
       "    <tr>\n",
       "      <th>DEP_LATE_FEES</th>\n",
       "      <td>0.0</td>\n",
       "      <td>0.0</td>\n",
       "      <td>0.0</td>\n",
       "      <td>0.0</td>\n",
       "      <td>0.0</td>\n",
       "    </tr>\n",
       "    <tr>\n",
       "      <th>LATE_FEES</th>\n",
       "      <td>0.0</td>\n",
       "      <td>0.0</td>\n",
       "      <td>0.0</td>\n",
       "      <td>0.0</td>\n",
       "      <td>0.0</td>\n",
       "    </tr>\n",
       "    <tr>\n",
       "      <th>DESTINATION_COST</th>\n",
       "      <td>10000</td>\n",
       "      <td>10000</td>\n",
       "      <td>10000</td>\n",
       "      <td>10000</td>\n",
       "      <td>10000</td>\n",
       "    </tr>\n",
       "    <tr>\n",
       "      <th>OCCUPANCY_RATE</th>\n",
       "      <td>0.641567</td>\n",
       "      <td>0.665976</td>\n",
       "      <td>0.639073</td>\n",
       "      <td>0.58</td>\n",
       "      <td>0.671195</td>\n",
       "    </tr>\n",
       "    <tr>\n",
       "      <th>DISTANCE</th>\n",
       "      <td>692.0</td>\n",
       "      <td>481.0</td>\n",
       "      <td>425.0</td>\n",
       "      <td>1041.0</td>\n",
       "      <td>654.0</td>\n",
       "    </tr>\n",
       "    <tr>\n",
       "      <th>AIR_TIME</th>\n",
       "      <td>107.02765</td>\n",
       "      <td>98.972112</td>\n",
       "      <td>83.431452</td>\n",
       "      <td>145.65</td>\n",
       "      <td>110.924528</td>\n",
       "    </tr>\n",
       "  </tbody>\n",
       "</table>\n",
       "</div>"
      ],
      "text/plain": [
       "                          0          1          2        3           4\n",
       "ORIGIN                  ABE        ABE        ABE      ABE         ABE\n",
       "DESTINATION             ATL        CLT        DTW      FLL         ORD\n",
       "TRIP                ABE-ATL    ABE-CLT    ABE-DTW  ABE-FLL     ABE-ORD\n",
       "FL_DATE                 217        251        248       20         159\n",
       "OP_CARRIER                2          1          2        1           3\n",
       "MISC_COST           6352.56    4415.58     3901.5  9556.38     6003.72\n",
       "ARR_DELAY              -6.0       -3.0       -7.5      1.0       -10.0\n",
       "DEP_DELAY              -2.0       -6.0       -3.0      0.0        -5.0\n",
       "ARR_LATE_FEES           0.0        0.0        0.0      0.0         0.0\n",
       "DEP_LATE_FEES           0.0        0.0        0.0      0.0         0.0\n",
       "LATE_FEES               0.0        0.0        0.0      0.0         0.0\n",
       "DESTINATION_COST      10000      10000      10000    10000       10000\n",
       "OCCUPANCY_RATE     0.641567   0.665976   0.639073     0.58    0.671195\n",
       "DISTANCE              692.0      481.0      425.0   1041.0       654.0\n",
       "AIR_TIME          107.02765  98.972112  83.431452   145.65  110.924528"
      ]
     },
     "execution_count": 234,
     "metadata": {},
     "output_type": "execute_result"
    }
   ],
   "source": [
    "# Display the flight dataset\n",
    "flights_agg.head().T"
   ]
  },
  {
   "cell_type": "code",
   "execution_count": 235,
   "id": "8381a1ca",
   "metadata": {},
   "outputs": [],
   "source": [
    "# A function which takes into account that each trip in a round trip is different and reverses the first leg of the roundtrip to get the second leg of the roundtrip\n",
    "def make_key(value):\n",
    "    \n",
    "    origin = value.split('-')[0]\n",
    "    destination = value.split('-')[1]\n",
    "    \n",
    "    if origin < destination:\n",
    "        ret_val = value\n",
    "    else:\n",
    "        ret_val = destination + '-' + origin\n",
    "        \n",
    "    return ret_val"
   ]
  },
  {
   "cell_type": "code",
   "execution_count": 236,
   "id": "4e1785c5",
   "metadata": {},
   "outputs": [],
   "source": [
    "# Applying the fucntion on a new created column called KEY\n",
    "flights_agg['KEY'] = flights_agg['TRIP'].apply(lambda x: make_key(x))"
   ]
  },
  {
   "cell_type": "code",
   "execution_count": 237,
   "id": "2db6d283",
   "metadata": {},
   "outputs": [],
   "source": [
    "# Merging the flights_agg dataset on itself to account for both the legs in a roundtrip\n",
    "\n",
    "round_trip_flights = pd.merge(flights_agg,\n",
    "                              flights_agg,\n",
    "                              on = 'KEY',\n",
    "                              how = 'inner')"
   ]
  },
  {
   "cell_type": "code",
   "execution_count": 238,
   "id": "a5d81060",
   "metadata": {},
   "outputs": [],
   "source": [
    "# Removing the unnecessary duplicate data points due to self join and keeping only the ones that differ\n",
    "round_trip_flights = round_trip_flights[(round_trip_flights['ORIGIN_x'] != round_trip_flights['ORIGIN_y']) &\n",
    "                                        (round_trip_flights['DESTINATION_x'] != round_trip_flights['DESTINATION_y'])]"
   ]
  },
  {
   "cell_type": "code",
   "execution_count": 239,
   "id": "459fb9c1",
   "metadata": {},
   "outputs": [
    {
     "data": {
      "text/html": [
       "<div>\n",
       "<style scoped>\n",
       "    .dataframe tbody tr th:only-of-type {\n",
       "        vertical-align: middle;\n",
       "    }\n",
       "\n",
       "    .dataframe tbody tr th {\n",
       "        vertical-align: top;\n",
       "    }\n",
       "\n",
       "    .dataframe thead th {\n",
       "        text-align: right;\n",
       "    }\n",
       "</style>\n",
       "<table border=\"1\" class=\"dataframe\">\n",
       "  <thead>\n",
       "    <tr style=\"text-align: right;\">\n",
       "      <th></th>\n",
       "      <th>ORIGIN_x</th>\n",
       "      <th>DESTINATION_x</th>\n",
       "      <th>TRIP_x</th>\n",
       "      <th>FL_DATE_x</th>\n",
       "      <th>OP_CARRIER_x</th>\n",
       "      <th>MISC_COST_x</th>\n",
       "      <th>ARR_DELAY_x</th>\n",
       "      <th>DEP_DELAY_x</th>\n",
       "      <th>ARR_LATE_FEES_x</th>\n",
       "      <th>DEP_LATE_FEES_x</th>\n",
       "      <th>LATE_FEES_x</th>\n",
       "      <th>DESTINATION_COST_x</th>\n",
       "      <th>OCCUPANCY_RATE_x</th>\n",
       "      <th>DISTANCE_x</th>\n",
       "      <th>AIR_TIME_x</th>\n",
       "      <th>KEY</th>\n",
       "      <th>ORIGIN_y</th>\n",
       "      <th>DESTINATION_y</th>\n",
       "      <th>TRIP_y</th>\n",
       "      <th>FL_DATE_y</th>\n",
       "      <th>OP_CARRIER_y</th>\n",
       "      <th>MISC_COST_y</th>\n",
       "      <th>ARR_DELAY_y</th>\n",
       "      <th>DEP_DELAY_y</th>\n",
       "      <th>ARR_LATE_FEES_y</th>\n",
       "      <th>DEP_LATE_FEES_y</th>\n",
       "      <th>LATE_FEES_y</th>\n",
       "      <th>DESTINATION_COST_y</th>\n",
       "      <th>OCCUPANCY_RATE_y</th>\n",
       "      <th>DISTANCE_y</th>\n",
       "      <th>AIR_TIME_y</th>\n",
       "    </tr>\n",
       "  </thead>\n",
       "  <tbody>\n",
       "    <tr>\n",
       "      <th>1</th>\n",
       "      <td>ABE</td>\n",
       "      <td>ATL</td>\n",
       "      <td>ABE-ATL</td>\n",
       "      <td>217</td>\n",
       "      <td>2</td>\n",
       "      <td>6352.56</td>\n",
       "      <td>-6.0</td>\n",
       "      <td>-2.0</td>\n",
       "      <td>0.0</td>\n",
       "      <td>0.0</td>\n",
       "      <td>0.0</td>\n",
       "      <td>10000</td>\n",
       "      <td>0.641567</td>\n",
       "      <td>692.0</td>\n",
       "      <td>107.027650</td>\n",
       "      <td>ABE-ATL</td>\n",
       "      <td>ATL</td>\n",
       "      <td>ABE</td>\n",
       "      <td>ATL-ABE</td>\n",
       "      <td>217</td>\n",
       "      <td>2</td>\n",
       "      <td>6352.56</td>\n",
       "      <td>-10.0</td>\n",
       "      <td>-3.0</td>\n",
       "      <td>0.0</td>\n",
       "      <td>0.0</td>\n",
       "      <td>0.0</td>\n",
       "      <td>5000</td>\n",
       "      <td>0.667097</td>\n",
       "      <td>692.0</td>\n",
       "      <td>92.373272</td>\n",
       "    </tr>\n",
       "    <tr>\n",
       "      <th>2</th>\n",
       "      <td>ATL</td>\n",
       "      <td>ABE</td>\n",
       "      <td>ATL-ABE</td>\n",
       "      <td>217</td>\n",
       "      <td>2</td>\n",
       "      <td>6352.56</td>\n",
       "      <td>-10.0</td>\n",
       "      <td>-3.0</td>\n",
       "      <td>0.0</td>\n",
       "      <td>0.0</td>\n",
       "      <td>0.0</td>\n",
       "      <td>5000</td>\n",
       "      <td>0.667097</td>\n",
       "      <td>692.0</td>\n",
       "      <td>92.373272</td>\n",
       "      <td>ABE-ATL</td>\n",
       "      <td>ABE</td>\n",
       "      <td>ATL</td>\n",
       "      <td>ABE-ATL</td>\n",
       "      <td>217</td>\n",
       "      <td>2</td>\n",
       "      <td>6352.56</td>\n",
       "      <td>-6.0</td>\n",
       "      <td>-2.0</td>\n",
       "      <td>0.0</td>\n",
       "      <td>0.0</td>\n",
       "      <td>0.0</td>\n",
       "      <td>10000</td>\n",
       "      <td>0.641567</td>\n",
       "      <td>692.0</td>\n",
       "      <td>107.027650</td>\n",
       "    </tr>\n",
       "    <tr>\n",
       "      <th>5</th>\n",
       "      <td>ABE</td>\n",
       "      <td>CLT</td>\n",
       "      <td>ABE-CLT</td>\n",
       "      <td>251</td>\n",
       "      <td>1</td>\n",
       "      <td>4415.58</td>\n",
       "      <td>-3.0</td>\n",
       "      <td>-6.0</td>\n",
       "      <td>0.0</td>\n",
       "      <td>0.0</td>\n",
       "      <td>0.0</td>\n",
       "      <td>10000</td>\n",
       "      <td>0.665976</td>\n",
       "      <td>481.0</td>\n",
       "      <td>98.972112</td>\n",
       "      <td>ABE-CLT</td>\n",
       "      <td>CLT</td>\n",
       "      <td>ABE</td>\n",
       "      <td>CLT-ABE</td>\n",
       "      <td>251</td>\n",
       "      <td>1</td>\n",
       "      <td>4415.58</td>\n",
       "      <td>-7.0</td>\n",
       "      <td>-2.0</td>\n",
       "      <td>0.0</td>\n",
       "      <td>0.0</td>\n",
       "      <td>0.0</td>\n",
       "      <td>5000</td>\n",
       "      <td>0.656215</td>\n",
       "      <td>481.0</td>\n",
       "      <td>72.131474</td>\n",
       "    </tr>\n",
       "    <tr>\n",
       "      <th>6</th>\n",
       "      <td>CLT</td>\n",
       "      <td>ABE</td>\n",
       "      <td>CLT-ABE</td>\n",
       "      <td>251</td>\n",
       "      <td>1</td>\n",
       "      <td>4415.58</td>\n",
       "      <td>-7.0</td>\n",
       "      <td>-2.0</td>\n",
       "      <td>0.0</td>\n",
       "      <td>0.0</td>\n",
       "      <td>0.0</td>\n",
       "      <td>5000</td>\n",
       "      <td>0.656215</td>\n",
       "      <td>481.0</td>\n",
       "      <td>72.131474</td>\n",
       "      <td>ABE-CLT</td>\n",
       "      <td>ABE</td>\n",
       "      <td>CLT</td>\n",
       "      <td>ABE-CLT</td>\n",
       "      <td>251</td>\n",
       "      <td>1</td>\n",
       "      <td>4415.58</td>\n",
       "      <td>-3.0</td>\n",
       "      <td>-6.0</td>\n",
       "      <td>0.0</td>\n",
       "      <td>0.0</td>\n",
       "      <td>0.0</td>\n",
       "      <td>10000</td>\n",
       "      <td>0.665976</td>\n",
       "      <td>481.0</td>\n",
       "      <td>98.972112</td>\n",
       "    </tr>\n",
       "    <tr>\n",
       "      <th>9</th>\n",
       "      <td>ABE</td>\n",
       "      <td>DTW</td>\n",
       "      <td>ABE-DTW</td>\n",
       "      <td>248</td>\n",
       "      <td>2</td>\n",
       "      <td>3901.50</td>\n",
       "      <td>-7.5</td>\n",
       "      <td>-3.0</td>\n",
       "      <td>0.0</td>\n",
       "      <td>0.0</td>\n",
       "      <td>0.0</td>\n",
       "      <td>10000</td>\n",
       "      <td>0.639073</td>\n",
       "      <td>425.0</td>\n",
       "      <td>83.431452</td>\n",
       "      <td>ABE-DTW</td>\n",
       "      <td>DTW</td>\n",
       "      <td>ABE</td>\n",
       "      <td>DTW-ABE</td>\n",
       "      <td>248</td>\n",
       "      <td>2</td>\n",
       "      <td>3901.50</td>\n",
       "      <td>-11.0</td>\n",
       "      <td>-3.0</td>\n",
       "      <td>0.0</td>\n",
       "      <td>0.0</td>\n",
       "      <td>0.0</td>\n",
       "      <td>5000</td>\n",
       "      <td>0.650766</td>\n",
       "      <td>425.0</td>\n",
       "      <td>60.012097</td>\n",
       "    </tr>\n",
       "  </tbody>\n",
       "</table>\n",
       "</div>"
      ],
      "text/plain": [
       "  ORIGIN_x DESTINATION_x   TRIP_x  FL_DATE_x  OP_CARRIER_x  MISC_COST_x  \\\n",
       "1      ABE           ATL  ABE-ATL        217             2      6352.56   \n",
       "2      ATL           ABE  ATL-ABE        217             2      6352.56   \n",
       "5      ABE           CLT  ABE-CLT        251             1      4415.58   \n",
       "6      CLT           ABE  CLT-ABE        251             1      4415.58   \n",
       "9      ABE           DTW  ABE-DTW        248             2      3901.50   \n",
       "\n",
       "   ARR_DELAY_x  DEP_DELAY_x  ARR_LATE_FEES_x  DEP_LATE_FEES_x  LATE_FEES_x  \\\n",
       "1         -6.0         -2.0              0.0              0.0          0.0   \n",
       "2        -10.0         -3.0              0.0              0.0          0.0   \n",
       "5         -3.0         -6.0              0.0              0.0          0.0   \n",
       "6         -7.0         -2.0              0.0              0.0          0.0   \n",
       "9         -7.5         -3.0              0.0              0.0          0.0   \n",
       "\n",
       "   DESTINATION_COST_x  OCCUPANCY_RATE_x  DISTANCE_x  AIR_TIME_x      KEY  \\\n",
       "1               10000          0.641567       692.0  107.027650  ABE-ATL   \n",
       "2                5000          0.667097       692.0   92.373272  ABE-ATL   \n",
       "5               10000          0.665976       481.0   98.972112  ABE-CLT   \n",
       "6                5000          0.656215       481.0   72.131474  ABE-CLT   \n",
       "9               10000          0.639073       425.0   83.431452  ABE-DTW   \n",
       "\n",
       "  ORIGIN_y DESTINATION_y   TRIP_y  FL_DATE_y  OP_CARRIER_y  MISC_COST_y  \\\n",
       "1      ATL           ABE  ATL-ABE        217             2      6352.56   \n",
       "2      ABE           ATL  ABE-ATL        217             2      6352.56   \n",
       "5      CLT           ABE  CLT-ABE        251             1      4415.58   \n",
       "6      ABE           CLT  ABE-CLT        251             1      4415.58   \n",
       "9      DTW           ABE  DTW-ABE        248             2      3901.50   \n",
       "\n",
       "   ARR_DELAY_y  DEP_DELAY_y  ARR_LATE_FEES_y  DEP_LATE_FEES_y  LATE_FEES_y  \\\n",
       "1        -10.0         -3.0              0.0              0.0          0.0   \n",
       "2         -6.0         -2.0              0.0              0.0          0.0   \n",
       "5         -7.0         -2.0              0.0              0.0          0.0   \n",
       "6         -3.0         -6.0              0.0              0.0          0.0   \n",
       "9        -11.0         -3.0              0.0              0.0          0.0   \n",
       "\n",
       "   DESTINATION_COST_y  OCCUPANCY_RATE_y  DISTANCE_y  AIR_TIME_y  \n",
       "1                5000          0.667097       692.0   92.373272  \n",
       "2               10000          0.641567       692.0  107.027650  \n",
       "5                5000          0.656215       481.0   72.131474  \n",
       "6               10000          0.665976       481.0   98.972112  \n",
       "9                5000          0.650766       425.0   60.012097  "
      ]
     },
     "execution_count": 239,
     "metadata": {},
     "output_type": "execute_result"
    }
   ],
   "source": [
    "round_trip_flights.head()"
   ]
  },
  {
   "cell_type": "code",
   "execution_count": 240,
   "id": "b668b18e",
   "metadata": {},
   "outputs": [],
   "source": [
    "# Renaming all the coloumns for the final dataset as the both the legs of the roundtrip should have differnt data point nomenclature \n",
    "cols_rename={'ORIGIN_x':'ONWARD_ORIGIN',\n",
    "             'DESTINATION_x':'ONWARD_DESTINATION',\n",
    "             'TRIP_x':'ONWARD_TRIP',\n",
    "             'FL_DATE_x':'ONWARD_COUNT',\n",
    "             'OP_CARRIER_x':'ONWARD_NUM_AIRLINES',\n",
    "             'MISC_COST_x':'ONWARD_MISC_COST',\n",
    "             'ARR_DELAY_x':'ONWARD_ARR_DELAY',\n",
    "             'DEP_DELAY_x':'ONWARD_DEP_DELAY',\n",
    "             'ARR_LATE_FEES_x':'ONWARD_ARR_LATE_FEES',\n",
    "             'DEP_LATE_FEES_x':'ONWARD_DEP_LATE_FEES',\n",
    "             'LATE_FEES_x':'ONWARD_LATE_FEES',\n",
    "             'DESTINATION_COST_x':'ONWARD_DESTINATION_COST',\n",
    "             'OCCUPANCY_RATE_x':'ONWARD_OCCUPANCY_RATE',\n",
    "             'DISTANCE_x':'ONWARD_DISTANCE',\n",
    "             'AIR_TIME_x':'ONWARD_AIRTIME',\n",
    "             'KEY':'ROUND_TRIP',\n",
    "             'ORIGIN_y':'RETURN_ORIGIN',\n",
    "             'DESTINATION_y':'RETURN_DESTINATION',\n",
    "             'TRIP_y':'RETURN_TRIP',\n",
    "             'FL_DATE_y':'RETURN_COUNT',\n",
    "             'OP_CARRIER_y':'RETURN_NUM_AIRLINES',\n",
    "             'MISC_COST_y':'RETURN_MISC_COST',\n",
    "             'ARR_DELAY_y':'RETURN_ARR_DELAY',\n",
    "             'DEP_DELAY_y':'RETURN_DEP_DELAY',\n",
    "             'ARR_LATE_FEES_y':'RETURN_ARR_LATE_FEES',\n",
    "             'DEP_LATE_FEES_y':'RETURN_DEP_LATE_FEES',\n",
    "             'LATE_FEES_y':'RETURN_LATE_FEES',\n",
    "             'DESTINATION_COST_y':'RETURN_DESTINATION_COST',\n",
    "             'OCCUPANCY_RATE_y':'RETURN_OCCUPANCY_RATE',\n",
    "             'DISTANCE_y':'RETURN_DISTANCE',\n",
    "             'AIR_TIME_y':'RETURN_AIRTIME'}"
   ]
  },
  {
   "cell_type": "code",
   "execution_count": 241,
   "id": "7c284e46",
   "metadata": {},
   "outputs": [],
   "source": [
    "round_trip_flights.rename(columns = cols_rename, inplace = True)"
   ]
  },
  {
   "cell_type": "code",
   "execution_count": 242,
   "id": "04ca4520",
   "metadata": {},
   "outputs": [],
   "source": [
    "# Considering the average of few data points when considering first and second leg of the roundtrip\n",
    "round_trip_flights['AVG_ARR_DELAY'] = (round_trip_flights['ONWARD_ARR_DELAY'] + \\\n",
    "                                       round_trip_flights['RETURN_ARR_DELAY'])/2\n",
    "round_trip_flights['AVG_DEP_DELAY'] = (round_trip_flights['ONWARD_DEP_DELAY'] + \\\n",
    "                                       round_trip_flights['RETURN_DEP_DELAY'])/2\n",
    "round_trip_flights['AVG_OCCUPANCY_RATE'] = (round_trip_flights['ONWARD_OCCUPANCY_RATE'] + \\\n",
    "                                       round_trip_flights['RETURN_OCCUPANCY_RATE'])/2\n",
    "round_trip_flights['DISTANCE'] = (round_trip_flights['ONWARD_DISTANCE'] + \\\n",
    "                                       round_trip_flights['RETURN_DISTANCE'])/2\n",
    "round_trip_flights['AIRTIME'] = (round_trip_flights['ONWARD_AIRTIME'] + \\\n",
    "                                       round_trip_flights['RETURN_AIRTIME'])/2\n",
    "round_trip_flights['NUM_AIRLINES'] = (round_trip_flights['ONWARD_NUM_AIRLINES'] + \\\n",
    "                                       round_trip_flights['RETURN_NUM_AIRLINES'])/2\n",
    "# why take min\n",
    "round_trip_flights['FLIGHT_COUNT'] = round_trip_flights.apply(lambda row: min(row['ONWARD_COUNT'], \n",
    "                                                                              row['RETURN_COUNT']), \n",
    "                                                              axis=1)\n",
    "round_trip_flights['LATE_FEES'] = round_trip_flights['ONWARD_LATE_FEES'] + round_trip_flights['RETURN_LATE_FEES']\n",
    "round_trip_flights['AIRPORT_COST'] = (round_trip_flights['ONWARD_DESTINATION_COST'] + \\\n",
    "                                      round_trip_flights['RETURN_DESTINATION_COST'])\n",
    "round_trip_flights['MISC_COST'] = round_trip_flights['ONWARD_MISC_COST'] + round_trip_flights['RETURN_MISC_COST']\n",
    "round_trip_flights['TRIP_COST'] = (round_trip_flights['LATE_FEES'] + round_trip_flights['AIRPORT_COST'] + \\\n",
    "                                    round_trip_flights['MISC_COST'])"
   ]
  },
  {
   "cell_type": "code",
   "execution_count": 243,
   "id": "4d446c8e",
   "metadata": {},
   "outputs": [],
   "source": [
    "# Dropping any duplicate columns to main consistency in the final dataset\n",
    "keep_cols = ['ROUND_TRIP','FLIGHT_COUNT','NUM_AIRLINES','AVG_ARR_DELAY','AVG_DEP_DELAY','DISTANCE','AIRTIME',\n",
    "             'AVG_OCCUPANCY_RATE','AIRPORT_COST','MISC_COST','LATE_FEES','TRIP_COST']\n",
    "round_trips = round_trip_flights[keep_cols].drop_duplicates()"
   ]
  },
  {
   "cell_type": "code",
   "execution_count": 244,
   "id": "1079e776",
   "metadata": {},
   "outputs": [
    {
     "data": {
      "text/html": [
       "<div>\n",
       "<style scoped>\n",
       "    .dataframe tbody tr th:only-of-type {\n",
       "        vertical-align: middle;\n",
       "    }\n",
       "\n",
       "    .dataframe tbody tr th {\n",
       "        vertical-align: top;\n",
       "    }\n",
       "\n",
       "    .dataframe thead th {\n",
       "        text-align: right;\n",
       "    }\n",
       "</style>\n",
       "<table border=\"1\" class=\"dataframe\">\n",
       "  <thead>\n",
       "    <tr style=\"text-align: right;\">\n",
       "      <th></th>\n",
       "      <th>1</th>\n",
       "      <th>5</th>\n",
       "      <th>9</th>\n",
       "      <th>13</th>\n",
       "      <th>17</th>\n",
       "    </tr>\n",
       "  </thead>\n",
       "  <tbody>\n",
       "    <tr>\n",
       "      <th>ROUND_TRIP</th>\n",
       "      <td>ABE-ATL</td>\n",
       "      <td>ABE-CLT</td>\n",
       "      <td>ABE-DTW</td>\n",
       "      <td>ABE-FLL</td>\n",
       "      <td>ABE-ORD</td>\n",
       "    </tr>\n",
       "    <tr>\n",
       "      <th>FLIGHT_COUNT</th>\n",
       "      <td>217</td>\n",
       "      <td>251</td>\n",
       "      <td>248</td>\n",
       "      <td>20</td>\n",
       "      <td>159</td>\n",
       "    </tr>\n",
       "    <tr>\n",
       "      <th>NUM_AIRLINES</th>\n",
       "      <td>2.0</td>\n",
       "      <td>1.0</td>\n",
       "      <td>2.0</td>\n",
       "      <td>1.0</td>\n",
       "      <td>3.0</td>\n",
       "    </tr>\n",
       "    <tr>\n",
       "      <th>AVG_ARR_DELAY</th>\n",
       "      <td>-8.0</td>\n",
       "      <td>-5.0</td>\n",
       "      <td>-9.25</td>\n",
       "      <td>0.25</td>\n",
       "      <td>-4.5</td>\n",
       "    </tr>\n",
       "    <tr>\n",
       "      <th>AVG_DEP_DELAY</th>\n",
       "      <td>-2.5</td>\n",
       "      <td>-4.0</td>\n",
       "      <td>-3.0</td>\n",
       "      <td>-1.25</td>\n",
       "      <td>-3.0</td>\n",
       "    </tr>\n",
       "    <tr>\n",
       "      <th>DISTANCE</th>\n",
       "      <td>692.0</td>\n",
       "      <td>481.0</td>\n",
       "      <td>425.0</td>\n",
       "      <td>1041.0</td>\n",
       "      <td>654.0</td>\n",
       "    </tr>\n",
       "    <tr>\n",
       "      <th>AIRTIME</th>\n",
       "      <td>99.700461</td>\n",
       "      <td>85.551793</td>\n",
       "      <td>71.721774</td>\n",
       "      <td>147.425</td>\n",
       "      <td>96.531447</td>\n",
       "    </tr>\n",
       "    <tr>\n",
       "      <th>AVG_OCCUPANCY_RATE</th>\n",
       "      <td>0.654332</td>\n",
       "      <td>0.661096</td>\n",
       "      <td>0.644919</td>\n",
       "      <td>0.60525</td>\n",
       "      <td>0.649434</td>\n",
       "    </tr>\n",
       "    <tr>\n",
       "      <th>AIRPORT_COST</th>\n",
       "      <td>15000</td>\n",
       "      <td>15000</td>\n",
       "      <td>15000</td>\n",
       "      <td>15000</td>\n",
       "      <td>15000</td>\n",
       "    </tr>\n",
       "    <tr>\n",
       "      <th>MISC_COST</th>\n",
       "      <td>12705.12</td>\n",
       "      <td>8831.16</td>\n",
       "      <td>7803.0</td>\n",
       "      <td>19112.76</td>\n",
       "      <td>12007.44</td>\n",
       "    </tr>\n",
       "    <tr>\n",
       "      <th>LATE_FEES</th>\n",
       "      <td>0.0</td>\n",
       "      <td>0.0</td>\n",
       "      <td>0.0</td>\n",
       "      <td>0.0</td>\n",
       "      <td>0.0</td>\n",
       "    </tr>\n",
       "    <tr>\n",
       "      <th>TRIP_COST</th>\n",
       "      <td>27705.12</td>\n",
       "      <td>23831.16</td>\n",
       "      <td>22803.0</td>\n",
       "      <td>34112.76</td>\n",
       "      <td>27007.44</td>\n",
       "    </tr>\n",
       "  </tbody>\n",
       "</table>\n",
       "</div>"
      ],
      "text/plain": [
       "                           1          5          9         13         17\n",
       "ROUND_TRIP            ABE-ATL    ABE-CLT    ABE-DTW   ABE-FLL    ABE-ORD\n",
       "FLIGHT_COUNT              217        251        248        20        159\n",
       "NUM_AIRLINES              2.0        1.0        2.0       1.0        3.0\n",
       "AVG_ARR_DELAY            -8.0       -5.0      -9.25      0.25       -4.5\n",
       "AVG_DEP_DELAY            -2.5       -4.0       -3.0     -1.25       -3.0\n",
       "DISTANCE                692.0      481.0      425.0    1041.0      654.0\n",
       "AIRTIME             99.700461  85.551793  71.721774   147.425  96.531447\n",
       "AVG_OCCUPANCY_RATE   0.654332   0.661096   0.644919   0.60525   0.649434\n",
       "AIRPORT_COST            15000      15000      15000     15000      15000\n",
       "MISC_COST            12705.12    8831.16     7803.0  19112.76   12007.44\n",
       "LATE_FEES                 0.0        0.0        0.0       0.0        0.0\n",
       "TRIP_COST            27705.12   23831.16    22803.0  34112.76   27007.44"
      ]
     },
     "execution_count": 244,
     "metadata": {},
     "output_type": "execute_result"
    }
   ],
   "source": [
    "round_trips.head().T"
   ]
  },
  {
   "cell_type": "markdown",
   "id": "865ce4b4",
   "metadata": {},
   "source": [
    "#### Outlier Detection"
   ]
  },
  {
   "cell_type": "code",
   "execution_count": 245,
   "id": "95e6eb56",
   "metadata": {},
   "outputs": [
    {
     "data": {
      "text/plain": [
       "Text(0, 0.5, 'Number of Trips')"
      ]
     },
     "execution_count": 245,
     "metadata": {},
     "output_type": "execute_result"
    },
    {
     "data": {
      "image/png": "[encoded data removed]",
      "text/plain": [
       "<Figure size 1080x576 with 1 Axes>"
      ]
     },
     "metadata": {},
     "output_type": "display_data"
    }
   ],
   "source": [
    "# Detecting outliers present in the Miscellaneous Cost column \n",
    "sns.histplot(round_trips['MISC_COST'])\n",
    "plt.title(\"Outliers in the Miscellaneous Cost column\")\n",
    "plt.xlabel(\"Miscellaneous Cost per Passenger in USD\")\n",
    "plt.ylabel(\"Number of Trips\")\n"
   ]
  },
  {
   "cell_type": "code",
   "execution_count": 246,
   "id": "b52a9741",
   "metadata": {},
   "outputs": [
    {
     "data": {
      "text/plain": [
       "Text(0, 0.5, 'Number of Trips')"
      ]
     },
     "execution_count": 246,
     "metadata": {},
     "output_type": "execute_result"
    },
    {
     "data": {
      "image/png": "[encoded data removed]",
      "text/plain": [
       "<Figure size 1080x576 with 1 Axes>"
      ]
     },
     "metadata": {},
     "output_type": "display_data"
    }
   ],
   "source": [
    "# Detecting outliers present in the Trip Cost column \n",
    "sns.histplot(round_trips['TRIP_COST'])\n",
    "plt.title(\"Outliers in the Trip Cost column\")\n",
    "plt.xlabel(\"Trip Cost in USD\")\n",
    "plt.ylabel(\"Number of Trips\")\n"
   ]
  },
  {
   "cell_type": "markdown",
   "id": "0ec4d324",
   "metadata": {},
   "source": [
    "**On average it costs ~10,000 USD in Miscellenous expenses, ~15000 USD in Airport Charges and ~30000 USD for overall ROUND TRIP expense. This amount is directly proportional to the distance between the two airports.**\n",
    "\n",
    "As seen from the plots there are few data points that are present all through the cost axis for both miscellenous and trip. Hence it is not in the best interest to get rid of those outliers for further analysis and evaluation of metrics."
   ]
  },
  {
   "cell_type": "markdown",
   "id": "b5b45b28",
   "metadata": {},
   "source": [
    "## Revenue Metrics"
   ]
  },
  {
   "cell_type": "code",
   "execution_count": 247,
   "id": "b89783da",
   "metadata": {},
   "outputs": [
    {
     "data": {
      "text/html": [
       "<div>\n",
       "<style scoped>\n",
       "    .dataframe tbody tr th:only-of-type {\n",
       "        vertical-align: middle;\n",
       "    }\n",
       "\n",
       "    .dataframe tbody tr th {\n",
       "        vertical-align: top;\n",
       "    }\n",
       "\n",
       "    .dataframe thead th {\n",
       "        text-align: right;\n",
       "    }\n",
       "</style>\n",
       "<table border=\"1\" class=\"dataframe\">\n",
       "  <thead>\n",
       "    <tr style=\"text-align: right;\">\n",
       "      <th></th>\n",
       "      <th>0</th>\n",
       "      <th>1</th>\n",
       "      <th>2</th>\n",
       "      <th>3</th>\n",
       "      <th>4</th>\n",
       "    </tr>\n",
       "  </thead>\n",
       "  <tbody>\n",
       "    <tr>\n",
       "      <th>ITIN_ID</th>\n",
       "      <td>201912723049</td>\n",
       "      <td>201912723465</td>\n",
       "      <td>201912723049</td>\n",
       "      <td>201912723465</td>\n",
       "      <td>201913102001</td>\n",
       "    </tr>\n",
       "    <tr>\n",
       "      <th>YEAR</th>\n",
       "      <td>2019</td>\n",
       "      <td>2019</td>\n",
       "      <td>2019</td>\n",
       "      <td>2019</td>\n",
       "      <td>2019</td>\n",
       "    </tr>\n",
       "    <tr>\n",
       "      <th>QUARTER</th>\n",
       "      <td>1</td>\n",
       "      <td>1</td>\n",
       "      <td>1</td>\n",
       "      <td>1</td>\n",
       "      <td>1</td>\n",
       "    </tr>\n",
       "    <tr>\n",
       "      <th>ORIGIN</th>\n",
       "      <td>ABI</td>\n",
       "      <td>ABI</td>\n",
       "      <td>ABI</td>\n",
       "      <td>ABI</td>\n",
       "      <td>ABR</td>\n",
       "    </tr>\n",
       "    <tr>\n",
       "      <th>ORIGIN_COUNTRY</th>\n",
       "      <td>US</td>\n",
       "      <td>US</td>\n",
       "      <td>US</td>\n",
       "      <td>US</td>\n",
       "      <td>US</td>\n",
       "    </tr>\n",
       "    <tr>\n",
       "      <th>ORIGIN_STATE_ABR</th>\n",
       "      <td>TX</td>\n",
       "      <td>TX</td>\n",
       "      <td>TX</td>\n",
       "      <td>TX</td>\n",
       "      <td>SD</td>\n",
       "    </tr>\n",
       "    <tr>\n",
       "      <th>ORIGIN_STATE_NM</th>\n",
       "      <td>Texas</td>\n",
       "      <td>Texas</td>\n",
       "      <td>Texas</td>\n",
       "      <td>Texas</td>\n",
       "      <td>South Dakota</td>\n",
       "    </tr>\n",
       "    <tr>\n",
       "      <th>ROUNDTRIP</th>\n",
       "      <td>1.0</td>\n",
       "      <td>1.0</td>\n",
       "      <td>1.0</td>\n",
       "      <td>1.0</td>\n",
       "      <td>1.0</td>\n",
       "    </tr>\n",
       "    <tr>\n",
       "      <th>REPORTING_CARRIER</th>\n",
       "      <td>MQ</td>\n",
       "      <td>MQ</td>\n",
       "      <td>MQ</td>\n",
       "      <td>MQ</td>\n",
       "      <td>OO</td>\n",
       "    </tr>\n",
       "    <tr>\n",
       "      <th>PASSENGERS</th>\n",
       "      <td>1.0</td>\n",
       "      <td>1.0</td>\n",
       "      <td>1.0</td>\n",
       "      <td>1.0</td>\n",
       "      <td>1.0</td>\n",
       "    </tr>\n",
       "    <tr>\n",
       "      <th>ITIN_FARE</th>\n",
       "      <td>736.0</td>\n",
       "      <td>587.0</td>\n",
       "      <td>736.0</td>\n",
       "      <td>587.0</td>\n",
       "      <td>800.0</td>\n",
       "    </tr>\n",
       "    <tr>\n",
       "      <th>DESTINATION</th>\n",
       "      <td>DAB</td>\n",
       "      <td>DAB</td>\n",
       "      <td>DAB</td>\n",
       "      <td>DAB</td>\n",
       "      <td>DAB</td>\n",
       "    </tr>\n",
       "    <tr>\n",
       "      <th>IS_CLEAN_FARE</th>\n",
       "      <td>1</td>\n",
       "      <td>1</td>\n",
       "      <td>1</td>\n",
       "      <td>1</td>\n",
       "      <td>1</td>\n",
       "    </tr>\n",
       "    <tr>\n",
       "      <th>TRIP</th>\n",
       "      <td>ABI-DAB</td>\n",
       "      <td>ABI-DAB</td>\n",
       "      <td>ABI-DAB</td>\n",
       "      <td>ABI-DAB</td>\n",
       "      <td>ABR-DAB</td>\n",
       "    </tr>\n",
       "    <tr>\n",
       "      <th>AVG_FARE</th>\n",
       "      <td>661.5</td>\n",
       "      <td>661.5</td>\n",
       "      <td>661.5</td>\n",
       "      <td>661.5</td>\n",
       "      <td>800.0</td>\n",
       "    </tr>\n",
       "    <tr>\n",
       "      <th>ITIN_FARE_CLEAN</th>\n",
       "      <td>736.0</td>\n",
       "      <td>587.0</td>\n",
       "      <td>736.0</td>\n",
       "      <td>587.0</td>\n",
       "      <td>800.0</td>\n",
       "    </tr>\n",
       "  </tbody>\n",
       "</table>\n",
       "</div>"
      ],
      "text/plain": [
       "                              0             1             2             3  \\\n",
       "ITIN_ID            201912723049  201912723465  201912723049  201912723465   \n",
       "YEAR                       2019          2019          2019          2019   \n",
       "QUARTER                       1             1             1             1   \n",
       "ORIGIN                      ABI           ABI           ABI           ABI   \n",
       "ORIGIN_COUNTRY               US            US            US            US   \n",
       "ORIGIN_STATE_ABR             TX            TX            TX            TX   \n",
       "ORIGIN_STATE_NM           Texas         Texas         Texas         Texas   \n",
       "ROUNDTRIP                   1.0           1.0           1.0           1.0   \n",
       "REPORTING_CARRIER            MQ            MQ            MQ            MQ   \n",
       "PASSENGERS                  1.0           1.0           1.0           1.0   \n",
       "ITIN_FARE                 736.0         587.0         736.0         587.0   \n",
       "DESTINATION                 DAB           DAB           DAB           DAB   \n",
       "IS_CLEAN_FARE                 1             1             1             1   \n",
       "TRIP                    ABI-DAB       ABI-DAB       ABI-DAB       ABI-DAB   \n",
       "AVG_FARE                  661.5         661.5         661.5         661.5   \n",
       "ITIN_FARE_CLEAN           736.0         587.0         736.0         587.0   \n",
       "\n",
       "                              4  \n",
       "ITIN_ID            201913102001  \n",
       "YEAR                       2019  \n",
       "QUARTER                       1  \n",
       "ORIGIN                      ABR  \n",
       "ORIGIN_COUNTRY               US  \n",
       "ORIGIN_STATE_ABR             SD  \n",
       "ORIGIN_STATE_NM    South Dakota  \n",
       "ROUNDTRIP                   1.0  \n",
       "REPORTING_CARRIER            OO  \n",
       "PASSENGERS                  1.0  \n",
       "ITIN_FARE                 800.0  \n",
       "DESTINATION                 DAB  \n",
       "IS_CLEAN_FARE                 1  \n",
       "TRIP                    ABR-DAB  \n",
       "AVG_FARE                  800.0  \n",
       "ITIN_FARE_CLEAN           800.0  "
      ]
     },
     "execution_count": 247,
     "metadata": {},
     "output_type": "execute_result"
    }
   ],
   "source": [
    "# Display the tickets dataset\n",
    "tickets.head().T"
   ]
  },
  {
   "cell_type": "code",
   "execution_count": 248,
   "id": "d532802d",
   "metadata": {},
   "outputs": [
    {
     "data": {
      "text/html": [
       "<div>\n",
       "<style scoped>\n",
       "    .dataframe tbody tr th:only-of-type {\n",
       "        vertical-align: middle;\n",
       "    }\n",
       "\n",
       "    .dataframe tbody tr th {\n",
       "        vertical-align: top;\n",
       "    }\n",
       "\n",
       "    .dataframe thead th {\n",
       "        text-align: right;\n",
       "    }\n",
       "</style>\n",
       "<table border=\"1\" class=\"dataframe\">\n",
       "  <thead>\n",
       "    <tr style=\"text-align: right;\">\n",
       "      <th></th>\n",
       "      <th>PASSENGERS</th>\n",
       "      <th>ITIN_FARE_CLEAN</th>\n",
       "    </tr>\n",
       "  </thead>\n",
       "  <tbody>\n",
       "    <tr>\n",
       "      <th>count</th>\n",
       "      <td>673604.000000</td>\n",
       "      <td>674754.000000</td>\n",
       "    </tr>\n",
       "    <tr>\n",
       "      <th>mean</th>\n",
       "      <td>1.937065</td>\n",
       "      <td>465.109607</td>\n",
       "    </tr>\n",
       "    <tr>\n",
       "      <th>std</th>\n",
       "      <td>4.989575</td>\n",
       "      <td>284.186425</td>\n",
       "    </tr>\n",
       "    <tr>\n",
       "      <th>min</th>\n",
       "      <td>1.000000</td>\n",
       "      <td>1.000000</td>\n",
       "    </tr>\n",
       "    <tr>\n",
       "      <th>25%</th>\n",
       "      <td>1.000000</td>\n",
       "      <td>284.000000</td>\n",
       "    </tr>\n",
       "    <tr>\n",
       "      <th>50%</th>\n",
       "      <td>1.000000</td>\n",
       "      <td>417.000000</td>\n",
       "    </tr>\n",
       "    <tr>\n",
       "      <th>75%</th>\n",
       "      <td>1.000000</td>\n",
       "      <td>594.000000</td>\n",
       "    </tr>\n",
       "    <tr>\n",
       "      <th>max</th>\n",
       "      <td>681.000000</td>\n",
       "      <td>2058.000000</td>\n",
       "    </tr>\n",
       "  </tbody>\n",
       "</table>\n",
       "</div>"
      ],
      "text/plain": [
       "          PASSENGERS  ITIN_FARE_CLEAN\n",
       "count  673604.000000    674754.000000\n",
       "mean        1.937065       465.109607\n",
       "std         4.989575       284.186425\n",
       "min         1.000000         1.000000\n",
       "25%         1.000000       284.000000\n",
       "50%         1.000000       417.000000\n",
       "75%         1.000000       594.000000\n",
       "max       681.000000      2058.000000"
      ]
     },
     "execution_count": 248,
     "metadata": {},
     "output_type": "execute_result"
    }
   ],
   "source": [
    "# The mean and median for the ITIN FARE CLEAN column are not that far apart implying that for each trip mean fare can be considered.\n",
    "tickets[['PASSENGERS','ITIN_FARE_CLEAN']].describe()"
   ]
  },
  {
   "cell_type": "code",
   "execution_count": 249,
   "id": "43eeebc9",
   "metadata": {},
   "outputs": [],
   "source": [
    "# Applying the fucntion on a new created column called KEY\n",
    "tickets['ROUND_TRIP'] = tickets['TRIP'].apply(lambda x: make_key(x))"
   ]
  },
  {
   "cell_type": "code",
   "execution_count": 250,
   "id": "50b971a9",
   "metadata": {},
   "outputs": [],
   "source": [
    "# Calculating the mean of fare for each trip and renaming the fare column to fare per passenger \n",
    "tickets_agg = tickets.groupby('ROUND_TRIP').agg({'ITIN_FARE_CLEAN':'mean'}).reset_index()\n",
    "tickets_agg.rename(columns={'ITIN_FARE_CLEAN':'FARE_PER_PASSENGER'},inplace = True)"
   ]
  },
  {
   "cell_type": "code",
   "execution_count": 251,
   "id": "9e5dfb3d",
   "metadata": {},
   "outputs": [
    {
     "data": {
      "text/html": [
       "<div>\n",
       "<style scoped>\n",
       "    .dataframe tbody tr th:only-of-type {\n",
       "        vertical-align: middle;\n",
       "    }\n",
       "\n",
       "    .dataframe tbody tr th {\n",
       "        vertical-align: top;\n",
       "    }\n",
       "\n",
       "    .dataframe thead th {\n",
       "        text-align: right;\n",
       "    }\n",
       "</style>\n",
       "<table border=\"1\" class=\"dataframe\">\n",
       "  <thead>\n",
       "    <tr style=\"text-align: right;\">\n",
       "      <th></th>\n",
       "      <th>ROUND_TRIP</th>\n",
       "      <th>FARE_PER_PASSENGER</th>\n",
       "    </tr>\n",
       "  </thead>\n",
       "  <tbody>\n",
       "    <tr>\n",
       "      <th>0</th>\n",
       "      <td>ABE-ABI</td>\n",
       "      <td>758.0</td>\n",
       "    </tr>\n",
       "    <tr>\n",
       "      <th>1</th>\n",
       "      <td>ABE-ABQ</td>\n",
       "      <td>534.0</td>\n",
       "    </tr>\n",
       "    <tr>\n",
       "      <th>2</th>\n",
       "      <td>ABE-AGS</td>\n",
       "      <td>391.0</td>\n",
       "    </tr>\n",
       "    <tr>\n",
       "      <th>3</th>\n",
       "      <td>ABE-AMA</td>\n",
       "      <td>654.0</td>\n",
       "    </tr>\n",
       "    <tr>\n",
       "      <th>4</th>\n",
       "      <td>ABE-ASE</td>\n",
       "      <td>742.0</td>\n",
       "    </tr>\n",
       "  </tbody>\n",
       "</table>\n",
       "</div>"
      ],
      "text/plain": [
       "  ROUND_TRIP  FARE_PER_PASSENGER\n",
       "0    ABE-ABI               758.0\n",
       "1    ABE-ABQ               534.0\n",
       "2    ABE-AGS               391.0\n",
       "3    ABE-AMA               654.0\n",
       "4    ABE-ASE               742.0"
      ]
     },
     "execution_count": 251,
     "metadata": {},
     "output_type": "execute_result"
    }
   ],
   "source": [
    "# Display of the sample data\n",
    "tickets_agg.head()"
   ]
  },
  {
   "cell_type": "code",
   "execution_count": 252,
   "id": "a317f0b8",
   "metadata": {},
   "outputs": [
    {
     "data": {
      "text/plain": [
       "(23901, 2)"
      ]
     },
     "execution_count": 252,
     "metadata": {},
     "output_type": "execute_result"
    }
   ],
   "source": [
    "# The tickets agg dataset consists of 23901 rows of interest\n",
    "tickets_agg.shape"
   ]
  },
  {
   "cell_type": "markdown",
   "id": "d66a152f",
   "metadata": {},
   "source": [
    "### Data Munging"
   ]
  },
  {
   "cell_type": "code",
   "execution_count": 253,
   "id": "43c61138",
   "metadata": {},
   "outputs": [],
   "source": [
    "trip_data = pd.merge(round_trips,\n",
    "                     tickets_agg,\n",
    "                     on = 'ROUND_TRIP',\n",
    "                     how = 'inner')"
   ]
  },
  {
   "cell_type": "code",
   "execution_count": 254,
   "id": "e955bc07",
   "metadata": {},
   "outputs": [
    {
     "data": {
      "text/plain": [
       "(2771, 13)"
      ]
     },
     "execution_count": 254,
     "metadata": {},
     "output_type": "execute_result"
    }
   ],
   "source": [
    "# Trip data on merging with tickets agg consists of 2771 rows of interest\n",
    "trip_data.shape"
   ]
  },
  {
   "cell_type": "code",
   "execution_count": 255,
   "id": "9d90d9e8",
   "metadata": {},
   "outputs": [
    {
     "data": {
      "text/html": [
       "<div>\n",
       "<style scoped>\n",
       "    .dataframe tbody tr th:only-of-type {\n",
       "        vertical-align: middle;\n",
       "    }\n",
       "\n",
       "    .dataframe tbody tr th {\n",
       "        vertical-align: top;\n",
       "    }\n",
       "\n",
       "    .dataframe thead th {\n",
       "        text-align: right;\n",
       "    }\n",
       "</style>\n",
       "<table border=\"1\" class=\"dataframe\">\n",
       "  <thead>\n",
       "    <tr style=\"text-align: right;\">\n",
       "      <th></th>\n",
       "      <th>0</th>\n",
       "      <th>1</th>\n",
       "      <th>2</th>\n",
       "      <th>3</th>\n",
       "      <th>4</th>\n",
       "    </tr>\n",
       "  </thead>\n",
       "  <tbody>\n",
       "    <tr>\n",
       "      <th>ROUND_TRIP</th>\n",
       "      <td>ABE-ATL</td>\n",
       "      <td>ABE-CLT</td>\n",
       "      <td>ABE-DTW</td>\n",
       "      <td>ABE-FLL</td>\n",
       "      <td>ABE-ORD</td>\n",
       "    </tr>\n",
       "    <tr>\n",
       "      <th>FLIGHT_COUNT</th>\n",
       "      <td>217</td>\n",
       "      <td>251</td>\n",
       "      <td>248</td>\n",
       "      <td>20</td>\n",
       "      <td>159</td>\n",
       "    </tr>\n",
       "    <tr>\n",
       "      <th>NUM_AIRLINES</th>\n",
       "      <td>2.0</td>\n",
       "      <td>1.0</td>\n",
       "      <td>2.0</td>\n",
       "      <td>1.0</td>\n",
       "      <td>3.0</td>\n",
       "    </tr>\n",
       "    <tr>\n",
       "      <th>AVG_ARR_DELAY</th>\n",
       "      <td>-8.0</td>\n",
       "      <td>-5.0</td>\n",
       "      <td>-9.25</td>\n",
       "      <td>0.25</td>\n",
       "      <td>-4.5</td>\n",
       "    </tr>\n",
       "    <tr>\n",
       "      <th>AVG_DEP_DELAY</th>\n",
       "      <td>-2.5</td>\n",
       "      <td>-4.0</td>\n",
       "      <td>-3.0</td>\n",
       "      <td>-1.25</td>\n",
       "      <td>-3.0</td>\n",
       "    </tr>\n",
       "    <tr>\n",
       "      <th>DISTANCE</th>\n",
       "      <td>692.0</td>\n",
       "      <td>481.0</td>\n",
       "      <td>425.0</td>\n",
       "      <td>1041.0</td>\n",
       "      <td>654.0</td>\n",
       "    </tr>\n",
       "    <tr>\n",
       "      <th>AIRTIME</th>\n",
       "      <td>99.700461</td>\n",
       "      <td>85.551793</td>\n",
       "      <td>71.721774</td>\n",
       "      <td>147.425</td>\n",
       "      <td>96.531447</td>\n",
       "    </tr>\n",
       "    <tr>\n",
       "      <th>AVG_OCCUPANCY_RATE</th>\n",
       "      <td>0.654332</td>\n",
       "      <td>0.661096</td>\n",
       "      <td>0.644919</td>\n",
       "      <td>0.60525</td>\n",
       "      <td>0.649434</td>\n",
       "    </tr>\n",
       "    <tr>\n",
       "      <th>AIRPORT_COST</th>\n",
       "      <td>15000</td>\n",
       "      <td>15000</td>\n",
       "      <td>15000</td>\n",
       "      <td>15000</td>\n",
       "      <td>15000</td>\n",
       "    </tr>\n",
       "    <tr>\n",
       "      <th>MISC_COST</th>\n",
       "      <td>12705.12</td>\n",
       "      <td>8831.16</td>\n",
       "      <td>7803.0</td>\n",
       "      <td>19112.76</td>\n",
       "      <td>12007.44</td>\n",
       "    </tr>\n",
       "    <tr>\n",
       "      <th>LATE_FEES</th>\n",
       "      <td>0.0</td>\n",
       "      <td>0.0</td>\n",
       "      <td>0.0</td>\n",
       "      <td>0.0</td>\n",
       "      <td>0.0</td>\n",
       "    </tr>\n",
       "    <tr>\n",
       "      <th>TRIP_COST</th>\n",
       "      <td>27705.12</td>\n",
       "      <td>23831.16</td>\n",
       "      <td>22803.0</td>\n",
       "      <td>34112.76</td>\n",
       "      <td>27007.44</td>\n",
       "    </tr>\n",
       "    <tr>\n",
       "      <th>FARE_PER_PASSENGER</th>\n",
       "      <td>557.141176</td>\n",
       "      <td>486.394737</td>\n",
       "      <td>426.421053</td>\n",
       "      <td>248.734375</td>\n",
       "      <td>566.633333</td>\n",
       "    </tr>\n",
       "  </tbody>\n",
       "</table>\n",
       "</div>"
      ],
      "text/plain": [
       "                             0           1           2           3           4\n",
       "ROUND_TRIP             ABE-ATL     ABE-CLT     ABE-DTW     ABE-FLL     ABE-ORD\n",
       "FLIGHT_COUNT               217         251         248          20         159\n",
       "NUM_AIRLINES               2.0         1.0         2.0         1.0         3.0\n",
       "AVG_ARR_DELAY             -8.0        -5.0       -9.25        0.25        -4.5\n",
       "AVG_DEP_DELAY             -2.5        -4.0        -3.0       -1.25        -3.0\n",
       "DISTANCE                 692.0       481.0       425.0      1041.0       654.0\n",
       "AIRTIME              99.700461   85.551793   71.721774     147.425   96.531447\n",
       "AVG_OCCUPANCY_RATE    0.654332    0.661096    0.644919     0.60525    0.649434\n",
       "AIRPORT_COST             15000       15000       15000       15000       15000\n",
       "MISC_COST             12705.12     8831.16      7803.0    19112.76    12007.44\n",
       "LATE_FEES                  0.0         0.0         0.0         0.0         0.0\n",
       "TRIP_COST             27705.12    23831.16     22803.0    34112.76    27007.44\n",
       "FARE_PER_PASSENGER  557.141176  486.394737  426.421053  248.734375  566.633333"
      ]
     },
     "execution_count": 255,
     "metadata": {},
     "output_type": "execute_result"
    }
   ],
   "source": [
    "# Display the Sample Data\n",
    "trip_data.head().T"
   ]
  },
  {
   "cell_type": "code",
   "execution_count": 256,
   "id": "2a76b312",
   "metadata": {},
   "outputs": [],
   "source": [
    "# Defining revenue metrics\n",
    "trip_data['NUM_PASSENGERS'] = np.ceil(trip_data['AVG_OCCUPANCY_RATE'] * 400)\n",
    "trip_data['BASE_REVENUE'] = trip_data['NUM_PASSENGERS'] * trip_data['FARE_PER_PASSENGER']\n",
    "trip_data['LUGGAGE_REVENUE'] = trip_data['NUM_PASSENGERS'] * 70/2\n",
    "trip_data['TRIP_REVENUE'] = trip_data['BASE_REVENUE'] + trip_data['LUGGAGE_REVENUE']\n",
    "trip_data['TRIP_PROFIT'] = trip_data['TRIP_REVENUE'] - trip_data['TRIP_COST']"
   ]
  },
  {
   "cell_type": "code",
   "execution_count": 257,
   "id": "07a6a1de",
   "metadata": {},
   "outputs": [],
   "source": [
    "# Defining Profit Metrics\n",
    "trip_data['TOTAL_PROFIT'] = trip_data['FLIGHT_COUNT'] * trip_data['TRIP_PROFIT']\n",
    "trip_data['TOTAL_COST'] = trip_data['FLIGHT_COUNT'] * trip_data['TRIP_COST']\n",
    "trip_data['TOTAL_REVENUE'] = trip_data['FLIGHT_COUNT'] * trip_data['TRIP_REVENUE']"
   ]
  },
  {
   "cell_type": "markdown",
   "id": "a1483f01",
   "metadata": {},
   "source": [
    "#### Outlier Detection"
   ]
  },
  {
   "cell_type": "code",
   "execution_count": 258,
   "id": "f2cf6cc7",
   "metadata": {},
   "outputs": [
    {
     "data": {
      "text/plain": [
       "Text(0, 0.5, 'Number of Trips')"
      ]
     },
     "execution_count": 258,
     "metadata": {},
     "output_type": "execute_result"
    },
    {
     "data": {
      "image/png": "[encoded data removed]",
      "text/plain": [
       "<Figure size 1080x576 with 1 Axes>"
      ]
     },
     "metadata": {},
     "output_type": "display_data"
    }
   ],
   "source": [
    "# Detecting outliers present in the Trip Revenue column \n",
    "sns.histplot(trip_data['TRIP_REVENUE'])\n",
    "plt.title(\"Outliers in the Trip Revenue column\")\n",
    "plt.xlabel(\"Trip Revenue in USD\")\n",
    "plt.ylabel(\"Number of Trips\")"
   ]
  },
  {
   "cell_type": "code",
   "execution_count": 259,
   "id": "4212ad9b",
   "metadata": {},
   "outputs": [
    {
     "data": {
      "text/plain": [
       "Text(0, 0.5, 'Number of Trips')"
      ]
     },
     "execution_count": 259,
     "metadata": {},
     "output_type": "execute_result"
    },
    {
     "data": {
      "image/png": "[encoded data removed]",
      "text/plain": [
       "<Figure size 1080x576 with 1 Axes>"
      ]
     },
     "metadata": {},
     "output_type": "display_data"
    }
   ],
   "source": [
    "# Detecting outliers present in the Trip Profit column \n",
    "sns.histplot(trip_data['TRIP_PROFIT'])\n",
    "plt.title(\"Outliers in the Trip Profit column\")\n",
    "plt.xlabel(\"Trip Profit in USD\")\n",
    "plt.ylabel(\"Number of Trips\")"
   ]
  },
  {
   "cell_type": "code",
   "execution_count": 260,
   "id": "6c2206c4",
   "metadata": {},
   "outputs": [],
   "source": [
    "# Getting the average statistics at ROUTE-LEVEL\n",
    "trip_data['AVG_PROFIT'] = trip_data['TOTAL_PROFIT']/trip_data['NUM_AIRLINES']\n",
    "trip_data['AVG_NUM_FLIGHTS'] = np.ceil(trip_data['FLIGHT_COUNT']/trip_data['NUM_AIRLINES'])"
   ]
  },
  {
   "cell_type": "code",
   "execution_count": 261,
   "id": "459e01b8",
   "metadata": {
    "scrolled": false
   },
   "outputs": [
    {
     "data": {
      "text/plain": [
       "Text(0, 0.5, 'Number of Trips')"
      ]
     },
     "execution_count": 261,
     "metadata": {},
     "output_type": "execute_result"
    },
    {
     "data": {
      "image/png": "[encoded data removed]",
      "text/plain": [
       "<Figure size 1080x576 with 1 Axes>"
      ]
     },
     "metadata": {},
     "output_type": "display_data"
    }
   ],
   "source": [
    "# Detecting outliers present in the Avg number of flights column \n",
    "sns.histplot(trip_data['AVG_NUM_FLIGHTS'])\n",
    "plt.title(\"Outliers in the Avg Number of Flights column\")\n",
    "plt.xlabel(\"Avg Number of Flights\")\n",
    "plt.ylabel(\"Number of Trips\")"
   ]
  },
  {
   "cell_type": "code",
   "execution_count": 262,
   "id": "99d72322",
   "metadata": {},
   "outputs": [
    {
     "data": {
      "text/plain": [
       "Text(0, 0.5, 'Number of Trips')"
      ]
     },
     "execution_count": 262,
     "metadata": {},
     "output_type": "execute_result"
    },
    {
     "data": {
      "image/png": "[encoded data removed]",
      "text/plain": [
       "<Figure size 1080x576 with 1 Axes>"
      ]
     },
     "metadata": {},
     "output_type": "display_data"
    }
   ],
   "source": [
    "# Detecting outliers present in the Avg Trip Profit column \n",
    "sns.histplot(trip_data['AVG_PROFIT'])\n",
    "plt.title(\"Outliers in the Avg Trip Profit column\")\n",
    "plt.xlabel(\"Avg Trip Profit in USD\")\n",
    "plt.ylabel(\"Number of Trips\")"
   ]
  },
  {
   "cell_type": "markdown",
   "id": "7880e2fc",
   "metadata": {},
   "source": [
    "As seen from the plots there are few data points that are present all through the cost axis for the Avg number of flights, Avg Trip Profit,Trip Profit and Trip Revenue. Hence it is not in the best interest to get rid of those outliers for further analysis and evaluation of metrics."
   ]
  },
  {
   "cell_type": "markdown",
   "id": "f6ad8339",
   "metadata": {},
   "source": [
    "## Summarizing Insights"
   ]
  },
  {
   "cell_type": "code",
   "execution_count": 263,
   "id": "2230d073",
   "metadata": {},
   "outputs": [
    {
     "data": {
      "text/html": [
       "<div>\n",
       "<style scoped>\n",
       "    .dataframe tbody tr th:only-of-type {\n",
       "        vertical-align: middle;\n",
       "    }\n",
       "\n",
       "    .dataframe tbody tr th {\n",
       "        vertical-align: top;\n",
       "    }\n",
       "\n",
       "    .dataframe thead th {\n",
       "        text-align: right;\n",
       "    }\n",
       "</style>\n",
       "<table border=\"1\" class=\"dataframe\">\n",
       "  <thead>\n",
       "    <tr style=\"text-align: right;\">\n",
       "      <th></th>\n",
       "      <th>count</th>\n",
       "      <th>mean</th>\n",
       "      <th>std</th>\n",
       "      <th>min</th>\n",
       "      <th>25%</th>\n",
       "      <th>50%</th>\n",
       "      <th>75%</th>\n",
       "      <th>max</th>\n",
       "    </tr>\n",
       "  </thead>\n",
       "  <tbody>\n",
       "    <tr>\n",
       "      <th>FLIGHT_COUNT</th>\n",
       "      <td>2771.00000</td>\n",
       "      <td>325.45940</td>\n",
       "      <td>364.93760</td>\n",
       "      <td>1.00000</td>\n",
       "      <td>87.00000</td>\n",
       "      <td>225.00000</td>\n",
       "      <td>421.50000</td>\n",
       "      <td>4155.00000</td>\n",
       "    </tr>\n",
       "    <tr>\n",
       "      <th>NUM_AIRLINES</th>\n",
       "      <td>2771.00000</td>\n",
       "      <td>2.09076</td>\n",
       "      <td>1.46941</td>\n",
       "      <td>1.00000</td>\n",
       "      <td>1.00000</td>\n",
       "      <td>2.00000</td>\n",
       "      <td>3.00000</td>\n",
       "      <td>9.50000</td>\n",
       "    </tr>\n",
       "    <tr>\n",
       "      <th>AVG_ARR_DELAY</th>\n",
       "      <td>2771.00000</td>\n",
       "      <td>-6.27652</td>\n",
       "      <td>6.73153</td>\n",
       "      <td>-31.00000</td>\n",
       "      <td>-9.00000</td>\n",
       "      <td>-6.50000</td>\n",
       "      <td>-4.00000</td>\n",
       "      <td>208.00000</td>\n",
       "    </tr>\n",
       "    <tr>\n",
       "      <th>AVG_DEP_DELAY</th>\n",
       "      <td>2771.00000</td>\n",
       "      <td>-2.26723</td>\n",
       "      <td>5.62172</td>\n",
       "      <td>-16.00000</td>\n",
       "      <td>-4.00000</td>\n",
       "      <td>-2.50000</td>\n",
       "      <td>-1.00000</td>\n",
       "      <td>217.50000</td>\n",
       "    </tr>\n",
       "    <tr>\n",
       "      <th>DISTANCE</th>\n",
       "      <td>2771.00000</td>\n",
       "      <td>885.88294</td>\n",
       "      <td>615.91404</td>\n",
       "      <td>31.00000</td>\n",
       "      <td>440.50000</td>\n",
       "      <td>748.00000</td>\n",
       "      <td>1134.18909</td>\n",
       "      <td>4243.00000</td>\n",
       "    </tr>\n",
       "    <tr>\n",
       "      <th>AIRTIME</th>\n",
       "      <td>2771.00000</td>\n",
       "      <td>122.63558</td>\n",
       "      <td>72.25680</td>\n",
       "      <td>11.48235</td>\n",
       "      <td>69.75010</td>\n",
       "      <td>107.00000</td>\n",
       "      <td>153.27778</td>\n",
       "      <td>464.23377</td>\n",
       "    </tr>\n",
       "    <tr>\n",
       "      <th>AVG_OCCUPANCY_RATE</th>\n",
       "      <td>2771.00000</td>\n",
       "      <td>0.65049</td>\n",
       "      <td>0.01814</td>\n",
       "      <td>0.46750</td>\n",
       "      <td>0.64364</td>\n",
       "      <td>0.65017</td>\n",
       "      <td>0.65709</td>\n",
       "      <td>0.88000</td>\n",
       "    </tr>\n",
       "    <tr>\n",
       "      <th>AIRPORT_COST</th>\n",
       "      <td>2771.00000</td>\n",
       "      <td>18363.40671</td>\n",
       "      <td>2531.60880</td>\n",
       "      <td>10000.00000</td>\n",
       "      <td>15000.00000</td>\n",
       "      <td>20000.00000</td>\n",
       "      <td>20000.00000</td>\n",
       "      <td>20000.00000</td>\n",
       "    </tr>\n",
       "    <tr>\n",
       "      <th>MISC_COST</th>\n",
       "      <td>2771.00000</td>\n",
       "      <td>16264.81073</td>\n",
       "      <td>11308.18177</td>\n",
       "      <td>569.16000</td>\n",
       "      <td>8087.58000</td>\n",
       "      <td>13733.28000</td>\n",
       "      <td>20823.71162</td>\n",
       "      <td>77901.48000</td>\n",
       "    </tr>\n",
       "    <tr>\n",
       "      <th>LATE_FEES</th>\n",
       "      <td>2771.00000</td>\n",
       "      <td>56.27030</td>\n",
       "      <td>1255.08930</td>\n",
       "      <td>0.00000</td>\n",
       "      <td>0.00000</td>\n",
       "      <td>0.00000</td>\n",
       "      <td>0.00000</td>\n",
       "      <td>59325.00000</td>\n",
       "    </tr>\n",
       "    <tr>\n",
       "      <th>TRIP_COST</th>\n",
       "      <td>2771.00000</td>\n",
       "      <td>34684.48774</td>\n",
       "      <td>11994.94780</td>\n",
       "      <td>10569.16000</td>\n",
       "      <td>26251.58000</td>\n",
       "      <td>32246.12000</td>\n",
       "      <td>39626.84000</td>\n",
       "      <td>99025.28000</td>\n",
       "    </tr>\n",
       "    <tr>\n",
       "      <th>FARE_PER_PASSENGER</th>\n",
       "      <td>2771.00000</td>\n",
       "      <td>426.00353</td>\n",
       "      <td>134.05358</td>\n",
       "      <td>11.00000</td>\n",
       "      <td>346.37879</td>\n",
       "      <td>421.98765</td>\n",
       "      <td>507.86860</td>\n",
       "      <td>1999.00000</td>\n",
       "    </tr>\n",
       "    <tr>\n",
       "      <th>NUM_PASSENGERS</th>\n",
       "      <td>2771.00000</td>\n",
       "      <td>260.69073</td>\n",
       "      <td>7.24601</td>\n",
       "      <td>187.00000</td>\n",
       "      <td>258.00000</td>\n",
       "      <td>261.00000</td>\n",
       "      <td>263.00000</td>\n",
       "      <td>352.00000</td>\n",
       "    </tr>\n",
       "    <tr>\n",
       "      <th>BASE_REVENUE</th>\n",
       "      <td>2771.00000</td>\n",
       "      <td>111099.05651</td>\n",
       "      <td>35215.92357</td>\n",
       "      <td>2838.00000</td>\n",
       "      <td>89973.54434</td>\n",
       "      <td>109951.38636</td>\n",
       "      <td>132607.73684</td>\n",
       "      <td>519740.00000</td>\n",
       "    </tr>\n",
       "    <tr>\n",
       "      <th>LUGGAGE_REVENUE</th>\n",
       "      <td>2771.00000</td>\n",
       "      <td>9124.17539</td>\n",
       "      <td>253.61039</td>\n",
       "      <td>6545.00000</td>\n",
       "      <td>9030.00000</td>\n",
       "      <td>9135.00000</td>\n",
       "      <td>9205.00000</td>\n",
       "      <td>12320.00000</td>\n",
       "    </tr>\n",
       "    <tr>\n",
       "      <th>TRIP_REVENUE</th>\n",
       "      <td>2771.00000</td>\n",
       "      <td>120223.23190</td>\n",
       "      <td>35249.61924</td>\n",
       "      <td>11868.00000</td>\n",
       "      <td>99105.00303</td>\n",
       "      <td>119112.84211</td>\n",
       "      <td>141730.02221</td>\n",
       "      <td>528840.00000</td>\n",
       "    </tr>\n",
       "    <tr>\n",
       "      <th>TRIP_PROFIT</th>\n",
       "      <td>2771.00000</td>\n",
       "      <td>85538.74416</td>\n",
       "      <td>32826.19001</td>\n",
       "      <td>-9508.40000</td>\n",
       "      <td>65728.92822</td>\n",
       "      <td>83639.75704</td>\n",
       "      <td>105663.36613</td>\n",
       "      <td>512022.36000</td>\n",
       "    </tr>\n",
       "    <tr>\n",
       "      <th>TOTAL_PROFIT</th>\n",
       "      <td>2771.00000</td>\n",
       "      <td>28701181.69062</td>\n",
       "      <td>31110753.69800</td>\n",
       "      <td>-2310541.20000</td>\n",
       "      <td>6842441.77722</td>\n",
       "      <td>19025496.82687</td>\n",
       "      <td>39054308.57371</td>\n",
       "      <td>319991402.64275</td>\n",
       "    </tr>\n",
       "    <tr>\n",
       "      <th>TOTAL_COST</th>\n",
       "      <td>2771.00000</td>\n",
       "      <td>10807643.12399</td>\n",
       "      <td>13018655.59733</td>\n",
       "      <td>24235.08000</td>\n",
       "      <td>3033472.04000</td>\n",
       "      <td>6754612.80000</td>\n",
       "      <td>13587618.00000</td>\n",
       "      <td>205353858.00000</td>\n",
       "    </tr>\n",
       "    <tr>\n",
       "      <th>TOTAL_REVENUE</th>\n",
       "      <td>2771.00000</td>\n",
       "      <td>39508824.81461</td>\n",
       "      <td>42943424.71222</td>\n",
       "      <td>42823.00000</td>\n",
       "      <td>9984127.90492</td>\n",
       "      <td>26701884.00000</td>\n",
       "      <td>52908914.51415</td>\n",
       "      <td>525345260.64275</td>\n",
       "    </tr>\n",
       "    <tr>\n",
       "      <th>AVG_PROFIT</th>\n",
       "      <td>2771.00000</td>\n",
       "      <td>13914828.83232</td>\n",
       "      <td>14392325.18811</td>\n",
       "      <td>-2310541.20000</td>\n",
       "      <td>5020937.14067</td>\n",
       "      <td>9778040.71579</td>\n",
       "      <td>18367818.83138</td>\n",
       "      <td>151628367.23404</td>\n",
       "    </tr>\n",
       "    <tr>\n",
       "      <th>AVG_NUM_FLIGHTS</th>\n",
       "      <td>2771.00000</td>\n",
       "      <td>155.79899</td>\n",
       "      <td>149.13637</td>\n",
       "      <td>1.00000</td>\n",
       "      <td>69.00000</td>\n",
       "      <td>112.00000</td>\n",
       "      <td>201.00000</td>\n",
       "      <td>2395.00000</td>\n",
       "    </tr>\n",
       "  </tbody>\n",
       "</table>\n",
       "</div>"
      ],
      "text/plain": [
       "                         count            mean             std  \\\n",
       "FLIGHT_COUNT        2771.00000       325.45940       364.93760   \n",
       "NUM_AIRLINES        2771.00000         2.09076         1.46941   \n",
       "AVG_ARR_DELAY       2771.00000        -6.27652         6.73153   \n",
       "AVG_DEP_DELAY       2771.00000        -2.26723         5.62172   \n",
       "DISTANCE            2771.00000       885.88294       615.91404   \n",
       "AIRTIME             2771.00000       122.63558        72.25680   \n",
       "AVG_OCCUPANCY_RATE  2771.00000         0.65049         0.01814   \n",
       "AIRPORT_COST        2771.00000     18363.40671      2531.60880   \n",
       "MISC_COST           2771.00000     16264.81073     11308.18177   \n",
       "LATE_FEES           2771.00000        56.27030      1255.08930   \n",
       "TRIP_COST           2771.00000     34684.48774     11994.94780   \n",
       "FARE_PER_PASSENGER  2771.00000       426.00353       134.05358   \n",
       "NUM_PASSENGERS      2771.00000       260.69073         7.24601   \n",
       "BASE_REVENUE        2771.00000    111099.05651     35215.92357   \n",
       "LUGGAGE_REVENUE     2771.00000      9124.17539       253.61039   \n",
       "TRIP_REVENUE        2771.00000    120223.23190     35249.61924   \n",
       "TRIP_PROFIT         2771.00000     85538.74416     32826.19001   \n",
       "TOTAL_PROFIT        2771.00000  28701181.69062  31110753.69800   \n",
       "TOTAL_COST          2771.00000  10807643.12399  13018655.59733   \n",
       "TOTAL_REVENUE       2771.00000  39508824.81461  42943424.71222   \n",
       "AVG_PROFIT          2771.00000  13914828.83232  14392325.18811   \n",
       "AVG_NUM_FLIGHTS     2771.00000       155.79899       149.13637   \n",
       "\n",
       "                               min            25%             50%  \\\n",
       "FLIGHT_COUNT               1.00000       87.00000       225.00000   \n",
       "NUM_AIRLINES               1.00000        1.00000         2.00000   \n",
       "AVG_ARR_DELAY            -31.00000       -9.00000        -6.50000   \n",
       "AVG_DEP_DELAY            -16.00000       -4.00000        -2.50000   \n",
       "DISTANCE                  31.00000      440.50000       748.00000   \n",
       "AIRTIME                   11.48235       69.75010       107.00000   \n",
       "AVG_OCCUPANCY_RATE         0.46750        0.64364         0.65017   \n",
       "AIRPORT_COST           10000.00000    15000.00000     20000.00000   \n",
       "MISC_COST                569.16000     8087.58000     13733.28000   \n",
       "LATE_FEES                  0.00000        0.00000         0.00000   \n",
       "TRIP_COST              10569.16000    26251.58000     32246.12000   \n",
       "FARE_PER_PASSENGER        11.00000      346.37879       421.98765   \n",
       "NUM_PASSENGERS           187.00000      258.00000       261.00000   \n",
       "BASE_REVENUE            2838.00000    89973.54434    109951.38636   \n",
       "LUGGAGE_REVENUE         6545.00000     9030.00000      9135.00000   \n",
       "TRIP_REVENUE           11868.00000    99105.00303    119112.84211   \n",
       "TRIP_PROFIT            -9508.40000    65728.92822     83639.75704   \n",
       "TOTAL_PROFIT        -2310541.20000  6842441.77722  19025496.82687   \n",
       "TOTAL_COST             24235.08000  3033472.04000   6754612.80000   \n",
       "TOTAL_REVENUE          42823.00000  9984127.90492  26701884.00000   \n",
       "AVG_PROFIT          -2310541.20000  5020937.14067   9778040.71579   \n",
       "AVG_NUM_FLIGHTS            1.00000       69.00000       112.00000   \n",
       "\n",
       "                               75%              max  \n",
       "FLIGHT_COUNT             421.50000       4155.00000  \n",
       "NUM_AIRLINES               3.00000          9.50000  \n",
       "AVG_ARR_DELAY             -4.00000        208.00000  \n",
       "AVG_DEP_DELAY             -1.00000        217.50000  \n",
       "DISTANCE                1134.18909       4243.00000  \n",
       "AIRTIME                  153.27778        464.23377  \n",
       "AVG_OCCUPANCY_RATE         0.65709          0.88000  \n",
       "AIRPORT_COST           20000.00000      20000.00000  \n",
       "MISC_COST              20823.71162      77901.48000  \n",
       "LATE_FEES                  0.00000      59325.00000  \n",
       "TRIP_COST              39626.84000      99025.28000  \n",
       "FARE_PER_PASSENGER       507.86860       1999.00000  \n",
       "NUM_PASSENGERS           263.00000        352.00000  \n",
       "BASE_REVENUE          132607.73684     519740.00000  \n",
       "LUGGAGE_REVENUE         9205.00000      12320.00000  \n",
       "TRIP_REVENUE          141730.02221     528840.00000  \n",
       "TRIP_PROFIT           105663.36613     512022.36000  \n",
       "TOTAL_PROFIT        39054308.57371  319991402.64275  \n",
       "TOTAL_COST          13587618.00000  205353858.00000  \n",
       "TOTAL_REVENUE       52908914.51415  525345260.64275  \n",
       "AVG_PROFIT          18367818.83138  151628367.23404  \n",
       "AVG_NUM_FLIGHTS          201.00000       2395.00000  "
      ]
     },
     "execution_count": 263,
     "metadata": {},
     "output_type": "execute_result"
    }
   ],
   "source": [
    "# Describing the final merged dataset in a transposed fashion to view all the columns at once\n",
    "trip_data.describe().apply(lambda s: s.apply('{0:.5f}'.format)).T"
   ]
  },
  {
   "cell_type": "markdown",
   "id": "8cbe8efe",
   "metadata": {},
   "source": [
    "#### Checking the late % for the above subset of flights"
   ]
  },
  {
   "cell_type": "code",
   "execution_count": 264,
   "id": "5923d3fd",
   "metadata": {},
   "outputs": [
    {
     "data": {
      "text/html": [
       "<div>\n",
       "<style scoped>\n",
       "    .dataframe tbody tr th:only-of-type {\n",
       "        vertical-align: middle;\n",
       "    }\n",
       "\n",
       "    .dataframe tbody tr th {\n",
       "        vertical-align: top;\n",
       "    }\n",
       "\n",
       "    .dataframe thead th {\n",
       "        text-align: right;\n",
       "    }\n",
       "</style>\n",
       "<table border=\"1\" class=\"dataframe\">\n",
       "  <thead>\n",
       "    <tr style=\"text-align: right;\">\n",
       "      <th></th>\n",
       "      <th>ROUND_TRIP</th>\n",
       "      <th>LATE_PCT</th>\n",
       "    </tr>\n",
       "  </thead>\n",
       "  <tbody>\n",
       "    <tr>\n",
       "      <th>0</th>\n",
       "      <td>ABE-ATL</td>\n",
       "      <td>0.191244</td>\n",
       "    </tr>\n",
       "    <tr>\n",
       "      <th>1</th>\n",
       "      <td>ABE-CLT</td>\n",
       "      <td>0.163347</td>\n",
       "    </tr>\n",
       "    <tr>\n",
       "      <th>2</th>\n",
       "      <td>ABE-DTW</td>\n",
       "      <td>0.227823</td>\n",
       "    </tr>\n",
       "    <tr>\n",
       "      <th>3</th>\n",
       "      <td>ABE-FLL</td>\n",
       "      <td>0.200000</td>\n",
       "    </tr>\n",
       "    <tr>\n",
       "      <th>4</th>\n",
       "      <td>ABE-ORD</td>\n",
       "      <td>0.367925</td>\n",
       "    </tr>\n",
       "  </tbody>\n",
       "</table>\n",
       "</div>"
      ],
      "text/plain": [
       "  ROUND_TRIP  LATE_PCT\n",
       "0    ABE-ATL  0.191244\n",
       "1    ABE-CLT  0.163347\n",
       "2    ABE-DTW  0.227823\n",
       "3    ABE-FLL  0.200000\n",
       "4    ABE-ORD  0.367925"
      ]
     },
     "execution_count": 264,
     "metadata": {},
     "output_type": "execute_result"
    }
   ],
   "source": [
    "# late_pct = flights.groupby('TRIP').agg({'LATE_FEES':['count',np.count_nonzero]}).reset_index()\n",
    "def find_positive_pct(df):\n",
    "    return df[df['LATE_FEES'] > 0].shape[0]/df.shape[0]\n",
    "\n",
    "late_pct = flights.groupby('TRIP').apply(find_positive_pct).reset_index()\n",
    "late_pct.columns = ['TRIP','LATE_PCT']\n",
    "late_pct['ROUND_TRIP'] = late_pct['TRIP'].apply(lambda x: make_key(x))\n",
    "\n",
    "late_data = late_pct.groupby('ROUND_TRIP')['LATE_PCT'].mean().reset_index()\n",
    "late_data.head()"
   ]
  },
  {
   "cell_type": "markdown",
   "id": "02819715",
   "metadata": {},
   "source": [
    "As seen they are the top roundtrips that have highest late fees percentage."
   ]
  },
  {
   "cell_type": "code",
   "execution_count": 265,
   "id": "ba81ceda",
   "metadata": {},
   "outputs": [],
   "source": [
    "# Merge the trips data with the late fees data calculated above\n",
    "trip_data = pd.merge(trip_data,\n",
    "                     late_data,\n",
    "                     on = 'ROUND_TRIP',\n",
    "                     how = 'inner')"
   ]
  },
  {
   "cell_type": "markdown",
   "id": "750edec4",
   "metadata": {},
   "source": [
    "### Preprocessing for Visualization"
   ]
  },
  {
   "cell_type": "code",
   "execution_count": 266,
   "id": "9cbee0c5",
   "metadata": {},
   "outputs": [],
   "source": [
    "# Splitting he roundtrip as Origin and Destination\n",
    "trip_data['ORIGIN'] = trip_data['ROUND_TRIP'].apply(lambda x: x.split('-')[0])\n",
    "trip_data['DESTINATION'] = trip_data['ROUND_TRIP'].apply(lambda x: x.split('-')[1])"
   ]
  },
  {
   "cell_type": "code",
   "execution_count": 267,
   "id": "1575bf8d",
   "metadata": {},
   "outputs": [],
   "source": [
    "# Merging the trips data with US airports subset data on Origin and IATA Code\n",
    "trip_data = pd.merge(trip_data,\n",
    "                            US_airport_subset[['IATA_CODE','COORDINATES']],\n",
    "                            left_on = 'ORIGIN',\n",
    "                            right_on = 'IATA_CODE',\n",
    "                            how = 'inner')"
   ]
  },
  {
   "cell_type": "code",
   "execution_count": 268,
   "id": "ae600eae",
   "metadata": {},
   "outputs": [],
   "source": [
    "# Dropping the duplicate column and renaming the coordinates column \n",
    "trip_data.drop(['IATA_CODE'], axis = 1, inplace=True)\n",
    "trip_data.rename(columns={'COORDINATES':'SOURCE_COORDINATES'}, inplace=True)"
   ]
  },
  {
   "cell_type": "code",
   "execution_count": 269,
   "id": "e34be709",
   "metadata": {},
   "outputs": [],
   "source": [
    "# Merging the trips data with US airports subset data on Destination and IATA Code\n",
    "trip_data = pd.merge(trip_data,\n",
    "                            US_airport_subset[['IATA_CODE','COORDINATES']],\n",
    "                            left_on = 'DESTINATION',\n",
    "                            right_on = 'IATA_CODE',\n",
    "                            how = 'inner')"
   ]
  },
  {
   "cell_type": "code",
   "execution_count": 270,
   "id": "bf304c8a",
   "metadata": {},
   "outputs": [],
   "source": [
    "trip_data.drop(['IATA_CODE'], axis = 1, inplace=True)\n",
    "trip_data.rename(columns={'COORDINATES':'DESTINATION_COORDINATES'}, inplace=True)"
   ]
  },
  {
   "cell_type": "code",
   "execution_count": 271,
   "id": "6e837861",
   "metadata": {},
   "outputs": [],
   "source": [
    "# Splitting the Latitude and Longitude for each cooredinate of the orgin and destination of the trip\n",
    "trip_data['SOURCE_LONG'] = trip_data['SOURCE_COORDINATES'].apply(lambda x: float(x.split(',')[0]))\n",
    "trip_data['SOURCE_LAT'] = trip_data['SOURCE_COORDINATES'].apply(lambda x: float(x.split(',')[1]))\n",
    "trip_data['DESTINATION_LONG'] = trip_data['DESTINATION_COORDINATES'].apply(lambda x: float(x.split(',')[0]))\n",
    "trip_data['DESTINATION_LAT'] = trip_data['DESTINATION_COORDINATES'].apply(lambda x: float(x.split(',')[1]))"
   ]
  },
  {
   "cell_type": "code",
   "execution_count": 272,
   "id": "eedda293",
   "metadata": {},
   "outputs": [
    {
     "ename": "SyntaxError",
     "evalue": "invalid syntax (<ipython-input-272-24d8809a0653>, line 10)",
     "output_type": "error",
     "traceback": [
      "\u001b[0;36m  File \u001b[0;32m\"<ipython-input-272-24d8809a0653>\"\u001b[0;36m, line \u001b[0;32m10\u001b[0m\n\u001b[0;31m    plotly graph objects\u001b[0m\n\u001b[0m           ^\u001b[0m\n\u001b[0;31mSyntaxError\u001b[0m\u001b[0;31m:\u001b[0m invalid syntax\n"
     ]
    }
   ],
   "source": [
    "# Fuction to plot the geographic mapping\n",
    "def plot_flight_path(df, title):\n",
    "    \n",
    "    airport_list = list(set(list(df['ORIGIN'].values) + list(df['DESTINATION'].values)))\n",
    "    airports = US_airport_subset[US_airport_subset['IATA_CODE'].isin(airport_list)][['IATA_CODE','COORDINATES']]\n",
    "    airports['LONG'] = airports['COORDINATES'].apply(lambda x: float(x.split(',')[0]))\n",
    "    airports['LAT'] = airports['COORDINATES'].apply(lambda x: float(x.split(',')[1]))\n",
    "    \n",
    "    fig = go.Figure()\n",
    "plotly graph objects \n",
    "    fig.add_trace(go.Scattergeo(\n",
    "        locationmode = 'USA-states',\n",
    "        lon = airports['LONG'],\n",
    "        lat = airports['LAT'],\n",
    "#         hoverinfo = 'text',\n",
    "#         text = 'AIRPORT',\n",
    "        mode = 'markers',\n",
    "        marker = dict(\n",
    "            size = 5,\n",
    "            color = 'rgb(255, 0, 0)',\n",
    "            line = dict(\n",
    "                width = 4,\n",
    "                color = 'rgba(68, 68, 68, 0)'\n",
    "            )\n",
    "        )))\n",
    "\n",
    "    fig.add_trace(go.Scattergeo(\n",
    "        locationmode = 'USA-states',\n",
    "        lon = airports['LONG'],\n",
    "        lat = airports['LAT'],\n",
    "        hoverinfo = 'text',\n",
    "        text = airports['IATA_CODE'],\n",
    "        mode = 'text',\n",
    "        ))\n",
    "\n",
    "    \n",
    "    lons = []\n",
    "    lats = []\n",
    "    import numpy as np\n",
    "\n",
    "    lons = np.empty(3 * len(df))\n",
    "    lons[::3] = df['SOURCE_LONG']\n",
    "    lons[1::3] = df['DESTINATION_LONG']\n",
    "    lons[2::3] = None\n",
    "\n",
    "    lats = np.empty(3 * len(df))\n",
    "    lats[::3] = df['SOURCE_LAT']\n",
    "    lats[1::3] = df['DESTINATION_LAT']\n",
    "    lats[2::3] = None\n",
    "\n",
    "    fig.add_trace(\n",
    "        go.Scattergeo(\n",
    "            locationmode = 'USA-states',\n",
    "            lon = lons,\n",
    "            lat = lats,\n",
    "            mode = 'lines',\n",
    "            line = dict(width = 1,color = 'green'),\n",
    "            opacity = 0.5\n",
    "        )\n",
    "    )\n",
    "\n",
    "    fig.update_layout(\n",
    "        title_text = title,\n",
    "        showlegend = False,\n",
    "        geo = go.layout.Geo(\n",
    "            scope = 'north america',\n",
    "            projection_type = 'azimuthal equal area',\n",
    "            showland = True,\n",
    "            landcolor = 'rgb(243, 243, 243)',\n",
    "            countrycolor = 'rgb(204, 204, 204)',\n",
    "        ),\n",
    "        height=700,\n",
    "    )\n",
    "\n",
    "    fig.show()"
   ]
  },
  {
   "cell_type": "markdown",
   "id": "f0272691",
   "metadata": {},
   "source": [
    "### 1. Top 10 Busiest round trips in terms of number of flights in a quarter"
   ]
  },
  {
   "cell_type": "code",
   "execution_count": null,
   "id": "b9cb9051",
   "metadata": {},
   "outputs": [],
   "source": [
    "# Display the 10 most busiest routes trips\n",
    "busiest_routes = trip_data.sort_values(by='FLIGHT_COUNT', ascending=False).head(10)\n",
    "busiest_routes[['ROUND_TRIP','FLIGHT_COUNT','NUM_AIRLINES','AVG_NUM_FLIGHTS']]"
   ]
  },
  {
   "cell_type": "code",
   "execution_count": null,
   "id": "0952c196",
   "metadata": {},
   "outputs": [],
   "source": [
    "# Plotting the busiest trips on a geographic map\n",
    "plot_flight_path(busiest_routes, 'Top 10 Busiest flight paths')"
   ]
  },
  {
   "cell_type": "markdown",
   "id": "607f72a6",
   "metadata": {},
   "source": [
    "### 2. Top 10 Profitable round trips in terms of total profit in a quarter"
   ]
  },
  {
   "cell_type": "code",
   "execution_count": 273,
   "id": "c772e1e6",
   "metadata": {},
   "outputs": [
    {
     "data": {
      "text/html": [
       "<div>\n",
       "<style scoped>\n",
       "    .dataframe tbody tr th:only-of-type {\n",
       "        vertical-align: middle;\n",
       "    }\n",
       "\n",
       "    .dataframe tbody tr th {\n",
       "        vertical-align: top;\n",
       "    }\n",
       "\n",
       "    .dataframe thead th {\n",
       "        text-align: right;\n",
       "    }\n",
       "</style>\n",
       "<table border=\"1\" class=\"dataframe\">\n",
       "  <thead>\n",
       "    <tr style=\"text-align: right;\">\n",
       "      <th></th>\n",
       "      <th>ROUND_TRIP</th>\n",
       "      <th>NUM_AIRLINES</th>\n",
       "      <th>AVG_PROFIT</th>\n",
       "    </tr>\n",
       "  </thead>\n",
       "  <tbody>\n",
       "    <tr>\n",
       "      <th>1520</th>\n",
       "      <td>HNL-OGG</td>\n",
       "      <td>1.0</td>\n",
       "      <td>151628367</td>\n",
       "    </tr>\n",
       "    <tr>\n",
       "      <th>1664</th>\n",
       "      <td>CLT-GSP</td>\n",
       "      <td>1.0</td>\n",
       "      <td>134531533</td>\n",
       "    </tr>\n",
       "    <tr>\n",
       "      <th>2617</th>\n",
       "      <td>CLT-FLO</td>\n",
       "      <td>1.0</td>\n",
       "      <td>128517612</td>\n",
       "    </tr>\n",
       "    <tr>\n",
       "      <th>392</th>\n",
       "      <td>DAL-HOU</td>\n",
       "      <td>1.0</td>\n",
       "      <td>123542349</td>\n",
       "    </tr>\n",
       "    <tr>\n",
       "      <th>1037</th>\n",
       "      <td>IAH-SFO</td>\n",
       "      <td>1.0</td>\n",
       "      <td>121866745</td>\n",
       "    </tr>\n",
       "    <tr>\n",
       "      <th>1805</th>\n",
       "      <td>ATL-MEM</td>\n",
       "      <td>1.0</td>\n",
       "      <td>120068352</td>\n",
       "    </tr>\n",
       "    <tr>\n",
       "      <th>310</th>\n",
       "      <td>CLT-DFW</td>\n",
       "      <td>1.0</td>\n",
       "      <td>119645959</td>\n",
       "    </tr>\n",
       "    <tr>\n",
       "      <th>1852</th>\n",
       "      <td>DFW-MIA</td>\n",
       "      <td>1.0</td>\n",
       "      <td>114076503</td>\n",
       "    </tr>\n",
       "    <tr>\n",
       "      <th>2233</th>\n",
       "      <td>ATL-SAV</td>\n",
       "      <td>1.0</td>\n",
       "      <td>109521780</td>\n",
       "    </tr>\n",
       "    <tr>\n",
       "      <th>288</th>\n",
       "      <td>AUS-DFW</td>\n",
       "      <td>1.0</td>\n",
       "      <td>94936921</td>\n",
       "    </tr>\n",
       "  </tbody>\n",
       "</table>\n",
       "</div>"
      ],
      "text/plain": [
       "     ROUND_TRIP  NUM_AIRLINES  AVG_PROFIT\n",
       "1520    HNL-OGG           1.0   151628367\n",
       "1664    CLT-GSP           1.0   134531533\n",
       "2617    CLT-FLO           1.0   128517612\n",
       "392     DAL-HOU           1.0   123542349\n",
       "1037    IAH-SFO           1.0   121866745\n",
       "1805    ATL-MEM           1.0   120068352\n",
       "310     CLT-DFW           1.0   119645959\n",
       "1852    DFW-MIA           1.0   114076503\n",
       "2233    ATL-SAV           1.0   109521780\n",
       "288     AUS-DFW           1.0    94936921"
      ]
     },
     "execution_count": 273,
     "metadata": {},
     "output_type": "execute_result"
    }
   ],
   "source": [
    "# Display the 10 most profitable routes trips\n",
    "profitable_routes = trip_data.sort_values(by='AVG_PROFIT', ascending=False).head(10)\n",
    "profitable_routes['AVG_PROFIT'] = profitable_routes['AVG_PROFIT'].astype('int64') \n",
    "profitable_routes[['ROUND_TRIP','NUM_AIRLINES','AVG_PROFIT']]"
   ]
  },
  {
   "cell_type": "code",
   "execution_count": null,
   "id": "0a6e0ae9",
   "metadata": {},
   "outputs": [],
   "source": [
    "# Plotting the profitable trips on a geographic map\n",
    "plot_flight_path(profitable_routes, 'Top 10 Profitable routes')"
   ]
  },
  {
   "cell_type": "markdown",
   "id": "4a5ce1dd",
   "metadata": {},
   "source": [
    "#### Summary Cols"
   ]
  },
  {
   "cell_type": "code",
   "execution_count": null,
   "id": "02064e22",
   "metadata": {},
   "outputs": [],
   "source": [
    "# Dropping any redundant columns to main consistency \n",
    "drop_cols = ['ORIGIN','DESTINATION','SOURCE_COORDINATES','DESTINATION_COORDINATES','SOURCE_LONG',\n",
    "             'SOURCE_LAT','DESTINATION_LONG','DESTINATION_LAT']\n",
    "trip_data[trip_data['ROUND_TRIP'].isin(profitable_routes['ROUND_TRIP'].head(10).values)].drop(drop_cols, axis=1).T"
   ]
  },
  {
   "cell_type": "markdown",
   "id": "491075d6",
   "metadata": {},
   "source": [
    "### 3. Recommendation"
   ]
  },
  {
   "cell_type": "markdown",
   "id": "91814fc5",
   "metadata": {},
   "source": [
    "**The top 10 busiest and top 10 profitable routes as candidate regions for setting up operations. Since punctuality is a big part of the company brand image: \"ON TIME, FOR YOU\", the late time on a particular route is factored as well.**\n",
    "\n",
    "**Also, it is observed that most of the top 10 profitable airlines is because of it being served by just a single airline for that route. This would make a competitor entry difficult. Hence we also factor in the number of airlines served by the route and put a minimum cap of being served by 3 airlines for the recommendation for easier market entry. Hence to achieve differentiation from competitors also to not provoke competition from the top performing airlines.**"
   ]
  },
  {
   "cell_type": "code",
   "execution_count": null,
   "id": "3f659c04",
   "metadata": {},
   "outputs": [],
   "source": [
    "# Classing the trips in accordance with the busiest and profitable trips.\n",
    "busy_list = list(busiest_routes['ROUND_TRIP'].head(10).values)\n",
    "profit_list = list(profitable_routes['ROUND_TRIP'].head(10).values)\n",
    "\n",
    "filter_list = list(set(busy_list + profit_list))\n",
    "trips_subset = trip_data[(trip_data['ROUND_TRIP'].isin(filter_list)) &\n",
    "                         (trip_data['NUM_AIRLINES'] >= 3)]"
   ]
  },
  {
   "cell_type": "code",
   "execution_count": null,
   "id": "82fd9fdb",
   "metadata": {
    "scrolled": false
   },
   "outputs": [],
   "source": [
    "# Sorting the trips with the most charged late percentage\n",
    "trips_subset.sort_values(by='LATE_PCT').head(5).T"
   ]
  },
  {
   "cell_type": "markdown",
   "id": "558f0740",
   "metadata": {},
   "source": [
    "#### Recommended round trips"
   ]
  },
  {
   "cell_type": "code",
   "execution_count": null,
   "id": "95e55830",
   "metadata": {},
   "outputs": [],
   "source": [
    "# Hence these are the recommended trips based on the late percentage as punctualality plays a key role for the brand\n",
    "recommended_trips = trips_subset.sort_values(by='LATE_PCT').head(5)['ROUND_TRIP'].values\n",
    "recommended_trip = trips_subset[trips_subset['ROUND_TRIP'].isin(recommended_trips)]\n",
    "recommended_trip.drop(['TOTAL_PROFIT','TOTAL_COST','TOTAL_REVENUE'], axis = 1, inplace=True)"
   ]
  },
  {
   "cell_type": "code",
   "execution_count": null,
   "id": "ded37f2b",
   "metadata": {},
   "outputs": [],
   "source": [
    "# Display the Origin and Destination for the round trip with the Avg profit made by each\n",
    "recommended_trip['ORIGIN'] = recommended_trip['ROUND_TRIP'].apply(lambda x: x.split('-')[0])\n",
    "recommended_trip['DESTINATION'] = recommended_trip['ROUND_TRIP'].apply(lambda x: x.split('-')[1])\n",
    "recommended_trip['AVG_PROFIT'] = recommended_trip['AVG_PROFIT'].astype('int64') \n",
    "recommended_trip[['ORIGIN','DESTINATION','AVG_PROFIT']]"
   ]
  },
  {
   "cell_type": "markdown",
   "id": "0a74b94d",
   "metadata": {},
   "source": [
    "### 4. Number of flights to breakeven"
   ]
  },
  {
   "cell_type": "code",
   "execution_count": null,
   "id": "c10d1643",
   "metadata": {},
   "outputs": [],
   "source": [
    "# Calcuting the number of flights and quarters to breakeven for each recommended route\n",
    "recommended_trip['FLIGHTS_TO_BREAKEVEN'] = np.ceil(90*1000000/recommended_trip['TRIP_REVENUE'])\n",
    "recommended_trip['AVG_FLIGHTS'] = round(recommended_trip['FLIGHT_COUNT']/recommended_trip['NUM_AIRLINES'],0)\n",
    "recommended_trip['NUM_QUARTER_TO_BREAKEVEN'] = np.ceil(recommended_trip['FLIGHTS_TO_BREAKEVEN']/recommended_trip['AVG_FLIGHTS'])"
   ]
  },
  {
   "cell_type": "markdown",
   "id": "da191d10",
   "metadata": {},
   "source": [
    "#### Time taken to breakeven"
   ]
  },
  {
   "cell_type": "code",
   "execution_count": null,
   "id": "3724046c",
   "metadata": {},
   "outputs": [],
   "source": [
    "# Displaying the breakeven details for each trip\n",
    "recommended_trip[['ROUND_TRIP','FLIGHTS_TO_BREAKEVEN','AVG_FLIGHTS','NUM_QUARTER_TO_BREAKEVEN','FARE_PER_PASSENGER']]"
   ]
  },
  {
   "cell_type": "code",
   "execution_count": null,
   "id": "b614da5a",
   "metadata": {},
   "outputs": [],
   "source": [
    "# Plotting the geographic mapping of the recommended trips\n",
    "plot_flight_path(recommended_trip, 'Recommended Trips')"
   ]
  },
  {
   "cell_type": "markdown",
   "id": "cc8f3638",
   "metadata": {},
   "source": [
    "### 5. KPI's to track for future"
   ]
  },
  {
   "cell_type": "markdown",
   "id": "acd1f7f0",
   "metadata": {},
   "source": [
    "The airlines industry is made up of companies whose primary business activities are focused on air transportation for passengers and cargo and includes major network carriers, regional carriers and low-cost carriers. Below is current consensus forecast data on capacity metrics, such as available seat miles (ASMs); utilization metrics, such as load factor; and other airline KPIs used to look for an investment edge, including revenue passenger miles (RPMs), passenger revenue per mile flown (PRASM), total costs and expenses per ASM (CASM) and fuel expenses. These key airline metrics aid market participants in identifying airline trends and future performance of airline companies, including Southwest Airlines, Air Canada, Air China and more.\n",
    "\n",
    "From the above data analysis the basic understanding of the airline market expectations whether at a company or an industry level should be establsihed. \n",
    "\n",
    "There are two Metrics that can be looked into for further use.\n",
    "  \n",
    "  1. **PRASM**: Passenger Revenue per Available Seat Mile is calculated by dividing passenger revenue by available seat miles. PRASM is also equivalent to the product of load factor and passenger yield. \n",
    "  2. **TRASM**: Total Revenue per Available Seat Mile is calculated by a sum of total revenue, ancillary revenue and cargo revenue\n",
    "Both these metrics have few common KPI's which are catagorized into:\n",
    "  1. Volume factors\n",
    "  2. Price Factors  \n",
    "  3. Utilizations facotrs \n",
    "  \n",
    "These can be further broken down into few other key factors:\n",
    "  - **PLF**:Passenger Load Factor(%) is a measure of number revenue passengers miles(or km) expressed as percentage of ASM.\n",
    "  - **Revenue Passenger Miles(RPM)** is a measure of volume and is calculated by number of passengers multiplied by the miles of a flight.\n",
    "  - **Passesger(ASM) Available Seat Miles** is a measure of airline capacity and is calculated by taking the number of seats available multiplied by distance. \n",
    "  - **Traffic** = Capacity * PLF \n",
    "  - **Revenue Per Available Seat Mile(RASM)** is calulated by dividing passenger revenue by avaliable seat miles.\n",
    "  - **Cost per Available Seat Mile(CASM)** is a measure of effiency and is calculated by taking operating expenses and dividing by ASM.\n",
    "  - **CASM-Ex** is calculated by operating expenses dividing by ASM and then subtracting the cost of fuel.\n",
    "  - **Yield** is defined by Passenger Yield Cents and Cargo Yield Cents\n",
    "  - **Revenue** = Traffic * Yield\n",
    "  - **Operating Income** = Revenue - Operating Expenses(labor compensation, fuel consumption, airport landing fees, airport maintainence)\n"
   ]
  },
  {
   "cell_type": "markdown",
   "id": "f7d243ef",
   "metadata": {},
   "source": [
    "### What's next?\n",
    "\n",
    "In the analysis, we have aggregated the data at a **ROUND TRIP** level. That is all flights flying from a particular ORIGIN to DESTINATION and back, irrespective of the carrier, have been considered equal. This may introduce **SIMPSONS PARADOX** in the form of **AGGREGATION BIAS** and analyzing the above information at a carrier level may bring out additional insights.  \n",
    "  \n",
    "Further, another factor that we have ignored in this analysis is **TIME**. We have considered all the flights at a **QUARTER** level. We can further break this down into **MONTH, WEEK and DAY level** data to obtain additional insights.\n"
   ]
  },
  {
   "cell_type": "code",
   "execution_count": null,
   "id": "93a8548c",
   "metadata": {},
   "outputs": [],
   "source": []
  },
  {
   "cell_type": "code",
   "execution_count": null,
   "id": "ccd85243",
   "metadata": {},
   "outputs": [],
   "source": []
  }
 ],
 "metadata": {
  "kernelspec": {
   "display_name": "Python 3",
   "language": "python",
   "name": "python3"
  },
  "language_info": {
   "codemirror_mode": {
    "name": "ipython",
    "version": 3
   },
   "file_extension": ".py",
   "mimetype": "text/x-python",
   "name": "python",
   "nbconvert_exporter": "python",
   "pygments_lexer": "ipython3",
   "version": "3.8.8"
  },
  "toc": {
   "base_numbering": 1,
   "nav_menu": {},
   "number_sections": true,
   "sideBar": true,
   "skip_h1_title": false,
   "title_cell": "Index",
   "title_sidebar": "Index",
   "toc_cell": true,
   "toc_position": {},
   "toc_section_display": true,
   "toc_window_display": true
  }
 },
 "nbformat": 4,
 "nbformat_minor": 5
}
